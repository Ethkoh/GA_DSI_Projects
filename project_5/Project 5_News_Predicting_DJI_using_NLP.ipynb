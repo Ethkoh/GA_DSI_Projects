{
 "cells": [
  {
   "cell_type": "markdown",
   "metadata": {},
   "source": [
    "# DJI Price Direction Prediction though Natural Language Processing\n",
    "\n",
    "----\n",
    "*By Ethan Koh,  29 June 2020*"
   ]
  },
  {
   "cell_type": "markdown",
   "metadata": {},
   "source": [
    "# Background"
   ]
  },
  {
   "cell_type": "markdown",
   "metadata": {},
   "source": [
    "The goal of almost every professional or casual financial investor is to better predict stock market prices and reap positive gains. Founded in 1885, the Dow Jones Industrial Average (DJIA) is a stock market index that measures the stock performance of 30 large companies listed on stock exchanges in the United States. It consisted of companies such as 3M, Apple Inc, etc. \n",
    "\n",
    "Many factors can affect stock prices, ranging from economic landscape, companies acquisitions, to political instability etc. It is almost impossible to pin point specific features that contribute to stock prices movement. This project is not simply about predicting the stock market movement, but also to understand how everyday news might contribute to stock prices movement, if any."
   ]
  },
  {
   "cell_type": "markdown",
   "metadata": {},
   "source": [
    "# Problem Statement "
   ]
  },
  {
   "cell_type": "markdown",
   "metadata": {},
   "source": [
    "Have you thought of putting some savings into the stock market thinking it's sufficient to watch everyday world news to roughly know the stock prices movement? Using the top 25 up voted world news title from [Reddit](https://www.redditinc.com/) users under the subreddit [r/worldnews](https://www.reddit.com/r/worldnews/), we are going to explore and build a model in predicting whether Dow Jones Index(DJI) will increase,decrease or remain the same for a given day. We are having a binary classification as our target variable where DJI labels \"1\" if the price increase or stays the same, and \"0\" when the price decreases from the previous trading day. We will be using accuracy as our scoring metric."
   ]
  },
  {
   "cell_type": "markdown",
   "metadata": {},
   "source": [
    "# Dataset"
   ]
  },
  {
   "cell_type": "markdown",
   "metadata": {},
   "source": [
    "Dataset is obtained from Kaggle provided by Sun.\n",
    "The first column is \"Date\", the second is \"Label\", and the following ones are news headlines ranging from \"Top1\" to \"Top25\". News titles are scrapped from reddit.\n",
    "\n",
    "Source: Sun, J. (2016, August). Daily News for Stock Market Prediction, Version 1. Retrieved [31 May 2020] from https://www.kaggle.com/aaron7sun/stocknews."
   ]
  },
  {
   "cell_type": "markdown",
   "metadata": {},
   "source": [
    "# Executive Summary"
   ]
  },
  {
   "cell_type": "markdown",
   "metadata": {},
   "source": [
    "Using top 25 world news title from reddit alone may not be a sufficient corpus to train a good model for predicting whether price will go up or down for DJIA. The test score is worse than the baseline model(score:0.5424) despite running a few models and vectorizers. The best model, though below baseline model, was using 3 ngram CountVectorizer with Logisitic Regression with validation accuracy score of 0.5150. Best training Accuracy score during GridSearch was 0.6253. However, cross validation mean score is 0.5153. Overall there is still underfit since validation score is not better than baseline and training score.\n",
    "\n",
    "Sentimental Analysis using TextBlob was then used to give sentiment scores to the news to model instead of relying on just vectorizing tools from Natural Language Processing. However, the score was still poor below baseline model. Looking into the sentimental score EDA suggest many were give neutral sentiment of score 0, unable to facilitate in modeling.\n",
    "\n",
    "Though the classification model was not successful, a glimpse into the EDA suggests that everyday news might have little to contribute to the DJIA pricing movement. Hence, this project concludes that watching daily everyday news alone might not be sufficient to decide whether prices are trending upwards or downwards at any given day. Thus, more precaution and work have to be done while trading in stock market. One should not simply trade based on watching daily world news."
   ]
  },
  {
   "cell_type": "markdown",
   "metadata": {},
   "source": [
    "# Content"
   ]
  },
  {
   "cell_type": "markdown",
   "metadata": {},
   "source": [
    "- [Import Libraries](#Import-Libraries)\n",
    "- [Load CSV](#Load-CSV)\n",
    "- [Macro Analysis](#Macro-Analysis)\n",
    "- [Split data into training and testing sets](#Split-data-into-training-and-testing-sets)\n",
    "- [Baseline Model](#Baseline-Model)\n",
    "- [Preprocessing](#Preprocessing)\n",
    "- [Exploratory Data Analysis](#Exploratory-Data-Analysis)\n",
    "- [Fit Logistic Model with CountVectorizer 1-gram](#Fit-Logistic-Model-with-CountVectorizer-1-gram)\n",
    "- [Fit Logistic Model with CountVectorizer 2-gram](#Fit-Logistic-Model-with-CountVectorizer-2-gram)\n",
    "- [Fit Logistic Model with CountVectorizer 3-gram](#Fit-Logistic-Model-with-CountVectorizer-3-gram)\n",
    "- [Fit Logistic Model with Tfidf Vectorizer 2-gram](#Fit-Logistic-Model-with-Tfidf-Vectorizer-2-gram)\n",
    "- [Fit Random Forest with CountVectorizer 2-gram](#Fit-Random-Forest-with-CountVectorizer-2-gram)\n",
    "- [Fit Random Forest with Tfidf Vectorizer](#Fit-Random-Forest-with-Tfidf-Vectorizer)\n",
    "- [Fit Naive Bayes with CountVectorizer 2-gram](#Fit-Naive-Bayes-with-CountVectorizer-2-gram)\n",
    "- [Sentimental Score Feature Engineering](#Sentimental-Score-Feature-Engineering)\n",
    "- [Fit Logistic Regression for the Sentiment Score](#Fit-Logistic-Regression-for-the-Sentiment-Score)\n",
    "- [Best Model: Logistic Regression with CountVectorizer 3-gram](#Best-Model:-Logistic-Regression-with-CountVectorizer-3-gram)\n",
    "- [Conclusion](#Conclusion)\n",
    "- [Limitations and Recommendation](#Limitations-and-Recommendation)"
   ]
  },
  {
   "cell_type": "markdown",
   "metadata": {},
   "source": [
    "# Import Libraries"
   ]
  },
  {
   "cell_type": "code",
   "execution_count": 1,
   "metadata": {},
   "outputs": [],
   "source": [
    "from tqdm.notebook import tqdm\n",
    "from bs4 import BeautifulSoup  \n",
    "import nltk\n",
    "from nltk.corpus import stopwords\n",
    "from nltk.stem import WordNetLemmatizer\n",
    "from sklearn.naive_bayes import MultinomialNB\n",
    "from sklearn.pipeline import Pipeline\n",
    "from sklearn.linear_model import LogisticRegression\n",
    "from sklearn.model_selection import train_test_split, cross_val_score, GridSearchCV\n",
    "from sklearn.metrics import roc_curve, auc, confusion_matrix\n",
    "from sklearn.ensemble import RandomForestClassifier\n",
    "from sklearn.feature_extraction.text import CountVectorizer, TfidfVectorizer\n",
    "from wordcloud import WordCloud, STOPWORDS\n",
    "import matplotlib.pyplot as plt\n",
    "import collections\n",
    "import itertools\n",
    "import pandas as pd\n",
    "import re\n",
    "import math\n",
    "import numpy as np\n",
    "import seaborn as sns\n",
    "from matplotlib_venn import venn2,venn2_circles\n",
    "from textblob import TextBlob"
   ]
  },
  {
   "cell_type": "markdown",
   "metadata": {},
   "source": [
    "# Load CSV"
   ]
  },
  {
   "cell_type": "code",
   "execution_count": 2,
   "metadata": {},
   "outputs": [],
   "source": [
    "# Read csv\n",
    "data = pd.read_csv('./datasets/Combined_News_DJIA.csv')"
   ]
  },
  {
   "cell_type": "code",
   "execution_count": 3,
   "metadata": {},
   "outputs": [
    {
     "data": {
      "text/html": [
       "<div>\n",
       "<style scoped>\n",
       "    .dataframe tbody tr th:only-of-type {\n",
       "        vertical-align: middle;\n",
       "    }\n",
       "\n",
       "    .dataframe tbody tr th {\n",
       "        vertical-align: top;\n",
       "    }\n",
       "\n",
       "    .dataframe thead th {\n",
       "        text-align: right;\n",
       "    }\n",
       "</style>\n",
       "<table border=\"1\" class=\"dataframe\">\n",
       "  <thead>\n",
       "    <tr style=\"text-align: right;\">\n",
       "      <th></th>\n",
       "      <th>Date</th>\n",
       "      <th>Label</th>\n",
       "      <th>Top1</th>\n",
       "      <th>Top2</th>\n",
       "      <th>Top3</th>\n",
       "      <th>Top4</th>\n",
       "      <th>Top5</th>\n",
       "      <th>Top6</th>\n",
       "      <th>Top7</th>\n",
       "      <th>Top8</th>\n",
       "      <th>...</th>\n",
       "      <th>Top16</th>\n",
       "      <th>Top17</th>\n",
       "      <th>Top18</th>\n",
       "      <th>Top19</th>\n",
       "      <th>Top20</th>\n",
       "      <th>Top21</th>\n",
       "      <th>Top22</th>\n",
       "      <th>Top23</th>\n",
       "      <th>Top24</th>\n",
       "      <th>Top25</th>\n",
       "    </tr>\n",
       "  </thead>\n",
       "  <tbody>\n",
       "    <tr>\n",
       "      <th>0</th>\n",
       "      <td>2008-08-08</td>\n",
       "      <td>0</td>\n",
       "      <td>b\"Georgia 'downs two Russian warplanes' as cou...</td>\n",
       "      <td>b'BREAKING: Musharraf to be impeached.'</td>\n",
       "      <td>b'Russia Today: Columns of troops roll into So...</td>\n",
       "      <td>b'Russian tanks are moving towards the capital...</td>\n",
       "      <td>b\"Afghan children raped with 'impunity,' U.N. ...</td>\n",
       "      <td>b'150 Russian tanks have entered South Ossetia...</td>\n",
       "      <td>b\"Breaking: Georgia invades South Ossetia, Rus...</td>\n",
       "      <td>b\"The 'enemy combatent' trials are nothing but...</td>\n",
       "      <td>...</td>\n",
       "      <td>b'Georgia Invades South Ossetia - if Russia ge...</td>\n",
       "      <td>b'Al-Qaeda Faces Islamist Backlash'</td>\n",
       "      <td>b'Condoleezza Rice: \"The US would not act to p...</td>\n",
       "      <td>b'This is a busy day:  The European Union has ...</td>\n",
       "      <td>b\"Georgia will withdraw 1,000 soldiers from Ir...</td>\n",
       "      <td>b'Why the Pentagon Thinks Attacking Iran is a ...</td>\n",
       "      <td>b'Caucasus in crisis: Georgia invades South Os...</td>\n",
       "      <td>b'Indian shoe manufactory  - And again in a se...</td>\n",
       "      <td>b'Visitors Suffering from Mental Illnesses Ban...</td>\n",
       "      <td>b\"No Help for Mexico's Kidnapping Surge\"</td>\n",
       "    </tr>\n",
       "    <tr>\n",
       "      <th>1</th>\n",
       "      <td>2008-08-11</td>\n",
       "      <td>1</td>\n",
       "      <td>b'Why wont America and Nato help us? If they w...</td>\n",
       "      <td>b'Bush puts foot down on Georgian conflict'</td>\n",
       "      <td>b\"Jewish Georgian minister: Thanks to Israeli ...</td>\n",
       "      <td>b'Georgian army flees in disarray as Russians ...</td>\n",
       "      <td>b\"Olympic opening ceremony fireworks 'faked'\"</td>\n",
       "      <td>b'What were the Mossad with fraudulent New Zea...</td>\n",
       "      <td>b'Russia angered by Israeli military sale to G...</td>\n",
       "      <td>b'An American citizen living in S.Ossetia blam...</td>\n",
       "      <td>...</td>\n",
       "      <td>b'Israel and the US behind the Georgian aggres...</td>\n",
       "      <td>b'\"Do not believe TV, neither Russian nor Geor...</td>\n",
       "      <td>b'Riots are still going on in Montreal (Canada...</td>\n",
       "      <td>b'China to overtake US as largest manufacturer'</td>\n",
       "      <td>b'War in South Ossetia [PICS]'</td>\n",
       "      <td>b'Israeli Physicians Group Condemns State Tort...</td>\n",
       "      <td>b' Russia has just beaten the United States ov...</td>\n",
       "      <td>b'Perhaps *the* question about the Georgia - R...</td>\n",
       "      <td>b'Russia is so much better at war'</td>\n",
       "      <td>b\"So this is what it's come to: trading sex fo...</td>\n",
       "    </tr>\n",
       "    <tr>\n",
       "      <th>2</th>\n",
       "      <td>2008-08-12</td>\n",
       "      <td>0</td>\n",
       "      <td>b'Remember that adorable 9-year-old who sang a...</td>\n",
       "      <td>b\"Russia 'ends Georgia operation'\"</td>\n",
       "      <td>b'\"If we had no sexual harassment we would hav...</td>\n",
       "      <td>b\"Al-Qa'eda is losing support in Iraq because ...</td>\n",
       "      <td>b'Ceasefire in Georgia: Putin Outmaneuvers the...</td>\n",
       "      <td>b'Why Microsoft and Intel tried to kill the XO...</td>\n",
       "      <td>b'Stratfor: The Russo-Georgian War and the Bal...</td>\n",
       "      <td>b\"I'm Trying to Get a Sense of This Whole Geor...</td>\n",
       "      <td>...</td>\n",
       "      <td>b'U.S. troops still in Georgia (did you know t...</td>\n",
       "      <td>b'Why Russias response to Georgia was right'</td>\n",
       "      <td>b'Gorbachev accuses U.S. of making a \"serious ...</td>\n",
       "      <td>b'Russia, Georgia, and NATO: Cold War Two'</td>\n",
       "      <td>b'Remember that adorable 62-year-old who led y...</td>\n",
       "      <td>b'War in Georgia: The Israeli connection'</td>\n",
       "      <td>b'All signs point to the US encouraging Georgi...</td>\n",
       "      <td>b'Christopher King argues that the US and NATO...</td>\n",
       "      <td>b'America: The New Mexico?'</td>\n",
       "      <td>b\"BBC NEWS | Asia-Pacific | Extinction 'by man...</td>\n",
       "    </tr>\n",
       "    <tr>\n",
       "      <th>3</th>\n",
       "      <td>2008-08-13</td>\n",
       "      <td>0</td>\n",
       "      <td>b' U.S. refuses Israel weapons to attack Iran:...</td>\n",
       "      <td>b\"When the president ordered to attack Tskhinv...</td>\n",
       "      <td>b' Israel clears troops who killed Reuters cam...</td>\n",
       "      <td>b'Britain\\'s policy of being tough on drugs is...</td>\n",
       "      <td>b'Body of 14 year old found in trunk; Latest (...</td>\n",
       "      <td>b'China has moved 10 *million* quake survivors...</td>\n",
       "      <td>b\"Bush announces Operation Get All Up In Russi...</td>\n",
       "      <td>b'Russian forces sink Georgian ships '</td>\n",
       "      <td>...</td>\n",
       "      <td>b'Elephants extinct by 2020?'</td>\n",
       "      <td>b'US humanitarian missions soon in Georgia - i...</td>\n",
       "      <td>b\"Georgia's DDOS came from US sources\"</td>\n",
       "      <td>b'Russian convoy heads into Georgia, violating...</td>\n",
       "      <td>b'Israeli defence minister: US against strike ...</td>\n",
       "      <td>b'Gorbachev: We Had No Choice'</td>\n",
       "      <td>b'Witness: Russian forces head towards Tbilisi...</td>\n",
       "      <td>b' Quarter of Russians blame U.S. for conflict...</td>\n",
       "      <td>b'Georgian president  says US military will ta...</td>\n",
       "      <td>b'2006: Nobel laureate Aleksander Solzhenitsyn...</td>\n",
       "    </tr>\n",
       "    <tr>\n",
       "      <th>4</th>\n",
       "      <td>2008-08-14</td>\n",
       "      <td>1</td>\n",
       "      <td>b'All the experts admit that we should legalis...</td>\n",
       "      <td>b'War in South Osetia - 89 pictures made by a ...</td>\n",
       "      <td>b'Swedish wrestler Ara Abrahamian throws away ...</td>\n",
       "      <td>b'Russia exaggerated the death toll in South O...</td>\n",
       "      <td>b'Missile That Killed 9 Inside Pakistan May Ha...</td>\n",
       "      <td>b\"Rushdie Condemns Random House's Refusal to P...</td>\n",
       "      <td>b'Poland and US agree to missle defense deal. ...</td>\n",
       "      <td>b'Will the Russians conquer Tblisi? Bet on it,...</td>\n",
       "      <td>...</td>\n",
       "      <td>b'Bank analyst forecast Georgian crisis 2 days...</td>\n",
       "      <td>b\"Georgia confict could set back Russia's US r...</td>\n",
       "      <td>b'War in the Caucasus is as much the product o...</td>\n",
       "      <td>b'\"Non-media\" photos of South Ossetia/Georgia ...</td>\n",
       "      <td>b'Georgian TV reporter shot by Russian sniper ...</td>\n",
       "      <td>b'Saudi Arabia: Mother moves to block child ma...</td>\n",
       "      <td>b'Taliban wages war on humanitarian aid workers'</td>\n",
       "      <td>b'Russia: World  \"can forget about\" Georgia\\'s...</td>\n",
       "      <td>b'Darfur rebels accuse Sudan of mounting major...</td>\n",
       "      <td>b'Philippines : Peace Advocate say Muslims nee...</td>\n",
       "    </tr>\n",
       "  </tbody>\n",
       "</table>\n",
       "<p>5 rows × 27 columns</p>\n",
       "</div>"
      ],
      "text/plain": [
       "         Date  Label                                               Top1  \\\n",
       "0  2008-08-08      0  b\"Georgia 'downs two Russian warplanes' as cou...   \n",
       "1  2008-08-11      1  b'Why wont America and Nato help us? If they w...   \n",
       "2  2008-08-12      0  b'Remember that adorable 9-year-old who sang a...   \n",
       "3  2008-08-13      0  b' U.S. refuses Israel weapons to attack Iran:...   \n",
       "4  2008-08-14      1  b'All the experts admit that we should legalis...   \n",
       "\n",
       "                                                Top2  \\\n",
       "0            b'BREAKING: Musharraf to be impeached.'   \n",
       "1        b'Bush puts foot down on Georgian conflict'   \n",
       "2                 b\"Russia 'ends Georgia operation'\"   \n",
       "3  b\"When the president ordered to attack Tskhinv...   \n",
       "4  b'War in South Osetia - 89 pictures made by a ...   \n",
       "\n",
       "                                                Top3  \\\n",
       "0  b'Russia Today: Columns of troops roll into So...   \n",
       "1  b\"Jewish Georgian minister: Thanks to Israeli ...   \n",
       "2  b'\"If we had no sexual harassment we would hav...   \n",
       "3  b' Israel clears troops who killed Reuters cam...   \n",
       "4  b'Swedish wrestler Ara Abrahamian throws away ...   \n",
       "\n",
       "                                                Top4  \\\n",
       "0  b'Russian tanks are moving towards the capital...   \n",
       "1  b'Georgian army flees in disarray as Russians ...   \n",
       "2  b\"Al-Qa'eda is losing support in Iraq because ...   \n",
       "3  b'Britain\\'s policy of being tough on drugs is...   \n",
       "4  b'Russia exaggerated the death toll in South O...   \n",
       "\n",
       "                                                Top5  \\\n",
       "0  b\"Afghan children raped with 'impunity,' U.N. ...   \n",
       "1      b\"Olympic opening ceremony fireworks 'faked'\"   \n",
       "2  b'Ceasefire in Georgia: Putin Outmaneuvers the...   \n",
       "3  b'Body of 14 year old found in trunk; Latest (...   \n",
       "4  b'Missile That Killed 9 Inside Pakistan May Ha...   \n",
       "\n",
       "                                                Top6  \\\n",
       "0  b'150 Russian tanks have entered South Ossetia...   \n",
       "1  b'What were the Mossad with fraudulent New Zea...   \n",
       "2  b'Why Microsoft and Intel tried to kill the XO...   \n",
       "3  b'China has moved 10 *million* quake survivors...   \n",
       "4  b\"Rushdie Condemns Random House's Refusal to P...   \n",
       "\n",
       "                                                Top7  \\\n",
       "0  b\"Breaking: Georgia invades South Ossetia, Rus...   \n",
       "1  b'Russia angered by Israeli military sale to G...   \n",
       "2  b'Stratfor: The Russo-Georgian War and the Bal...   \n",
       "3  b\"Bush announces Operation Get All Up In Russi...   \n",
       "4  b'Poland and US agree to missle defense deal. ...   \n",
       "\n",
       "                                                Top8  ...  \\\n",
       "0  b\"The 'enemy combatent' trials are nothing but...  ...   \n",
       "1  b'An American citizen living in S.Ossetia blam...  ...   \n",
       "2  b\"I'm Trying to Get a Sense of This Whole Geor...  ...   \n",
       "3             b'Russian forces sink Georgian ships '  ...   \n",
       "4  b'Will the Russians conquer Tblisi? Bet on it,...  ...   \n",
       "\n",
       "                                               Top16  \\\n",
       "0  b'Georgia Invades South Ossetia - if Russia ge...   \n",
       "1  b'Israel and the US behind the Georgian aggres...   \n",
       "2  b'U.S. troops still in Georgia (did you know t...   \n",
       "3                      b'Elephants extinct by 2020?'   \n",
       "4  b'Bank analyst forecast Georgian crisis 2 days...   \n",
       "\n",
       "                                               Top17  \\\n",
       "0                b'Al-Qaeda Faces Islamist Backlash'   \n",
       "1  b'\"Do not believe TV, neither Russian nor Geor...   \n",
       "2       b'Why Russias response to Georgia was right'   \n",
       "3  b'US humanitarian missions soon in Georgia - i...   \n",
       "4  b\"Georgia confict could set back Russia's US r...   \n",
       "\n",
       "                                               Top18  \\\n",
       "0  b'Condoleezza Rice: \"The US would not act to p...   \n",
       "1  b'Riots are still going on in Montreal (Canada...   \n",
       "2  b'Gorbachev accuses U.S. of making a \"serious ...   \n",
       "3             b\"Georgia's DDOS came from US sources\"   \n",
       "4  b'War in the Caucasus is as much the product o...   \n",
       "\n",
       "                                               Top19  \\\n",
       "0  b'This is a busy day:  The European Union has ...   \n",
       "1    b'China to overtake US as largest manufacturer'   \n",
       "2         b'Russia, Georgia, and NATO: Cold War Two'   \n",
       "3  b'Russian convoy heads into Georgia, violating...   \n",
       "4  b'\"Non-media\" photos of South Ossetia/Georgia ...   \n",
       "\n",
       "                                               Top20  \\\n",
       "0  b\"Georgia will withdraw 1,000 soldiers from Ir...   \n",
       "1                     b'War in South Ossetia [PICS]'   \n",
       "2  b'Remember that adorable 62-year-old who led y...   \n",
       "3  b'Israeli defence minister: US against strike ...   \n",
       "4  b'Georgian TV reporter shot by Russian sniper ...   \n",
       "\n",
       "                                               Top21  \\\n",
       "0  b'Why the Pentagon Thinks Attacking Iran is a ...   \n",
       "1  b'Israeli Physicians Group Condemns State Tort...   \n",
       "2          b'War in Georgia: The Israeli connection'   \n",
       "3                     b'Gorbachev: We Had No Choice'   \n",
       "4  b'Saudi Arabia: Mother moves to block child ma...   \n",
       "\n",
       "                                               Top22  \\\n",
       "0  b'Caucasus in crisis: Georgia invades South Os...   \n",
       "1  b' Russia has just beaten the United States ov...   \n",
       "2  b'All signs point to the US encouraging Georgi...   \n",
       "3  b'Witness: Russian forces head towards Tbilisi...   \n",
       "4   b'Taliban wages war on humanitarian aid workers'   \n",
       "\n",
       "                                               Top23  \\\n",
       "0  b'Indian shoe manufactory  - And again in a se...   \n",
       "1  b'Perhaps *the* question about the Georgia - R...   \n",
       "2  b'Christopher King argues that the US and NATO...   \n",
       "3  b' Quarter of Russians blame U.S. for conflict...   \n",
       "4  b'Russia: World  \"can forget about\" Georgia\\'s...   \n",
       "\n",
       "                                               Top24  \\\n",
       "0  b'Visitors Suffering from Mental Illnesses Ban...   \n",
       "1                 b'Russia is so much better at war'   \n",
       "2                        b'America: The New Mexico?'   \n",
       "3  b'Georgian president  says US military will ta...   \n",
       "4  b'Darfur rebels accuse Sudan of mounting major...   \n",
       "\n",
       "                                               Top25  \n",
       "0           b\"No Help for Mexico's Kidnapping Surge\"  \n",
       "1  b\"So this is what it's come to: trading sex fo...  \n",
       "2  b\"BBC NEWS | Asia-Pacific | Extinction 'by man...  \n",
       "3  b'2006: Nobel laureate Aleksander Solzhenitsyn...  \n",
       "4  b'Philippines : Peace Advocate say Muslims nee...  \n",
       "\n",
       "[5 rows x 27 columns]"
      ]
     },
     "execution_count": 3,
     "metadata": {},
     "output_type": "execute_result"
    }
   ],
   "source": [
    "# Display data\n",
    "data.head()"
   ]
  },
  {
   "cell_type": "code",
   "execution_count": 4,
   "metadata": {},
   "outputs": [
    {
     "data": {
      "text/plain": [
       "(1989, 27)"
      ]
     },
     "execution_count": 4,
     "metadata": {},
     "output_type": "execute_result"
    }
   ],
   "source": [
    "# Display dataframe shape\n",
    "data.shape\n",
    "# 27 columns: 1 target, 26 features\n",
    "# 1989 observations"
   ]
  },
  {
   "cell_type": "markdown",
   "metadata": {},
   "source": [
    "# Macro Analysis"
   ]
  },
  {
   "cell_type": "markdown",
   "metadata": {},
   "source": [
    "### Check for null"
   ]
  },
  {
   "cell_type": "code",
   "execution_count": 5,
   "metadata": {},
   "outputs": [
    {
     "data": {
      "text/plain": [
       "Date     0\n",
       "Label    0\n",
       "Top1     0\n",
       "Top2     0\n",
       "Top3     0\n",
       "Top4     0\n",
       "Top5     0\n",
       "Top6     0\n",
       "Top7     0\n",
       "Top8     0\n",
       "Top9     0\n",
       "Top10    0\n",
       "Top11    0\n",
       "Top12    0\n",
       "Top13    0\n",
       "Top14    0\n",
       "Top15    0\n",
       "Top16    0\n",
       "Top17    0\n",
       "Top18    0\n",
       "Top19    0\n",
       "Top20    0\n",
       "Top21    0\n",
       "Top22    0\n",
       "Top23    1\n",
       "Top24    3\n",
       "Top25    3\n",
       "dtype: int64"
      ]
     },
     "execution_count": 5,
     "metadata": {},
     "output_type": "execute_result"
    }
   ],
   "source": [
    "# check for nulls\n",
    "data.isnull().sum()\n",
    "# Only 3 features with missing rows"
   ]
  },
  {
   "cell_type": "code",
   "execution_count": 6,
   "metadata": {},
   "outputs": [
    {
     "data": {
      "text/html": [
       "<div>\n",
       "<style scoped>\n",
       "    .dataframe tbody tr th:only-of-type {\n",
       "        vertical-align: middle;\n",
       "    }\n",
       "\n",
       "    .dataframe tbody tr th {\n",
       "        vertical-align: top;\n",
       "    }\n",
       "\n",
       "    .dataframe thead th {\n",
       "        text-align: right;\n",
       "    }\n",
       "</style>\n",
       "<table border=\"1\" class=\"dataframe\">\n",
       "  <thead>\n",
       "    <tr style=\"text-align: right;\">\n",
       "      <th></th>\n",
       "      <th>Date</th>\n",
       "      <th>Label</th>\n",
       "      <th>Top1</th>\n",
       "      <th>Top2</th>\n",
       "      <th>Top3</th>\n",
       "      <th>Top4</th>\n",
       "      <th>Top5</th>\n",
       "      <th>Top6</th>\n",
       "      <th>Top7</th>\n",
       "      <th>Top8</th>\n",
       "      <th>...</th>\n",
       "      <th>Top16</th>\n",
       "      <th>Top17</th>\n",
       "      <th>Top18</th>\n",
       "      <th>Top19</th>\n",
       "      <th>Top20</th>\n",
       "      <th>Top21</th>\n",
       "      <th>Top22</th>\n",
       "      <th>Top23</th>\n",
       "      <th>Top24</th>\n",
       "      <th>Top25</th>\n",
       "    </tr>\n",
       "  </thead>\n",
       "  <tbody>\n",
       "    <tr>\n",
       "      <th>277</th>\n",
       "      <td>2009-09-15</td>\n",
       "      <td>1</td>\n",
       "      <td>b'The Church of Scientology won\\'t be dissolve...</td>\n",
       "      <td>b'New virus from rats can kill 80 per cent of ...</td>\n",
       "      <td>b'The gruesome spectacle of dolphins being sla...</td>\n",
       "      <td>b'The End of Innocence in Afghanistan: \\'The G...</td>\n",
       "      <td>b'France approves Internet piracy bill'</td>\n",
       "      <td>b'The Rural Doctors Association says right now...</td>\n",
       "      <td>b'Al Jazeera English - Africa - Shabab to aven...</td>\n",
       "      <td>b\"How Sri Lanka governs through detentions - S...</td>\n",
       "      <td>...</td>\n",
       "      <td>b'In an equine echo of the controversy surroun...</td>\n",
       "      <td>b'UPDATE: 5-New York homes raided in terrorism...</td>\n",
       "      <td>b'Population Growth Impeding Progress on the M...</td>\n",
       "      <td>b'Global Population to Reach 7 Billion by 2011'</td>\n",
       "      <td>b'Government Funded Feminist Porn '</td>\n",
       "      <td>b'Can someone enlighten me re:Holy Land disput...</td>\n",
       "      <td>b'Human Rights Watch official suspended for co...</td>\n",
       "      <td>NaN</td>\n",
       "      <td>NaN</td>\n",
       "      <td>NaN</td>\n",
       "    </tr>\n",
       "  </tbody>\n",
       "</table>\n",
       "<p>1 rows × 27 columns</p>\n",
       "</div>"
      ],
      "text/plain": [
       "           Date  Label                                               Top1  \\\n",
       "277  2009-09-15      1  b'The Church of Scientology won\\'t be dissolve...   \n",
       "\n",
       "                                                  Top2  \\\n",
       "277  b'New virus from rats can kill 80 per cent of ...   \n",
       "\n",
       "                                                  Top3  \\\n",
       "277  b'The gruesome spectacle of dolphins being sla...   \n",
       "\n",
       "                                                  Top4  \\\n",
       "277  b'The End of Innocence in Afghanistan: \\'The G...   \n",
       "\n",
       "                                        Top5  \\\n",
       "277  b'France approves Internet piracy bill'   \n",
       "\n",
       "                                                  Top6  \\\n",
       "277  b'The Rural Doctors Association says right now...   \n",
       "\n",
       "                                                  Top7  \\\n",
       "277  b'Al Jazeera English - Africa - Shabab to aven...   \n",
       "\n",
       "                                                  Top8  ...  \\\n",
       "277  b\"How Sri Lanka governs through detentions - S...  ...   \n",
       "\n",
       "                                                 Top16  \\\n",
       "277  b'In an equine echo of the controversy surroun...   \n",
       "\n",
       "                                                 Top17  \\\n",
       "277  b'UPDATE: 5-New York homes raided in terrorism...   \n",
       "\n",
       "                                                 Top18  \\\n",
       "277  b'Population Growth Impeding Progress on the M...   \n",
       "\n",
       "                                               Top19  \\\n",
       "277  b'Global Population to Reach 7 Billion by 2011'   \n",
       "\n",
       "                                   Top20  \\\n",
       "277  b'Government Funded Feminist Porn '   \n",
       "\n",
       "                                                 Top21  \\\n",
       "277  b'Can someone enlighten me re:Holy Land disput...   \n",
       "\n",
       "                                                 Top22 Top23 Top24 Top25  \n",
       "277  b'Human Rights Watch official suspended for co...   NaN   NaN   NaN  \n",
       "\n",
       "[1 rows x 27 columns]"
      ]
     },
     "execution_count": 6,
     "metadata": {},
     "output_type": "execute_result"
    }
   ],
   "source": [
    "# See missing data in Top23\n",
    "data[data['Top23'].isnull()]"
   ]
  },
  {
   "cell_type": "code",
   "execution_count": 7,
   "metadata": {},
   "outputs": [
    {
     "data": {
      "text/html": [
       "<div>\n",
       "<style scoped>\n",
       "    .dataframe tbody tr th:only-of-type {\n",
       "        vertical-align: middle;\n",
       "    }\n",
       "\n",
       "    .dataframe tbody tr th {\n",
       "        vertical-align: top;\n",
       "    }\n",
       "\n",
       "    .dataframe thead th {\n",
       "        text-align: right;\n",
       "    }\n",
       "</style>\n",
       "<table border=\"1\" class=\"dataframe\">\n",
       "  <thead>\n",
       "    <tr style=\"text-align: right;\">\n",
       "      <th></th>\n",
       "      <th>Date</th>\n",
       "      <th>Label</th>\n",
       "      <th>Top1</th>\n",
       "      <th>Top2</th>\n",
       "      <th>Top3</th>\n",
       "      <th>Top4</th>\n",
       "      <th>Top5</th>\n",
       "      <th>Top6</th>\n",
       "      <th>Top7</th>\n",
       "      <th>Top8</th>\n",
       "      <th>...</th>\n",
       "      <th>Top16</th>\n",
       "      <th>Top17</th>\n",
       "      <th>Top18</th>\n",
       "      <th>Top19</th>\n",
       "      <th>Top20</th>\n",
       "      <th>Top21</th>\n",
       "      <th>Top22</th>\n",
       "      <th>Top23</th>\n",
       "      <th>Top24</th>\n",
       "      <th>Top25</th>\n",
       "    </tr>\n",
       "  </thead>\n",
       "  <tbody>\n",
       "    <tr>\n",
       "      <th>277</th>\n",
       "      <td>2009-09-15</td>\n",
       "      <td>1</td>\n",
       "      <td>b'The Church of Scientology won\\'t be dissolve...</td>\n",
       "      <td>b'New virus from rats can kill 80 per cent of ...</td>\n",
       "      <td>b'The gruesome spectacle of dolphins being sla...</td>\n",
       "      <td>b'The End of Innocence in Afghanistan: \\'The G...</td>\n",
       "      <td>b'France approves Internet piracy bill'</td>\n",
       "      <td>b'The Rural Doctors Association says right now...</td>\n",
       "      <td>b'Al Jazeera English - Africa - Shabab to aven...</td>\n",
       "      <td>b\"How Sri Lanka governs through detentions - S...</td>\n",
       "      <td>...</td>\n",
       "      <td>b'In an equine echo of the controversy surroun...</td>\n",
       "      <td>b'UPDATE: 5-New York homes raided in terrorism...</td>\n",
       "      <td>b'Population Growth Impeding Progress on the M...</td>\n",
       "      <td>b'Global Population to Reach 7 Billion by 2011'</td>\n",
       "      <td>b'Government Funded Feminist Porn '</td>\n",
       "      <td>b'Can someone enlighten me re:Holy Land disput...</td>\n",
       "      <td>b'Human Rights Watch official suspended for co...</td>\n",
       "      <td>NaN</td>\n",
       "      <td>NaN</td>\n",
       "      <td>NaN</td>\n",
       "    </tr>\n",
       "    <tr>\n",
       "      <th>348</th>\n",
       "      <td>2009-12-24</td>\n",
       "      <td>1</td>\n",
       "      <td>b'Woman knocks down Pope Benedict at Christmas...</td>\n",
       "      <td>b'Ugandan President Museveni says he will bloc...</td>\n",
       "      <td>b\"Venezuela's Chavez threatens to kick out car...</td>\n",
       "      <td>b'Woman who knocked down pope had pasta in her...</td>\n",
       "      <td>b'450 people from 21 countries, including 30 f...</td>\n",
       "      <td>b'Chvez declares Angel Falls is no more: World...</td>\n",
       "      <td>b'Drug tests catch out 10 police (UK)'</td>\n",
       "      <td>b'Once the worlds fourth-largest lake, the Ara...</td>\n",
       "      <td>...</td>\n",
       "      <td>b'Pig farts spark Australia gas scare - I shit...</td>\n",
       "      <td>b'Bin Laden daughter flees to Saudi embassy in...</td>\n",
       "      <td>b'Traumatic Brain Injuries:  Growing evidence ...</td>\n",
       "      <td>b'The Pakistan Supreme Court has ordered the P...</td>\n",
       "      <td>b\"Here's a video the Taliban released this mor...</td>\n",
       "      <td>b'Fireworks set off aboard airliner'</td>\n",
       "      <td>b'Five VA men may face terrorism charges, Paki...</td>\n",
       "      <td>b\"Ayatollah Montazeri's Legacy:  In death he m...</td>\n",
       "      <td>NaN</td>\n",
       "      <td>NaN</td>\n",
       "    </tr>\n",
       "    <tr>\n",
       "      <th>681</th>\n",
       "      <td>2011-04-21</td>\n",
       "      <td>1</td>\n",
       "      <td>Director of \"Restrepo\" and Photographer Chris ...</td>\n",
       "      <td>Everyone within 20km of Fukushima will be forc...</td>\n",
       "      <td>Bahrain: Activist Zaynab Al-Khawaja's letter t...</td>\n",
       "      <td>More than 80,000 people are claiming incapacit...</td>\n",
       "      <td>Libya: 'mission creep' claims as UK sends in m...</td>\n",
       "      <td>Japan considers banning access to evacuation zone</td>\n",
       "      <td>Chinese oil giant Sinopec has stopped exportin...</td>\n",
       "      <td>6.0-magnitude earthquake strikes off east coas...</td>\n",
       "      <td>...</td>\n",
       "      <td>Russian migration official fired in racism row...</td>\n",
       "      <td>Small amounts of radioactive iodine found in b...</td>\n",
       "      <td>War photographer, Oscar-nominated film directo...</td>\n",
       "      <td>Effeminate boys are being sent to a special ca...</td>\n",
       "      <td>Japan Government Declares 12-Mile Area Around ...</td>\n",
       "      <td>TEPCO admitted Wednesday that nuclear fuel in ...</td>\n",
       "      <td>Fukushima evacuees face arrest if they return ...</td>\n",
       "      <td>Prince Charles wins some kind of a record</td>\n",
       "      <td>NaN</td>\n",
       "      <td>NaN</td>\n",
       "    </tr>\n",
       "  </tbody>\n",
       "</table>\n",
       "<p>3 rows × 27 columns</p>\n",
       "</div>"
      ],
      "text/plain": [
       "           Date  Label                                               Top1  \\\n",
       "277  2009-09-15      1  b'The Church of Scientology won\\'t be dissolve...   \n",
       "348  2009-12-24      1  b'Woman knocks down Pope Benedict at Christmas...   \n",
       "681  2011-04-21      1  Director of \"Restrepo\" and Photographer Chris ...   \n",
       "\n",
       "                                                  Top2  \\\n",
       "277  b'New virus from rats can kill 80 per cent of ...   \n",
       "348  b'Ugandan President Museveni says he will bloc...   \n",
       "681  Everyone within 20km of Fukushima will be forc...   \n",
       "\n",
       "                                                  Top3  \\\n",
       "277  b'The gruesome spectacle of dolphins being sla...   \n",
       "348  b\"Venezuela's Chavez threatens to kick out car...   \n",
       "681  Bahrain: Activist Zaynab Al-Khawaja's letter t...   \n",
       "\n",
       "                                                  Top4  \\\n",
       "277  b'The End of Innocence in Afghanistan: \\'The G...   \n",
       "348  b'Woman who knocked down pope had pasta in her...   \n",
       "681  More than 80,000 people are claiming incapacit...   \n",
       "\n",
       "                                                  Top5  \\\n",
       "277            b'France approves Internet piracy bill'   \n",
       "348  b'450 people from 21 countries, including 30 f...   \n",
       "681  Libya: 'mission creep' claims as UK sends in m...   \n",
       "\n",
       "                                                  Top6  \\\n",
       "277  b'The Rural Doctors Association says right now...   \n",
       "348  b'Chvez declares Angel Falls is no more: World...   \n",
       "681  Japan considers banning access to evacuation zone   \n",
       "\n",
       "                                                  Top7  \\\n",
       "277  b'Al Jazeera English - Africa - Shabab to aven...   \n",
       "348             b'Drug tests catch out 10 police (UK)'   \n",
       "681  Chinese oil giant Sinopec has stopped exportin...   \n",
       "\n",
       "                                                  Top8  ...  \\\n",
       "277  b\"How Sri Lanka governs through detentions - S...  ...   \n",
       "348  b'Once the worlds fourth-largest lake, the Ara...  ...   \n",
       "681  6.0-magnitude earthquake strikes off east coas...  ...   \n",
       "\n",
       "                                                 Top16  \\\n",
       "277  b'In an equine echo of the controversy surroun...   \n",
       "348  b'Pig farts spark Australia gas scare - I shit...   \n",
       "681  Russian migration official fired in racism row...   \n",
       "\n",
       "                                                 Top17  \\\n",
       "277  b'UPDATE: 5-New York homes raided in terrorism...   \n",
       "348  b'Bin Laden daughter flees to Saudi embassy in...   \n",
       "681  Small amounts of radioactive iodine found in b...   \n",
       "\n",
       "                                                 Top18  \\\n",
       "277  b'Population Growth Impeding Progress on the M...   \n",
       "348  b'Traumatic Brain Injuries:  Growing evidence ...   \n",
       "681  War photographer, Oscar-nominated film directo...   \n",
       "\n",
       "                                                 Top19  \\\n",
       "277    b'Global Population to Reach 7 Billion by 2011'   \n",
       "348  b'The Pakistan Supreme Court has ordered the P...   \n",
       "681  Effeminate boys are being sent to a special ca...   \n",
       "\n",
       "                                                 Top20  \\\n",
       "277                b'Government Funded Feminist Porn '   \n",
       "348  b\"Here's a video the Taliban released this mor...   \n",
       "681  Japan Government Declares 12-Mile Area Around ...   \n",
       "\n",
       "                                                 Top21  \\\n",
       "277  b'Can someone enlighten me re:Holy Land disput...   \n",
       "348               b'Fireworks set off aboard airliner'   \n",
       "681  TEPCO admitted Wednesday that nuclear fuel in ...   \n",
       "\n",
       "                                                 Top22  \\\n",
       "277  b'Human Rights Watch official suspended for co...   \n",
       "348  b'Five VA men may face terrorism charges, Paki...   \n",
       "681  Fukushima evacuees face arrest if they return ...   \n",
       "\n",
       "                                                 Top23 Top24 Top25  \n",
       "277                                                NaN   NaN   NaN  \n",
       "348  b\"Ayatollah Montazeri's Legacy:  In death he m...   NaN   NaN  \n",
       "681          Prince Charles wins some kind of a record   NaN   NaN  \n",
       "\n",
       "[3 rows x 27 columns]"
      ]
     },
     "execution_count": 7,
     "metadata": {},
     "output_type": "execute_result"
    }
   ],
   "source": [
    "# See missing data in Top24\n",
    "data[data['Top24'].isnull()]"
   ]
  },
  {
   "cell_type": "code",
   "execution_count": 8,
   "metadata": {},
   "outputs": [
    {
     "data": {
      "text/html": [
       "<div>\n",
       "<style scoped>\n",
       "    .dataframe tbody tr th:only-of-type {\n",
       "        vertical-align: middle;\n",
       "    }\n",
       "\n",
       "    .dataframe tbody tr th {\n",
       "        vertical-align: top;\n",
       "    }\n",
       "\n",
       "    .dataframe thead th {\n",
       "        text-align: right;\n",
       "    }\n",
       "</style>\n",
       "<table border=\"1\" class=\"dataframe\">\n",
       "  <thead>\n",
       "    <tr style=\"text-align: right;\">\n",
       "      <th></th>\n",
       "      <th>Date</th>\n",
       "      <th>Label</th>\n",
       "      <th>Top1</th>\n",
       "      <th>Top2</th>\n",
       "      <th>Top3</th>\n",
       "      <th>Top4</th>\n",
       "      <th>Top5</th>\n",
       "      <th>Top6</th>\n",
       "      <th>Top7</th>\n",
       "      <th>Top8</th>\n",
       "      <th>...</th>\n",
       "      <th>Top16</th>\n",
       "      <th>Top17</th>\n",
       "      <th>Top18</th>\n",
       "      <th>Top19</th>\n",
       "      <th>Top20</th>\n",
       "      <th>Top21</th>\n",
       "      <th>Top22</th>\n",
       "      <th>Top23</th>\n",
       "      <th>Top24</th>\n",
       "      <th>Top25</th>\n",
       "    </tr>\n",
       "  </thead>\n",
       "  <tbody>\n",
       "    <tr>\n",
       "      <th>277</th>\n",
       "      <td>2009-09-15</td>\n",
       "      <td>1</td>\n",
       "      <td>b'The Church of Scientology won\\'t be dissolve...</td>\n",
       "      <td>b'New virus from rats can kill 80 per cent of ...</td>\n",
       "      <td>b'The gruesome spectacle of dolphins being sla...</td>\n",
       "      <td>b'The End of Innocence in Afghanistan: \\'The G...</td>\n",
       "      <td>b'France approves Internet piracy bill'</td>\n",
       "      <td>b'The Rural Doctors Association says right now...</td>\n",
       "      <td>b'Al Jazeera English - Africa - Shabab to aven...</td>\n",
       "      <td>b\"How Sri Lanka governs through detentions - S...</td>\n",
       "      <td>...</td>\n",
       "      <td>b'In an equine echo of the controversy surroun...</td>\n",
       "      <td>b'UPDATE: 5-New York homes raided in terrorism...</td>\n",
       "      <td>b'Population Growth Impeding Progress on the M...</td>\n",
       "      <td>b'Global Population to Reach 7 Billion by 2011'</td>\n",
       "      <td>b'Government Funded Feminist Porn '</td>\n",
       "      <td>b'Can someone enlighten me re:Holy Land disput...</td>\n",
       "      <td>b'Human Rights Watch official suspended for co...</td>\n",
       "      <td>NaN</td>\n",
       "      <td>NaN</td>\n",
       "      <td>NaN</td>\n",
       "    </tr>\n",
       "    <tr>\n",
       "      <th>348</th>\n",
       "      <td>2009-12-24</td>\n",
       "      <td>1</td>\n",
       "      <td>b'Woman knocks down Pope Benedict at Christmas...</td>\n",
       "      <td>b'Ugandan President Museveni says he will bloc...</td>\n",
       "      <td>b\"Venezuela's Chavez threatens to kick out car...</td>\n",
       "      <td>b'Woman who knocked down pope had pasta in her...</td>\n",
       "      <td>b'450 people from 21 countries, including 30 f...</td>\n",
       "      <td>b'Chvez declares Angel Falls is no more: World...</td>\n",
       "      <td>b'Drug tests catch out 10 police (UK)'</td>\n",
       "      <td>b'Once the worlds fourth-largest lake, the Ara...</td>\n",
       "      <td>...</td>\n",
       "      <td>b'Pig farts spark Australia gas scare - I shit...</td>\n",
       "      <td>b'Bin Laden daughter flees to Saudi embassy in...</td>\n",
       "      <td>b'Traumatic Brain Injuries:  Growing evidence ...</td>\n",
       "      <td>b'The Pakistan Supreme Court has ordered the P...</td>\n",
       "      <td>b\"Here's a video the Taliban released this mor...</td>\n",
       "      <td>b'Fireworks set off aboard airliner'</td>\n",
       "      <td>b'Five VA men may face terrorism charges, Paki...</td>\n",
       "      <td>b\"Ayatollah Montazeri's Legacy:  In death he m...</td>\n",
       "      <td>NaN</td>\n",
       "      <td>NaN</td>\n",
       "    </tr>\n",
       "    <tr>\n",
       "      <th>681</th>\n",
       "      <td>2011-04-21</td>\n",
       "      <td>1</td>\n",
       "      <td>Director of \"Restrepo\" and Photographer Chris ...</td>\n",
       "      <td>Everyone within 20km of Fukushima will be forc...</td>\n",
       "      <td>Bahrain: Activist Zaynab Al-Khawaja's letter t...</td>\n",
       "      <td>More than 80,000 people are claiming incapacit...</td>\n",
       "      <td>Libya: 'mission creep' claims as UK sends in m...</td>\n",
       "      <td>Japan considers banning access to evacuation zone</td>\n",
       "      <td>Chinese oil giant Sinopec has stopped exportin...</td>\n",
       "      <td>6.0-magnitude earthquake strikes off east coas...</td>\n",
       "      <td>...</td>\n",
       "      <td>Russian migration official fired in racism row...</td>\n",
       "      <td>Small amounts of radioactive iodine found in b...</td>\n",
       "      <td>War photographer, Oscar-nominated film directo...</td>\n",
       "      <td>Effeminate boys are being sent to a special ca...</td>\n",
       "      <td>Japan Government Declares 12-Mile Area Around ...</td>\n",
       "      <td>TEPCO admitted Wednesday that nuclear fuel in ...</td>\n",
       "      <td>Fukushima evacuees face arrest if they return ...</td>\n",
       "      <td>Prince Charles wins some kind of a record</td>\n",
       "      <td>NaN</td>\n",
       "      <td>NaN</td>\n",
       "    </tr>\n",
       "  </tbody>\n",
       "</table>\n",
       "<p>3 rows × 27 columns</p>\n",
       "</div>"
      ],
      "text/plain": [
       "           Date  Label                                               Top1  \\\n",
       "277  2009-09-15      1  b'The Church of Scientology won\\'t be dissolve...   \n",
       "348  2009-12-24      1  b'Woman knocks down Pope Benedict at Christmas...   \n",
       "681  2011-04-21      1  Director of \"Restrepo\" and Photographer Chris ...   \n",
       "\n",
       "                                                  Top2  \\\n",
       "277  b'New virus from rats can kill 80 per cent of ...   \n",
       "348  b'Ugandan President Museveni says he will bloc...   \n",
       "681  Everyone within 20km of Fukushima will be forc...   \n",
       "\n",
       "                                                  Top3  \\\n",
       "277  b'The gruesome spectacle of dolphins being sla...   \n",
       "348  b\"Venezuela's Chavez threatens to kick out car...   \n",
       "681  Bahrain: Activist Zaynab Al-Khawaja's letter t...   \n",
       "\n",
       "                                                  Top4  \\\n",
       "277  b'The End of Innocence in Afghanistan: \\'The G...   \n",
       "348  b'Woman who knocked down pope had pasta in her...   \n",
       "681  More than 80,000 people are claiming incapacit...   \n",
       "\n",
       "                                                  Top5  \\\n",
       "277            b'France approves Internet piracy bill'   \n",
       "348  b'450 people from 21 countries, including 30 f...   \n",
       "681  Libya: 'mission creep' claims as UK sends in m...   \n",
       "\n",
       "                                                  Top6  \\\n",
       "277  b'The Rural Doctors Association says right now...   \n",
       "348  b'Chvez declares Angel Falls is no more: World...   \n",
       "681  Japan considers banning access to evacuation zone   \n",
       "\n",
       "                                                  Top7  \\\n",
       "277  b'Al Jazeera English - Africa - Shabab to aven...   \n",
       "348             b'Drug tests catch out 10 police (UK)'   \n",
       "681  Chinese oil giant Sinopec has stopped exportin...   \n",
       "\n",
       "                                                  Top8  ...  \\\n",
       "277  b\"How Sri Lanka governs through detentions - S...  ...   \n",
       "348  b'Once the worlds fourth-largest lake, the Ara...  ...   \n",
       "681  6.0-magnitude earthquake strikes off east coas...  ...   \n",
       "\n",
       "                                                 Top16  \\\n",
       "277  b'In an equine echo of the controversy surroun...   \n",
       "348  b'Pig farts spark Australia gas scare - I shit...   \n",
       "681  Russian migration official fired in racism row...   \n",
       "\n",
       "                                                 Top17  \\\n",
       "277  b'UPDATE: 5-New York homes raided in terrorism...   \n",
       "348  b'Bin Laden daughter flees to Saudi embassy in...   \n",
       "681  Small amounts of radioactive iodine found in b...   \n",
       "\n",
       "                                                 Top18  \\\n",
       "277  b'Population Growth Impeding Progress on the M...   \n",
       "348  b'Traumatic Brain Injuries:  Growing evidence ...   \n",
       "681  War photographer, Oscar-nominated film directo...   \n",
       "\n",
       "                                                 Top19  \\\n",
       "277    b'Global Population to Reach 7 Billion by 2011'   \n",
       "348  b'The Pakistan Supreme Court has ordered the P...   \n",
       "681  Effeminate boys are being sent to a special ca...   \n",
       "\n",
       "                                                 Top20  \\\n",
       "277                b'Government Funded Feminist Porn '   \n",
       "348  b\"Here's a video the Taliban released this mor...   \n",
       "681  Japan Government Declares 12-Mile Area Around ...   \n",
       "\n",
       "                                                 Top21  \\\n",
       "277  b'Can someone enlighten me re:Holy Land disput...   \n",
       "348               b'Fireworks set off aboard airliner'   \n",
       "681  TEPCO admitted Wednesday that nuclear fuel in ...   \n",
       "\n",
       "                                                 Top22  \\\n",
       "277  b'Human Rights Watch official suspended for co...   \n",
       "348  b'Five VA men may face terrorism charges, Paki...   \n",
       "681  Fukushima evacuees face arrest if they return ...   \n",
       "\n",
       "                                                 Top23 Top24 Top25  \n",
       "277                                                NaN   NaN   NaN  \n",
       "348  b\"Ayatollah Montazeri's Legacy:  In death he m...   NaN   NaN  \n",
       "681          Prince Charles wins some kind of a record   NaN   NaN  \n",
       "\n",
       "[3 rows x 27 columns]"
      ]
     },
     "execution_count": 8,
     "metadata": {},
     "output_type": "execute_result"
    }
   ],
   "source": [
    "# See missing data in Top25\n",
    "data[data['Top25'].isnull()]"
   ]
  },
  {
   "cell_type": "code",
   "execution_count": 9,
   "metadata": {},
   "outputs": [
    {
     "data": {
      "text/plain": [
       "Date     0\n",
       "Label    0\n",
       "Top1     0\n",
       "Top2     0\n",
       "Top3     0\n",
       "Top4     0\n",
       "Top5     0\n",
       "Top6     0\n",
       "Top7     0\n",
       "Top8     0\n",
       "Top9     0\n",
       "Top10    0\n",
       "Top11    0\n",
       "Top12    0\n",
       "Top13    0\n",
       "Top14    0\n",
       "Top15    0\n",
       "Top16    0\n",
       "Top17    0\n",
       "Top18    0\n",
       "Top19    0\n",
       "Top20    0\n",
       "Top21    0\n",
       "Top22    0\n",
       "Top23    0\n",
       "Top24    0\n",
       "Top25    0\n",
       "dtype: int64"
      ]
     },
     "execution_count": 9,
     "metadata": {},
     "output_type": "execute_result"
    }
   ],
   "source": [
    "# Convert NaN to blanks\n",
    "data['Top23'].fillna('',inplace=True)\n",
    "data['Top24'].fillna('',inplace=True)\n",
    "data['Top25'].fillna('',inplace=True)\n",
    "# check for nulls again\n",
    "data.isnull().sum()"
   ]
  },
  {
   "cell_type": "markdown",
   "metadata": {},
   "source": [
    "### Check for duplicate"
   ]
  },
  {
   "cell_type": "code",
   "execution_count": 10,
   "metadata": {},
   "outputs": [
    {
     "name": "stdout",
     "output_type": "stream",
     "text": [
      "Date\n",
      "Empty DataFrame\n",
      "Columns: [Date, Label, Top1, Top2, Top3, Top4, Top5, Top6, Top7, Top8, Top9, Top10, Top11, Top12, Top13, Top14, Top15, Top16, Top17, Top18, Top19, Top20, Top21, Top22, Top23, Top24, Top25]\n",
      "Index: []\n",
      "\n",
      "[0 rows x 27 columns]\n",
      "Label\n",
      "            Date  Label                                               Top1  \\\n",
      "2     2008-08-12      0  b'Remember that adorable 9-year-old who sang a...   \n",
      "3     2008-08-13      0  b' U.S. refuses Israel weapons to attack Iran:...   \n",
      "4     2008-08-14      1  b'All the experts admit that we should legalis...   \n",
      "5     2008-08-15      1  b\"Mom of missing gay man: Too bad he's not a 2...   \n",
      "6     2008-08-18      0  b'In an Afghan prison, the majority of female ...   \n",
      "...          ...    ...                                                ...   \n",
      "1984  2016-06-27      0  Barclays and RBS shares suspended from trading...   \n",
      "1985  2016-06-28      1  2,500 Scientists To Australia: If You Want To ...   \n",
      "1986  2016-06-29      1                   Explosion At Airport In Istanbul   \n",
      "1987  2016-06-30      1  Jamaica proposes marijuana dispensers for tour...   \n",
      "1988  2016-07-01      1  A 117-year-old woman in Mexico City finally re...   \n",
      "\n",
      "                                                   Top2  \\\n",
      "2                    b\"Russia 'ends Georgia operation'\"   \n",
      "3     b\"When the president ordered to attack Tskhinv...   \n",
      "4     b'War in South Osetia - 89 pictures made by a ...   \n",
      "5     b\"Russia: U.S. Poland Missile Deal Won't Go 'U...   \n",
      "6             b\"Little girl, you're not ugly; they are\"   \n",
      "...                                                 ...   \n",
      "1984  Pope says Church should ask forgiveness from g...   \n",
      "1985  The personal details of 112,000 French police ...   \n",
      "1986  Yemeni former president: Terrorism is the offs...   \n",
      "1987  Stephen Hawking says pollution and 'stupidity'...   \n",
      "1988   IMF chief backs Athens as permanent Olympic host   \n",
      "\n",
      "                                                   Top3  \\\n",
      "2     b'\"If we had no sexual harassment we would hav...   \n",
      "3     b' Israel clears troops who killed Reuters cam...   \n",
      "4     b'Swedish wrestler Ara Abrahamian throws away ...   \n",
      "5     b\"The government has been accused of creating ...   \n",
      "6     b\"Pakistan's Musharraf to Resign, Leave the Co...   \n",
      "...                                                 ...   \n",
      "1984  Poland 'shocked' by xenophobic abuse of Poles ...   \n",
      "1985  S&amp;P cuts United Kingdom sovereign credit r...   \n",
      "1986  UK must accept freedom of movement to access E...   \n",
      "1987  Boris Johnson says he will not run for Tory pa...   \n",
      "1988  The president of France says if Brexit won, so...   \n",
      "\n",
      "                                                   Top4  \\\n",
      "2     b\"Al-Qa'eda is losing support in Iraq because ...   \n",
      "3     b'Britain\\'s policy of being tough on drugs is...   \n",
      "4     b'Russia exaggerated the death toll in South O...   \n",
      "5     b'The Italian government has lashed out at an ...   \n",
      "6     b'Tornado throws a bus in Poland, captured by ...   \n",
      "...                                                 ...   \n",
      "1984  There will be no second referendum, cabinet ag...   \n",
      "1985                Huge helium deposit found in Africa   \n",
      "1986  Devastated: scientists too late to captive bre...   \n",
      "1987  Six gay men in Ivory Coast were abused and for...   \n",
      "1988  British Man Who Must Give Police 24 Hours' Not...   \n",
      "\n",
      "                                                   Top5  \\\n",
      "2     b'Ceasefire in Georgia: Putin Outmaneuvers the...   \n",
      "3     b'Body of 14 year old found in trunk; Latest (...   \n",
      "4     b'Missile That Killed 9 Inside Pakistan May Ha...   \n",
      "5     b'Gorbachev: Georgia started conflict in S. Os...   \n",
      "6     b\"Britain's terror laws have left me and my fa...   \n",
      "...                                                 ...   \n",
      "1984      Scotland welcome to join EU, Merkel ally says   \n",
      "1985  CEO of the South African state broadcaster qui...   \n",
      "1986  British Labor Party leader Jeremy Corbyn loses...   \n",
      "1987  Switzerland denies citizenship to Muslim immig...   \n",
      "1988  100+ Nobel laureates urge Greenpeace to stop o...   \n",
      "\n",
      "                                                   Top6  \\\n",
      "2     b'Why Microsoft and Intel tried to kill the XO...   \n",
      "3     b'China has moved 10 *million* quake survivors...   \n",
      "4     b\"Rushdie Condemns Random House's Refusal to P...   \n",
      "5     b\"China fakes more than your girlfriend; 'Ethn...   \n",
      "6                  b\"Iran 'fires satellite into space'\"   \n",
      "...                                                 ...   \n",
      "1984  Sterling dips below Friday's 31-year low amid ...   \n",
      "1985  Brexit cost investors $2 trillion, the worst o...   \n",
      "1986  A Muslim Shop in the UK Was Just Firebombed Wh...   \n",
      "1987  Palestinian terrorist stabs israeli teen girl ...   \n",
      "1988  Brazil: Huge spike in number of police killing...   \n",
      "\n",
      "                                                   Top7  \\\n",
      "2     b'Stratfor: The Russo-Georgian War and the Bal...   \n",
      "3     b\"Bush announces Operation Get All Up In Russi...   \n",
      "4     b'Poland and US agree to missle defense deal. ...   \n",
      "5     b\"The UN's criticism of freedom of expression ...   \n",
      "6     b'Rights of Non-Muslims restricted by new Mald...   \n",
      "...                                                 ...   \n",
      "1984  No negative news about South African President...   \n",
      "1985  Hong Kong democracy activists call for return ...   \n",
      "1986  Mexican Authorities Sexually Torture Women in ...   \n",
      "1987  Puerto Rico will default on $1 billion of debt...   \n",
      "1988  Austria's highest court annuls presidential el...   \n",
      "\n",
      "                                                   Top8  ...  \\\n",
      "2     b\"I'm Trying to Get a Sense of This Whole Geor...  ...   \n",
      "3                b'Russian forces sink Georgian ships '  ...   \n",
      "4     b'Will the Russians conquer Tblisi? Bet on it,...  ...   \n",
      "5     b'Russian general threatens nuclear strike on ...  ...   \n",
      "6     b'Tour of Tskhinvali undercuts Russian version...  ...   \n",
      "...                                                 ...  ...   \n",
      "1984  Surge in Hate Crimes in the U.K. Following U.K...  ...   \n",
      "1985  Brexit: Iceland president says UK can join 'tr...  ...   \n",
      "1986            UK shares and pound continue to recover  ...   \n",
      "1987  Republic of Ireland fans to be awarded medal f...  ...   \n",
      "1988  Facebook wins privacy case, can track any Belg...  ...   \n",
      "\n",
      "                                                  Top16  \\\n",
      "2     b'U.S. troops still in Georgia (did you know t...   \n",
      "3                         b'Elephants extinct by 2020?'   \n",
      "4     b'Bank analyst forecast Georgian crisis 2 days...   \n",
      "5     b'Why are redditors generally supportive of Ru...   \n",
      "6                                b'MI5 seeks gay spies'   \n",
      "...                                                 ...   \n",
      "1984  German lawyers to probe Erdogan over alleged w...   \n",
      "1985  US, Canada and Mexico pledge 50% of power from...   \n",
      "1986  Escape Tunnel, Dug by Hand, Is Found at Holoca...   \n",
      "1987  Googles free wifi at Indian railway stations i...   \n",
      "1988  The United States has placed Myanmar, Uzbekist...   \n",
      "\n",
      "                                                  Top17  \\\n",
      "2          b'Why Russias response to Georgia was right'   \n",
      "3     b'US humanitarian missions soon in Georgia - i...   \n",
      "4     b\"Georgia confict could set back Russia's US r...   \n",
      "5     b'Johann Hari: We need to stop being such cowa...   \n",
      "6     b' New porn channel lets Canadians strut their...   \n",
      "...                                                 ...   \n",
      "1984  Boris Johnson says the UK will continue to \"in...   \n",
      "1985  There is increasing evidence that Australia is...   \n",
      "1986  The land under Beijing is sinking by as much a...   \n",
      "1987  Mounting evidence suggests 'hobbits' were wipe...   \n",
      "1988  S&amp;P revises European Union credit rating t...   \n",
      "\n",
      "                                                  Top18  \\\n",
      "2     b'Gorbachev accuses U.S. of making a \"serious ...   \n",
      "3                b\"Georgia's DDOS came from US sources\"   \n",
      "4     b'War in the Caucasus is as much the product o...   \n",
      "5     b'US officials have said that their military p...   \n",
      "6     b'The Dangerous Neighbor: Vladimir Putin Takes...   \n",
      "...                                                 ...   \n",
      "1984  Richard Branson is calling on the UK governmen...   \n",
      "1985  Richard Branson, the founder of Virgin Group, ...   \n",
      "1986  Car bomb and Anti-Islamic attack on Mosque in ...   \n",
      "1987  The men who carried out Tuesday's terror attac...   \n",
      "1988  India gets $1 billion loan from World Bank for...   \n",
      "\n",
      "                                                  Top19  \\\n",
      "2            b'Russia, Georgia, and NATO: Cold War Two'   \n",
      "3     b'Russian convoy heads into Georgia, violating...   \n",
      "4     b'\"Non-media\" photos of South Ossetia/Georgia ...   \n",
      "5     b'Israel clears troops who killed Reuters came...   \n",
      "6           b'Israel opinion page: Russians are saner.'   \n",
      "...                                                 ...   \n",
      "1984             Turkey 'sorry for downing Russian jet'   \n",
      "1985  37,000-yr-old skull from Borneo reveals surpri...   \n",
      "1986  Emaciated lions in Taiz Zoo are trapped in blo...   \n",
      "1987  Calls to suspend Saudi Arabia from UN Human Ri...   \n",
      "1988  U.S. sailors detained by Iran spoke too much u...   \n",
      "\n",
      "                                                  Top20  \\\n",
      "2     b'Remember that adorable 62-year-old who led y...   \n",
      "3     b'Israeli defence minister: US against strike ...   \n",
      "4     b'Georgian TV reporter shot by Russian sniper ...   \n",
      "5     b'Unenforceable laws encourage cops to escalat...   \n",
      "6                                        b\"NATO's Hour\"   \n",
      "...                                                 ...   \n",
      "1984  Edward Snowden lawyer vows new push for pardon...   \n",
      "1985  Palestinians stone Western Wall worshipers; po...   \n",
      "1986  Rupert Murdoch describes Brexit as 'wonderful'...   \n",
      "1987  More Than 100 Nobel Laureates Call Out Greenpe...   \n",
      "1988  Mass fish kill in Vietnam solved as Taiwan ste...   \n",
      "\n",
      "                                                  Top21  \\\n",
      "2             b'War in Georgia: The Israeli connection'   \n",
      "3                        b'Gorbachev: We Had No Choice'   \n",
      "4     b'Saudi Arabia: Mother moves to block child ma...   \n",
      "5           b'What Chinese pollution really looks like'   \n",
      "6     b'Georgian President Saakashvili Eats His Tie ...   \n",
      "...                                                 ...   \n",
      "1984  Brexit opinion poll reveals majority don't wan...   \n",
      "1985  Jean-Claude Juncker asks Farage: Why are you h...   \n",
      "1986       More than 40 killed in Yemen suicide attacks   \n",
      "1987  British pedophile sentenced to 85 years in US ...   \n",
      "1988  Philippines president Rodrigo Duterte urges pe...   \n",
      "\n",
      "                                                  Top22  \\\n",
      "2     b'All signs point to the US encouraging Georgi...   \n",
      "3     b'Witness: Russian forces head towards Tbilisi...   \n",
      "4      b'Taliban wages war on humanitarian aid workers'   \n",
      "5     b'Hacker Kidnaps and Tortures Informant, Posts...   \n",
      "6     b'No Chicken Left Behind: Animal RFID Surveill...   \n",
      "...                                                 ...   \n",
      "1984  Conservative MP Leave Campaigner: \"The leave c...   \n",
      "1985  \"Romanians for Remainians\" offering a new home...   \n",
      "1986  Google Found Disastrous Symantec and Norton Vu...   \n",
      "1987  US permitted 1,200 offshore fracks in Gulf of ...   \n",
      "1988  Spain arrests three Pakistanis accused of prom...   \n",
      "\n",
      "                                                  Top23  \\\n",
      "2     b'Christopher King argues that the US and NATO...   \n",
      "3     b' Quarter of Russians blame U.S. for conflict...   \n",
      "4     b'Russia: World  \"can forget about\" Georgia\\'s...   \n",
      "5     b'Bush Tells Putin: This Aggression Will Not S...   \n",
      "6     b'Putin has given us an order that everyone mu...   \n",
      "...                                                 ...   \n",
      "1984  Economists predict UK recession, further weake...   \n",
      "1985  Brexit: Gibraltar in talks with Scotland to st...   \n",
      "1986  Extremist violence on the rise in Germany: Dom...   \n",
      "1987  We will be swimming in ridicule - French beach...   \n",
      "1988  Venezuela, where anger over food shortages is ...   \n",
      "\n",
      "                                                  Top24  \\\n",
      "2                           b'America: The New Mexico?'   \n",
      "3     b'Georgian president  says US military will ta...   \n",
      "4     b'Darfur rebels accuse Sudan of mounting major...   \n",
      "5             b'Georgia is all about the oil pipelines'   \n",
      "6     b'National DNA database grows on the genes of ...   \n",
      "...                                                 ...   \n",
      "1984  New EU 'superstate plan by France, Germany: Cr...   \n",
      "1985                   8 Suicide Bombers Strike Lebanon   \n",
      "1986  BBC News: Labour MPs pass Corbyn no-confidence...   \n",
      "1987  UEFA says no minutes of silence for Istanbul v...   \n",
      "1988  A Hindu temple worker has been killed by three...   \n",
      "\n",
      "                                                  Top25  \n",
      "2     b\"BBC NEWS | Asia-Pacific | Extinction 'by man...  \n",
      "3     b'2006: Nobel laureate Aleksander Solzhenitsyn...  \n",
      "4     b'Philippines : Peace Advocate say Muslims nee...  \n",
      "5     b'Rivals say they plan to remove Georgian pres...  \n",
      "6            b'Mayor Asks Ugly Women To Visit His Town'  \n",
      "...                                                 ...  \n",
      "1984  Pakistani clerics declare transgender marriage...  \n",
      "1985  Mexico's security forces routinely use 'sexual...  \n",
      "1986  Tiny New Zealand town with 'too many jobs' lau...  \n",
      "1987  Law Enforcement Sources: Gun Used in Paris Ter...  \n",
      "1988  Ozone layer hole seems to be healing - US &amp...  \n",
      "\n",
      "[1987 rows x 27 columns]\n",
      "Top1\n",
      "Empty DataFrame\n",
      "Columns: [Date, Label, Top1, Top2, Top3, Top4, Top5, Top6, Top7, Top8, Top9, Top10, Top11, Top12, Top13, Top14, Top15, Top16, Top17, Top18, Top19, Top20, Top21, Top22, Top23, Top24, Top25]\n",
      "Index: []\n",
      "\n",
      "[0 rows x 27 columns]\n",
      "Top2\n",
      "Empty DataFrame\n",
      "Columns: [Date, Label, Top1, Top2, Top3, Top4, Top5, Top6, Top7, Top8, Top9, Top10, Top11, Top12, Top13, Top14, Top15, Top16, Top17, Top18, Top19, Top20, Top21, Top22, Top23, Top24, Top25]\n",
      "Index: []\n",
      "\n",
      "[0 rows x 27 columns]\n",
      "Top3\n",
      "           Date  Label                                               Top1  \\\n",
      "731  2011-07-05      0  Oil spill off China coast will hurt fishing in...   \n",
      "\n",
      "                                                  Top2  \\\n",
      "731  A law passed this morning allows Australian po...   \n",
      "\n",
      "                                            Top3  \\\n",
      "731  Putin: Who gave NATO right to kill Gaddafi?   \n",
      "\n",
      "                                          Top4  \\\n",
      "731  Mexican police arrest Zetas 'cartel boss'   \n",
      "\n",
      "                                                  Top5  \\\n",
      "731  Pakistan spy agency behind death of reporter w...   \n",
      "\n",
      "                                                  Top6  \\\n",
      "731  Ontario Court to rule on whether law that make...   \n",
      "\n",
      "                                                Top7  \\\n",
      "731  Horn of Africa hit by worst drought in 60 years   \n",
      "\n",
      "                                                  Top8  ...  \\\n",
      "731  North Korean military's morale 'Weakening'.  A...  ...   \n",
      "\n",
      "                                                 Top16  \\\n",
      "731  How Obama's views turned from criticism of US ...   \n",
      "\n",
      "                                                 Top17  \\\n",
      "731  Pakistan's powerful spy agency ISI ordered the...   \n",
      "\n",
      "                                                 Top18  \\\n",
      "731  Hama under attack, again. Syrian tanks, soldie...   \n",
      "\n",
      "                                                 Top19  \\\n",
      "731  Amnesty International has called for a UN-back...   \n",
      "\n",
      "                                                 Top20  \\\n",
      "731  Gaddafi would go in exchange for security: Report   \n",
      "\n",
      "                                                 Top21  \\\n",
      "731  Five things you can do to demand Murdoch owned...   \n",
      "\n",
      "                                                 Top22  \\\n",
      "731  UN President: \"We Won't Accept Regimes Who Kil...   \n",
      "\n",
      "                                                 Top23  \\\n",
      "731  British MPs are alarmed by 6.3bn of \"missing\" ...   \n",
      "\n",
      "                                                 Top24  \\\n",
      "731  Mexico captures alleged Zetas gang founder 'El...   \n",
      "\n",
      "                                                 Top25  \n",
      "731  Zimbabwe: Man sentenced to 189 years in jail f...  \n",
      "\n",
      "[1 rows x 27 columns]\n",
      "Top4\n",
      "Empty DataFrame\n",
      "Columns: [Date, Label, Top1, Top2, Top3, Top4, Top5, Top6, Top7, Top8, Top9, Top10, Top11, Top12, Top13, Top14, Top15, Top16, Top17, Top18, Top19, Top20, Top21, Top22, Top23, Top24, Top25]\n",
      "Index: []\n",
      "\n",
      "[0 rows x 27 columns]\n",
      "Top5\n",
      "Empty DataFrame\n",
      "Columns: [Date, Label, Top1, Top2, Top3, Top4, Top5, Top6, Top7, Top8, Top9, Top10, Top11, Top12, Top13, Top14, Top15, Top16, Top17, Top18, Top19, Top20, Top21, Top22, Top23, Top24, Top25]\n",
      "Index: []\n",
      "\n",
      "[0 rows x 27 columns]\n",
      "Top6\n",
      "Empty DataFrame\n",
      "Columns: [Date, Label, Top1, Top2, Top3, Top4, Top5, Top6, Top7, Top8, Top9, Top10, Top11, Top12, Top13, Top14, Top15, Top16, Top17, Top18, Top19, Top20, Top21, Top22, Top23, Top24, Top25]\n",
      "Index: []\n",
      "\n",
      "[0 rows x 27 columns]\n",
      "Top7\n",
      "Empty DataFrame\n",
      "Columns: [Date, Label, Top1, Top2, Top3, Top4, Top5, Top6, Top7, Top8, Top9, Top10, Top11, Top12, Top13, Top14, Top15, Top16, Top17, Top18, Top19, Top20, Top21, Top22, Top23, Top24, Top25]\n",
      "Index: []\n",
      "\n",
      "[0 rows x 27 columns]\n",
      "Top8\n",
      "Empty DataFrame\n",
      "Columns: [Date, Label, Top1, Top2, Top3, Top4, Top5, Top6, Top7, Top8, Top9, Top10, Top11, Top12, Top13, Top14, Top15, Top16, Top17, Top18, Top19, Top20, Top21, Top22, Top23, Top24, Top25]\n",
      "Index: []\n",
      "\n",
      "[0 rows x 27 columns]\n",
      "Top9\n",
      "Empty DataFrame\n",
      "Columns: [Date, Label, Top1, Top2, Top3, Top4, Top5, Top6, Top7, Top8, Top9, Top10, Top11, Top12, Top13, Top14, Top15, Top16, Top17, Top18, Top19, Top20, Top21, Top22, Top23, Top24, Top25]\n",
      "Index: []\n",
      "\n",
      "[0 rows x 27 columns]\n",
      "Top10\n",
      "Empty DataFrame\n",
      "Columns: [Date, Label, Top1, Top2, Top3, Top4, Top5, Top6, Top7, Top8, Top9, Top10, Top11, Top12, Top13, Top14, Top15, Top16, Top17, Top18, Top19, Top20, Top21, Top22, Top23, Top24, Top25]\n",
      "Index: []\n",
      "\n",
      "[0 rows x 27 columns]\n",
      "Top11\n",
      "Empty DataFrame\n",
      "Columns: [Date, Label, Top1, Top2, Top3, Top4, Top5, Top6, Top7, Top8, Top9, Top10, Top11, Top12, Top13, Top14, Top15, Top16, Top17, Top18, Top19, Top20, Top21, Top22, Top23, Top24, Top25]\n",
      "Index: []\n",
      "\n",
      "[0 rows x 27 columns]\n",
      "Top12\n",
      "Empty DataFrame\n",
      "Columns: [Date, Label, Top1, Top2, Top3, Top4, Top5, Top6, Top7, Top8, Top9, Top10, Top11, Top12, Top13, Top14, Top15, Top16, Top17, Top18, Top19, Top20, Top21, Top22, Top23, Top24, Top25]\n",
      "Index: []\n",
      "\n",
      "[0 rows x 27 columns]\n",
      "Top13\n",
      "Empty DataFrame\n",
      "Columns: [Date, Label, Top1, Top2, Top3, Top4, Top5, Top6, Top7, Top8, Top9, Top10, Top11, Top12, Top13, Top14, Top15, Top16, Top17, Top18, Top19, Top20, Top21, Top22, Top23, Top24, Top25]\n",
      "Index: []\n",
      "\n",
      "[0 rows x 27 columns]\n",
      "Top14\n",
      "Empty DataFrame\n",
      "Columns: [Date, Label, Top1, Top2, Top3, Top4, Top5, Top6, Top7, Top8, Top9, Top10, Top11, Top12, Top13, Top14, Top15, Top16, Top17, Top18, Top19, Top20, Top21, Top22, Top23, Top24, Top25]\n",
      "Index: []\n",
      "\n",
      "[0 rows x 27 columns]\n",
      "Top15\n",
      "Empty DataFrame\n",
      "Columns: [Date, Label, Top1, Top2, Top3, Top4, Top5, Top6, Top7, Top8, Top9, Top10, Top11, Top12, Top13, Top14, Top15, Top16, Top17, Top18, Top19, Top20, Top21, Top22, Top23, Top24, Top25]\n",
      "Index: []\n",
      "\n",
      "[0 rows x 27 columns]\n",
      "Top16\n",
      "Empty DataFrame\n",
      "Columns: [Date, Label, Top1, Top2, Top3, Top4, Top5, Top6, Top7, Top8, Top9, Top10, Top11, Top12, Top13, Top14, Top15, Top16, Top17, Top18, Top19, Top20, Top21, Top22, Top23, Top24, Top25]\n",
      "Index: []\n",
      "\n",
      "[0 rows x 27 columns]\n",
      "Top17\n",
      "Empty DataFrame\n",
      "Columns: [Date, Label, Top1, Top2, Top3, Top4, Top5, Top6, Top7, Top8, Top9, Top10, Top11, Top12, Top13, Top14, Top15, Top16, Top17, Top18, Top19, Top20, Top21, Top22, Top23, Top24, Top25]\n",
      "Index: []\n",
      "\n",
      "[0 rows x 27 columns]\n",
      "Top18\n",
      "Empty DataFrame\n",
      "Columns: [Date, Label, Top1, Top2, Top3, Top4, Top5, Top6, Top7, Top8, Top9, Top10, Top11, Top12, Top13, Top14, Top15, Top16, Top17, Top18, Top19, Top20, Top21, Top22, Top23, Top24, Top25]\n",
      "Index: []\n",
      "\n",
      "[0 rows x 27 columns]\n",
      "Top19\n",
      "Empty DataFrame\n",
      "Columns: [Date, Label, Top1, Top2, Top3, Top4, Top5, Top6, Top7, Top8, Top9, Top10, Top11, Top12, Top13, Top14, Top15, Top16, Top17, Top18, Top19, Top20, Top21, Top22, Top23, Top24, Top25]\n",
      "Index: []\n",
      "\n",
      "[0 rows x 27 columns]\n",
      "Top20\n",
      "Empty DataFrame\n",
      "Columns: [Date, Label, Top1, Top2, Top3, Top4, Top5, Top6, Top7, Top8, Top9, Top10, Top11, Top12, Top13, Top14, Top15, Top16, Top17, Top18, Top19, Top20, Top21, Top22, Top23, Top24, Top25]\n",
      "Index: []\n",
      "\n",
      "[0 rows x 27 columns]\n",
      "Top21\n",
      "Empty DataFrame\n",
      "Columns: [Date, Label, Top1, Top2, Top3, Top4, Top5, Top6, Top7, Top8, Top9, Top10, Top11, Top12, Top13, Top14, Top15, Top16, Top17, Top18, Top19, Top20, Top21, Top22, Top23, Top24, Top25]\n",
      "Index: []\n",
      "\n",
      "[0 rows x 27 columns]\n",
      "Top22\n",
      "Empty DataFrame\n",
      "Columns: [Date, Label, Top1, Top2, Top3, Top4, Top5, Top6, Top7, Top8, Top9, Top10, Top11, Top12, Top13, Top14, Top15, Top16, Top17, Top18, Top19, Top20, Top21, Top22, Top23, Top24, Top25]\n",
      "Index: []\n",
      "\n",
      "[0 rows x 27 columns]\n",
      "Top23\n",
      "Empty DataFrame\n",
      "Columns: [Date, Label, Top1, Top2, Top3, Top4, Top5, Top6, Top7, Top8, Top9, Top10, Top11, Top12, Top13, Top14, Top15, Top16, Top17, Top18, Top19, Top20, Top21, Top22, Top23, Top24, Top25]\n",
      "Index: []\n",
      "\n",
      "[0 rows x 27 columns]\n",
      "Top24\n",
      "           Date  Label                                               Top1  \\\n",
      "348  2009-12-24      1  b'Woman knocks down Pope Benedict at Christmas...   \n",
      "681  2011-04-21      1  Director of \"Restrepo\" and Photographer Chris ...   \n",
      "\n",
      "                                                  Top2  \\\n",
      "348  b'Ugandan President Museveni says he will bloc...   \n",
      "681  Everyone within 20km of Fukushima will be forc...   \n",
      "\n",
      "                                                  Top3  \\\n",
      "348  b\"Venezuela's Chavez threatens to kick out car...   \n",
      "681  Bahrain: Activist Zaynab Al-Khawaja's letter t...   \n",
      "\n",
      "                                                  Top4  \\\n",
      "348  b'Woman who knocked down pope had pasta in her...   \n",
      "681  More than 80,000 people are claiming incapacit...   \n",
      "\n",
      "                                                  Top5  \\\n",
      "348  b'450 people from 21 countries, including 30 f...   \n",
      "681  Libya: 'mission creep' claims as UK sends in m...   \n",
      "\n",
      "                                                  Top6  \\\n",
      "348  b'Chvez declares Angel Falls is no more: World...   \n",
      "681  Japan considers banning access to evacuation zone   \n",
      "\n",
      "                                                  Top7  \\\n",
      "348             b'Drug tests catch out 10 police (UK)'   \n",
      "681  Chinese oil giant Sinopec has stopped exportin...   \n",
      "\n",
      "                                                  Top8  ...  \\\n",
      "348  b'Once the worlds fourth-largest lake, the Ara...  ...   \n",
      "681  6.0-magnitude earthquake strikes off east coas...  ...   \n",
      "\n",
      "                                                 Top16  \\\n",
      "348  b'Pig farts spark Australia gas scare - I shit...   \n",
      "681  Russian migration official fired in racism row...   \n",
      "\n",
      "                                                 Top17  \\\n",
      "348  b'Bin Laden daughter flees to Saudi embassy in...   \n",
      "681  Small amounts of radioactive iodine found in b...   \n",
      "\n",
      "                                                 Top18  \\\n",
      "348  b'Traumatic Brain Injuries:  Growing evidence ...   \n",
      "681  War photographer, Oscar-nominated film directo...   \n",
      "\n",
      "                                                 Top19  \\\n",
      "348  b'The Pakistan Supreme Court has ordered the P...   \n",
      "681  Effeminate boys are being sent to a special ca...   \n",
      "\n",
      "                                                 Top20  \\\n",
      "348  b\"Here's a video the Taliban released this mor...   \n",
      "681  Japan Government Declares 12-Mile Area Around ...   \n",
      "\n",
      "                                                 Top21  \\\n",
      "348               b'Fireworks set off aboard airliner'   \n",
      "681  TEPCO admitted Wednesday that nuclear fuel in ...   \n",
      "\n",
      "                                                 Top22  \\\n",
      "348  b'Five VA men may face terrorism charges, Paki...   \n",
      "681  Fukushima evacuees face arrest if they return ...   \n",
      "\n",
      "                                                 Top23 Top24 Top25  \n",
      "348  b\"Ayatollah Montazeri's Legacy:  In death he m...              \n",
      "681          Prince Charles wins some kind of a record              \n",
      "\n",
      "[2 rows x 27 columns]\n",
      "Top25\n",
      "           Date  Label                                               Top1  \\\n",
      "348  2009-12-24      1  b'Woman knocks down Pope Benedict at Christmas...   \n",
      "681  2011-04-21      1  Director of \"Restrepo\" and Photographer Chris ...   \n",
      "\n",
      "                                                  Top2  \\\n",
      "348  b'Ugandan President Museveni says he will bloc...   \n",
      "681  Everyone within 20km of Fukushima will be forc...   \n",
      "\n",
      "                                                  Top3  \\\n",
      "348  b\"Venezuela's Chavez threatens to kick out car...   \n",
      "681  Bahrain: Activist Zaynab Al-Khawaja's letter t...   \n",
      "\n",
      "                                                  Top4  \\\n",
      "348  b'Woman who knocked down pope had pasta in her...   \n",
      "681  More than 80,000 people are claiming incapacit...   \n",
      "\n",
      "                                                  Top5  \\\n",
      "348  b'450 people from 21 countries, including 30 f...   \n",
      "681  Libya: 'mission creep' claims as UK sends in m...   \n",
      "\n",
      "                                                  Top6  \\\n",
      "348  b'Chvez declares Angel Falls is no more: World...   \n",
      "681  Japan considers banning access to evacuation zone   \n",
      "\n",
      "                                                  Top7  \\\n",
      "348             b'Drug tests catch out 10 police (UK)'   \n",
      "681  Chinese oil giant Sinopec has stopped exportin...   \n",
      "\n",
      "                                                  Top8  ...  \\\n",
      "348  b'Once the worlds fourth-largest lake, the Ara...  ...   \n",
      "681  6.0-magnitude earthquake strikes off east coas...  ...   \n",
      "\n",
      "                                                 Top16  \\\n",
      "348  b'Pig farts spark Australia gas scare - I shit...   \n",
      "681  Russian migration official fired in racism row...   \n",
      "\n",
      "                                                 Top17  \\\n",
      "348  b'Bin Laden daughter flees to Saudi embassy in...   \n",
      "681  Small amounts of radioactive iodine found in b...   \n",
      "\n",
      "                                                 Top18  \\\n",
      "348  b'Traumatic Brain Injuries:  Growing evidence ...   \n",
      "681  War photographer, Oscar-nominated film directo...   \n",
      "\n",
      "                                                 Top19  \\\n",
      "348  b'The Pakistan Supreme Court has ordered the P...   \n",
      "681  Effeminate boys are being sent to a special ca...   \n",
      "\n",
      "                                                 Top20  \\\n",
      "348  b\"Here's a video the Taliban released this mor...   \n",
      "681  Japan Government Declares 12-Mile Area Around ...   \n",
      "\n",
      "                                                 Top21  \\\n",
      "348               b'Fireworks set off aboard airliner'   \n",
      "681  TEPCO admitted Wednesday that nuclear fuel in ...   \n",
      "\n",
      "                                                 Top22  \\\n",
      "348  b'Five VA men may face terrorism charges, Paki...   \n",
      "681  Fukushima evacuees face arrest if they return ...   \n",
      "\n",
      "                                                 Top23 Top24 Top25  \n",
      "348  b\"Ayatollah Montazeri's Legacy:  In death he m...              \n",
      "681          Prince Charles wins some kind of a record              \n",
      "\n",
      "[2 rows x 27 columns]\n"
     ]
    }
   ],
   "source": [
    "# Check for Duplicated Title and investigate how many\n",
    "for i in data.columns:\n",
    "    print(i)\n",
    "    # Find a duplicate rows\n",
    "    print(data[data.duplicated([i])])\n",
    "    \n",
    "# not many duplicate cells. less than 10. Suspect is due to pinned post"
   ]
  },
  {
   "cell_type": "markdown",
   "metadata": {},
   "source": [
    "# Split to X and y"
   ]
  },
  {
   "cell_type": "code",
   "execution_count": 11,
   "metadata": {},
   "outputs": [
    {
     "data": {
      "text/plain": [
       "Index(['Top1', 'Top2', 'Top3', 'Top4', 'Top5', 'Top6', 'Top7', 'Top8', 'Top9',\n",
       "       'Top10', 'Top11', 'Top12', 'Top13', 'Top14', 'Top15', 'Top16', 'Top17',\n",
       "       'Top18', 'Top19', 'Top20', 'Top21', 'Top22', 'Top23', 'Top24', 'Top25'],\n",
       "      dtype='object')"
      ]
     },
     "execution_count": 11,
     "metadata": {},
     "output_type": "execute_result"
    }
   ],
   "source": [
    "# select x variables\n",
    "columns = data.columns[(data.columns != 'Date') & (data.columns != 'Label')]\n",
    "columns"
   ]
  },
  {
   "cell_type": "code",
   "execution_count": 12,
   "metadata": {},
   "outputs": [],
   "source": [
    "# Split daata into features X and target y\n",
    "y = data['Label']\n",
    "X = data[columns]"
   ]
  },
  {
   "cell_type": "code",
   "execution_count": 13,
   "metadata": {},
   "outputs": [
    {
     "name": "stderr",
     "output_type": "stream",
     "text": [
      "/Users/ethan/opt/anaconda3/lib/python3.7/site-packages/ipykernel_launcher.py:2: SettingWithCopyWarning: \n",
      "A value is trying to be set on a copy of a slice from a DataFrame.\n",
      "Try using .loc[row_indexer,col_indexer] = value instead\n",
      "\n",
      "See the caveats in the documentation: https://pandas.pydata.org/pandas-docs/stable/user_guide/indexing.html#returning-a-view-versus-a-copy\n",
      "  \n"
     ]
    }
   ],
   "source": [
    "# Create a combine feature for EDA later\n",
    "X['Combined'] = X[columns].apply(lambda x: ' '.join(x), axis = 1)"
   ]
  },
  {
   "cell_type": "code",
   "execution_count": 14,
   "metadata": {},
   "outputs": [
    {
     "data": {
      "text/html": [
       "<div>\n",
       "<style scoped>\n",
       "    .dataframe tbody tr th:only-of-type {\n",
       "        vertical-align: middle;\n",
       "    }\n",
       "\n",
       "    .dataframe tbody tr th {\n",
       "        vertical-align: top;\n",
       "    }\n",
       "\n",
       "    .dataframe thead th {\n",
       "        text-align: right;\n",
       "    }\n",
       "</style>\n",
       "<table border=\"1\" class=\"dataframe\">\n",
       "  <thead>\n",
       "    <tr style=\"text-align: right;\">\n",
       "      <th></th>\n",
       "      <th>Top1</th>\n",
       "      <th>Top2</th>\n",
       "      <th>Top3</th>\n",
       "      <th>Top4</th>\n",
       "      <th>Top5</th>\n",
       "      <th>Top6</th>\n",
       "      <th>Top7</th>\n",
       "      <th>Top8</th>\n",
       "      <th>Top9</th>\n",
       "      <th>Top10</th>\n",
       "      <th>...</th>\n",
       "      <th>Top17</th>\n",
       "      <th>Top18</th>\n",
       "      <th>Top19</th>\n",
       "      <th>Top20</th>\n",
       "      <th>Top21</th>\n",
       "      <th>Top22</th>\n",
       "      <th>Top23</th>\n",
       "      <th>Top24</th>\n",
       "      <th>Top25</th>\n",
       "      <th>Combined</th>\n",
       "    </tr>\n",
       "  </thead>\n",
       "  <tbody>\n",
       "    <tr>\n",
       "      <th>0</th>\n",
       "      <td>b\"Georgia 'downs two Russian warplanes' as cou...</td>\n",
       "      <td>b'BREAKING: Musharraf to be impeached.'</td>\n",
       "      <td>b'Russia Today: Columns of troops roll into So...</td>\n",
       "      <td>b'Russian tanks are moving towards the capital...</td>\n",
       "      <td>b\"Afghan children raped with 'impunity,' U.N. ...</td>\n",
       "      <td>b'150 Russian tanks have entered South Ossetia...</td>\n",
       "      <td>b\"Breaking: Georgia invades South Ossetia, Rus...</td>\n",
       "      <td>b\"The 'enemy combatent' trials are nothing but...</td>\n",
       "      <td>b'Georgian troops retreat from S. Osettain cap...</td>\n",
       "      <td>b'Did the U.S. Prep Georgia for War with Russia?'</td>\n",
       "      <td>...</td>\n",
       "      <td>b'Al-Qaeda Faces Islamist Backlash'</td>\n",
       "      <td>b'Condoleezza Rice: \"The US would not act to p...</td>\n",
       "      <td>b'This is a busy day:  The European Union has ...</td>\n",
       "      <td>b\"Georgia will withdraw 1,000 soldiers from Ir...</td>\n",
       "      <td>b'Why the Pentagon Thinks Attacking Iran is a ...</td>\n",
       "      <td>b'Caucasus in crisis: Georgia invades South Os...</td>\n",
       "      <td>b'Indian shoe manufactory  - And again in a se...</td>\n",
       "      <td>b'Visitors Suffering from Mental Illnesses Ban...</td>\n",
       "      <td>b\"No Help for Mexico's Kidnapping Surge\"</td>\n",
       "      <td>b\"Georgia 'downs two Russian warplanes' as cou...</td>\n",
       "    </tr>\n",
       "    <tr>\n",
       "      <th>1</th>\n",
       "      <td>b'Why wont America and Nato help us? If they w...</td>\n",
       "      <td>b'Bush puts foot down on Georgian conflict'</td>\n",
       "      <td>b\"Jewish Georgian minister: Thanks to Israeli ...</td>\n",
       "      <td>b'Georgian army flees in disarray as Russians ...</td>\n",
       "      <td>b\"Olympic opening ceremony fireworks 'faked'\"</td>\n",
       "      <td>b'What were the Mossad with fraudulent New Zea...</td>\n",
       "      <td>b'Russia angered by Israeli military sale to G...</td>\n",
       "      <td>b'An American citizen living in S.Ossetia blam...</td>\n",
       "      <td>b'Welcome To World War IV! Now In High Definit...</td>\n",
       "      <td>b\"Georgia's move, a mistake of monumental prop...</td>\n",
       "      <td>...</td>\n",
       "      <td>b'\"Do not believe TV, neither Russian nor Geor...</td>\n",
       "      <td>b'Riots are still going on in Montreal (Canada...</td>\n",
       "      <td>b'China to overtake US as largest manufacturer'</td>\n",
       "      <td>b'War in South Ossetia [PICS]'</td>\n",
       "      <td>b'Israeli Physicians Group Condemns State Tort...</td>\n",
       "      <td>b' Russia has just beaten the United States ov...</td>\n",
       "      <td>b'Perhaps *the* question about the Georgia - R...</td>\n",
       "      <td>b'Russia is so much better at war'</td>\n",
       "      <td>b\"So this is what it's come to: trading sex fo...</td>\n",
       "      <td>b'Why wont America and Nato help us? If they w...</td>\n",
       "    </tr>\n",
       "  </tbody>\n",
       "</table>\n",
       "<p>2 rows × 26 columns</p>\n",
       "</div>"
      ],
      "text/plain": [
       "                                                Top1  \\\n",
       "0  b\"Georgia 'downs two Russian warplanes' as cou...   \n",
       "1  b'Why wont America and Nato help us? If they w...   \n",
       "\n",
       "                                          Top2  \\\n",
       "0      b'BREAKING: Musharraf to be impeached.'   \n",
       "1  b'Bush puts foot down on Georgian conflict'   \n",
       "\n",
       "                                                Top3  \\\n",
       "0  b'Russia Today: Columns of troops roll into So...   \n",
       "1  b\"Jewish Georgian minister: Thanks to Israeli ...   \n",
       "\n",
       "                                                Top4  \\\n",
       "0  b'Russian tanks are moving towards the capital...   \n",
       "1  b'Georgian army flees in disarray as Russians ...   \n",
       "\n",
       "                                                Top5  \\\n",
       "0  b\"Afghan children raped with 'impunity,' U.N. ...   \n",
       "1      b\"Olympic opening ceremony fireworks 'faked'\"   \n",
       "\n",
       "                                                Top6  \\\n",
       "0  b'150 Russian tanks have entered South Ossetia...   \n",
       "1  b'What were the Mossad with fraudulent New Zea...   \n",
       "\n",
       "                                                Top7  \\\n",
       "0  b\"Breaking: Georgia invades South Ossetia, Rus...   \n",
       "1  b'Russia angered by Israeli military sale to G...   \n",
       "\n",
       "                                                Top8  \\\n",
       "0  b\"The 'enemy combatent' trials are nothing but...   \n",
       "1  b'An American citizen living in S.Ossetia blam...   \n",
       "\n",
       "                                                Top9  \\\n",
       "0  b'Georgian troops retreat from S. Osettain cap...   \n",
       "1  b'Welcome To World War IV! Now In High Definit...   \n",
       "\n",
       "                                               Top10  ...  \\\n",
       "0  b'Did the U.S. Prep Georgia for War with Russia?'  ...   \n",
       "1  b\"Georgia's move, a mistake of monumental prop...  ...   \n",
       "\n",
       "                                               Top17  \\\n",
       "0                b'Al-Qaeda Faces Islamist Backlash'   \n",
       "1  b'\"Do not believe TV, neither Russian nor Geor...   \n",
       "\n",
       "                                               Top18  \\\n",
       "0  b'Condoleezza Rice: \"The US would not act to p...   \n",
       "1  b'Riots are still going on in Montreal (Canada...   \n",
       "\n",
       "                                               Top19  \\\n",
       "0  b'This is a busy day:  The European Union has ...   \n",
       "1    b'China to overtake US as largest manufacturer'   \n",
       "\n",
       "                                               Top20  \\\n",
       "0  b\"Georgia will withdraw 1,000 soldiers from Ir...   \n",
       "1                     b'War in South Ossetia [PICS]'   \n",
       "\n",
       "                                               Top21  \\\n",
       "0  b'Why the Pentagon Thinks Attacking Iran is a ...   \n",
       "1  b'Israeli Physicians Group Condemns State Tort...   \n",
       "\n",
       "                                               Top22  \\\n",
       "0  b'Caucasus in crisis: Georgia invades South Os...   \n",
       "1  b' Russia has just beaten the United States ov...   \n",
       "\n",
       "                                               Top23  \\\n",
       "0  b'Indian shoe manufactory  - And again in a se...   \n",
       "1  b'Perhaps *the* question about the Georgia - R...   \n",
       "\n",
       "                                               Top24  \\\n",
       "0  b'Visitors Suffering from Mental Illnesses Ban...   \n",
       "1                 b'Russia is so much better at war'   \n",
       "\n",
       "                                               Top25  \\\n",
       "0           b\"No Help for Mexico's Kidnapping Surge\"   \n",
       "1  b\"So this is what it's come to: trading sex fo...   \n",
       "\n",
       "                                            Combined  \n",
       "0  b\"Georgia 'downs two Russian warplanes' as cou...  \n",
       "1  b'Why wont America and Nato help us? If they w...  \n",
       "\n",
       "[2 rows x 26 columns]"
      ]
     },
     "execution_count": 14,
     "metadata": {},
     "output_type": "execute_result"
    }
   ],
   "source": [
    "# Display top 2 rows of X\n",
    "X.head(2)"
   ]
  },
  {
   "cell_type": "code",
   "execution_count": 15,
   "metadata": {},
   "outputs": [
    {
     "data": {
      "text/plain": [
       "0    0\n",
       "1    1\n",
       "2    0\n",
       "3    0\n",
       "4    1\n",
       "Name: Label, dtype: int64"
      ]
     },
     "execution_count": 15,
     "metadata": {},
     "output_type": "execute_result"
    }
   ],
   "source": [
    "# Display top 5 rows of y\n",
    "y.head()"
   ]
  },
  {
   "cell_type": "code",
   "execution_count": 16,
   "metadata": {},
   "outputs": [
    {
     "data": {
      "text/plain": [
       "(1989, 26)"
      ]
     },
     "execution_count": 16,
     "metadata": {},
     "output_type": "execute_result"
    }
   ],
   "source": [
    "# Display X dataframe shape\n",
    "X.shape"
   ]
  },
  {
   "cell_type": "code",
   "execution_count": 17,
   "metadata": {},
   "outputs": [
    {
     "data": {
      "text/plain": [
       "(1989,)"
      ]
     },
     "execution_count": 17,
     "metadata": {},
     "output_type": "execute_result"
    }
   ],
   "source": [
    "# Display y dataframe shape\n",
    "y.shape"
   ]
  },
  {
   "cell_type": "code",
   "execution_count": 18,
   "metadata": {},
   "outputs": [
    {
     "name": "stdout",
     "output_type": "stream",
     "text": [
      "<class 'pandas.core.frame.DataFrame'>\n",
      "RangeIndex: 1989 entries, 0 to 1988\n",
      "Data columns (total 26 columns):\n",
      " #   Column    Non-Null Count  Dtype \n",
      "---  ------    --------------  ----- \n",
      " 0   Top1      1989 non-null   object\n",
      " 1   Top2      1989 non-null   object\n",
      " 2   Top3      1989 non-null   object\n",
      " 3   Top4      1989 non-null   object\n",
      " 4   Top5      1989 non-null   object\n",
      " 5   Top6      1989 non-null   object\n",
      " 6   Top7      1989 non-null   object\n",
      " 7   Top8      1989 non-null   object\n",
      " 8   Top9      1989 non-null   object\n",
      " 9   Top10     1989 non-null   object\n",
      " 10  Top11     1989 non-null   object\n",
      " 11  Top12     1989 non-null   object\n",
      " 12  Top13     1989 non-null   object\n",
      " 13  Top14     1989 non-null   object\n",
      " 14  Top15     1989 non-null   object\n",
      " 15  Top16     1989 non-null   object\n",
      " 16  Top17     1989 non-null   object\n",
      " 17  Top18     1989 non-null   object\n",
      " 18  Top19     1989 non-null   object\n",
      " 19  Top20     1989 non-null   object\n",
      " 20  Top21     1989 non-null   object\n",
      " 21  Top22     1989 non-null   object\n",
      " 22  Top23     1989 non-null   object\n",
      " 23  Top24     1989 non-null   object\n",
      " 24  Top25     1989 non-null   object\n",
      " 25  Combined  1989 non-null   object\n",
      "dtypes: object(26)\n",
      "memory usage: 404.1+ KB\n"
     ]
    }
   ],
   "source": [
    "# Check datatype for X\n",
    "X.info()"
   ]
  },
  {
   "cell_type": "code",
   "execution_count": 19,
   "metadata": {},
   "outputs": [
    {
     "name": "stdout",
     "output_type": "stream",
     "text": [
      "First date: 2008-08-08\n",
      "Last date: 2016-07-01\n"
     ]
    }
   ],
   "source": [
    "# Display first date and last date of data\n",
    "print(\"First date: \"+ data['Date'].min())\n",
    "print(\"Last date: \"+ data['Date'].max())"
   ]
  },
  {
   "cell_type": "code",
   "execution_count": 20,
   "metadata": {},
   "outputs": [
    {
     "data": {
      "text/plain": [
       "0     2008-08-08\n",
       "1     2008-08-11\n",
       "2     2008-08-12\n",
       "3     2008-08-13\n",
       "4     2008-08-14\n",
       "5     2008-08-15\n",
       "6     2008-08-18\n",
       "7     2008-08-19\n",
       "8     2008-08-20\n",
       "9     2008-08-21\n",
       "10    2008-08-22\n",
       "11    2008-08-25\n",
       "12    2008-08-26\n",
       "13    2008-08-27\n",
       "14    2008-08-28\n",
       "Name: Date, dtype: object"
      ]
     },
     "execution_count": 20,
     "metadata": {},
     "output_type": "execute_result"
    }
   ],
   "source": [
    "# Check date\n",
    "data['Date'].head(15)"
   ]
  },
  {
   "cell_type": "markdown",
   "metadata": {},
   "source": [
    "Notice that the observations data is not everyday. 8 August 2008 falls on a Friday. \n",
    "11 to 15 August 2008 falls on weekday. Same for 18 to 22 August 2008. This means that there is no stock trading on weekends. [The New York Stock Exchange (NYSE)](https://www.investors.com/research/stock-market-holidays/) is also closed on public holidays and special occassions such as mourning subject to announcement."
   ]
  },
  {
   "cell_type": "markdown",
   "metadata": {},
   "source": [
    "# Split data into training and testing sets"
   ]
  },
  {
   "cell_type": "code",
   "execution_count": 21,
   "metadata": {},
   "outputs": [],
   "source": [
    "X_train, X_test, y_train, y_test = train_test_split(X,y,shuffle=False,test_size=0.2) "
   ]
  },
  {
   "cell_type": "code",
   "execution_count": 22,
   "metadata": {},
   "outputs": [],
   "source": [
    "X_test.reset_index(inplace=True,drop=True)"
   ]
  },
  {
   "cell_type": "markdown",
   "metadata": {},
   "source": [
    "# Baseline Model"
   ]
  },
  {
   "cell_type": "code",
   "execution_count": 23,
   "metadata": {},
   "outputs": [
    {
     "data": {
      "text/plain": [
       "1    0.542426\n",
       "0    0.457574\n",
       "Name: Label, dtype: float64"
      ]
     },
     "execution_count": 23,
     "metadata": {},
     "output_type": "execute_result"
    }
   ],
   "source": [
    "y_train.value_counts(normalize=True)"
   ]
  },
  {
   "cell_type": "markdown",
   "metadata": {},
   "source": [
    "# Preprocessing"
   ]
  },
  {
   "cell_type": "code",
   "execution_count": 24,
   "metadata": {},
   "outputs": [
    {
     "name": "stdout",
     "output_type": "stream",
     "text": [
      "There are 192 stopwords.\n",
      "\n",
      "{\"it's\", 'hers', 'until', 'into', 'by', 'get', \"we'll\", 'both', 'during', 'off', 'she', \"who's\", 'our', 'who', 'is', 'and', \"they'd\", 'in', \"you'd\", 'his', 'nor', 'your', 'cannot', \"why's\", 'each', \"i'd\", 'not', 'because', \"we'd\", 'be', 'there', \"i'm\", 'whom', 'of', 'a', 'too', 'own', 'however', 'against', 'only', 'further', \"we've\", \"hasn't\", 'their', \"that's\", \"doesn't\", \"don't\", 'were', 'me', \"she'd\", 'ever', 'than', 'more', 'any', 'for', 'i', \"where's\", 'k', 'has', \"can't\", 'its', \"she'll\", 'between', 'did', 'themselves', 'very', 'www', 'http', \"wasn't\", 'her', 'yourselves', 'up', 'an', 'does', 'since', 'com', 'my', 'therefore', 'else', 'then', 'if', 'over', \"haven't\", \"he'll\", 'but', 'below', 'out', 'down', 'himself', \"shouldn't\", 'through', 'when', 'should', 'herself', \"what's\", \"hadn't\", 'do', \"shan't\", 'from', \"weren't\", 'how', \"she's\", \"i'll\", 'most', 'at', 'again', 'to', 'once', 'just', \"when's\", 'yours', \"here's\", 'had', 'the', \"wouldn't\", 'itself', \"they're\", 'can', 'r', 'this', 'some', 'shall', 'these', 'otherwise', 'they', 'being', 'he', 'them', 'why', 'or', \"there's\", 'about', \"mustn't\", 'yourself', 'with', \"we're\", 'could', 'after', 'which', \"won't\", 'all', 'while', 'before', 'also', \"they've\", \"didn't\", 'like', 'having', \"he'd\", 'what', 'where', 'as', 'hence', \"aren't\", 'ours', 'you', \"he's\", \"they'll\", 'him', 'under', 'few', 'been', 'same', 'that', 'myself', 'so', 'doing', 'ourselves', \"i've\", 'other', 'have', 'no', \"you'll\", \"you're\", 'here', \"let's\", 'it', 'was', \"couldn't\", 'theirs', 'would', 'are', 'ought', \"you've\", 'above', 'we', \"isn't\", 'those', 'such', \"how's\", 'am', 'on'}\n"
     ]
    }
   ],
   "source": [
    "# print stopwords from wordcloud library\n",
    "print(\"There are \"+ str(len(STOPWORDS)) + \" stopwords.\\n\")\n",
    "print(STOPWORDS)"
   ]
  },
  {
   "cell_type": "code",
   "execution_count": 25,
   "metadata": {
    "scrolled": true
   },
   "outputs": [
    {
     "name": "stdout",
     "output_type": "stream",
     "text": [
      "There are 179 stopwords.\n",
      "\n",
      "['i', 'me', 'my', 'myself', 'we', 'our', 'ours', 'ourselves', 'you', \"you're\", \"you've\", \"you'll\", \"you'd\", 'your', 'yours', 'yourself', 'yourselves', 'he', 'him', 'his', 'himself', 'she', \"she's\", 'her', 'hers', 'herself', 'it', \"it's\", 'its', 'itself', 'they', 'them', 'their', 'theirs', 'themselves', 'what', 'which', 'who', 'whom', 'this', 'that', \"that'll\", 'these', 'those', 'am', 'is', 'are', 'was', 'were', 'be', 'been', 'being', 'have', 'has', 'had', 'having', 'do', 'does', 'did', 'doing', 'a', 'an', 'the', 'and', 'but', 'if', 'or', 'because', 'as', 'until', 'while', 'of', 'at', 'by', 'for', 'with', 'about', 'against', 'between', 'into', 'through', 'during', 'before', 'after', 'above', 'below', 'to', 'from', 'up', 'down', 'in', 'out', 'on', 'off', 'over', 'under', 'again', 'further', 'then', 'once', 'here', 'there', 'when', 'where', 'why', 'how', 'all', 'any', 'both', 'each', 'few', 'more', 'most', 'other', 'some', 'such', 'no', 'nor', 'not', 'only', 'own', 'same', 'so', 'than', 'too', 'very', 's', 't', 'can', 'will', 'just', 'don', \"don't\", 'should', \"should've\", 'now', 'd', 'll', 'm', 'o', 're', 've', 'y', 'ain', 'aren', \"aren't\", 'couldn', \"couldn't\", 'didn', \"didn't\", 'doesn', \"doesn't\", 'hadn', \"hadn't\", 'hasn', \"hasn't\", 'haven', \"haven't\", 'isn', \"isn't\", 'ma', 'mightn', \"mightn't\", 'mustn', \"mustn't\", 'needn', \"needn't\", 'shan', \"shan't\", 'shouldn', \"shouldn't\", 'wasn', \"wasn't\", 'weren', \"weren't\", 'won', \"won't\", 'wouldn', \"wouldn't\"]\n"
     ]
    }
   ],
   "source": [
    "# Print stopwords from nltk library\n",
    "print(\"There are \"+ str(len(stopwords.words('english'))) + \" stopwords.\\n\")\n",
    "print(stopwords.words('english'))"
   ]
  },
  {
   "cell_type": "code",
   "execution_count": 26,
   "metadata": {},
   "outputs": [],
   "source": [
    "# Function to remove stopwords\n",
    "def remove_stopwords(series,stopwords):\n",
    "    new=[]\n",
    "    combine=series.split()\n",
    "    for i in combine:\n",
    "        if i in stopwords:\n",
    "            continue;\n",
    "        else:\n",
    "            new.append(i)\n",
    "    return ' '.join(new)"
   ]
  },
  {
   "cell_type": "code",
   "execution_count": 27,
   "metadata": {},
   "outputs": [
    {
     "name": "stdout",
     "output_type": "stream",
     "text": [
      "There are 228 stopwords.\n",
      "\n",
      "['y', \"it's\", 'won', 'hers', 'until', 'into', 'by', 'get', 'isn', \"we'll\", 'both', 'during', 'mightn', 'off', 'she', \"who's\", \"needn't\", 'our', \"should've\", \"mightn't\", 'who', 'is', 'll', 'and', \"they'd\", 'in', \"you'd\", 'his', 'nor', 'your', 't', 'weren', 'cannot', \"why's\", 'didn', 'each', \"i'd\", 'couldn', 'because', \"we'd\", 'be', 'there', \"i'm\", 'whom', 'of', 'a', 'too', 'own', 'however', 'against', 'only', 'further', \"we've\", \"hasn't\", 'their', \"that's\", \"doesn't\", \"don't\", 'were', 'me', \"she'd\", 'ever', 'than', 'more', 'any', 'for', 'i', \"where's\", 'needn', 'k', 'has', 're', \"can't\", 'ma', 'o', 'its', \"she'll\", 'between', 'did', 'themselves', 'very', 'www', 'http', \"wasn't\", 'her', 'yourselves', 'up', 'an', 'does', 'since', 'com', 'my', 'therefore', 'else', 'haven', 'then', 'if', 'over', \"haven't\", \"he'll\", 'but', 'below', 'out', 'down', 'himself', \"shouldn't\", 'through', 'when', 'should', 'wouldn', 'herself', \"what's\", 'don', \"hadn't\", 'do', \"shan't\", 'from', \"weren't\", 'how', \"she's\", \"i'll\", 'most', 'at', 'again', 'to', 'once', 'just', \"when's\", 'yours', 'will', \"here's\", 'had', 'the', \"wouldn't\", 've', 'itself', \"they're\", 'mustn', 'doesn', 'can', 'r', 'this', 'some', \"that'll\", 'shall', 'these', 'otherwise', 'they', 'm', 'being', 'ain', 'he', 'them', 'why', 'or', \"there's\", 'about', 'hadn', 'wasn', \"mustn't\", 'yourself', 'with', \"we're\", 'could', 'after', 'which', \"won't\", 'all', 'while', 'hasn', 'before', 'also', \"they've\", \"didn't\", 'aren', 'like', 'having', \"he'd\", 'what', 'where', 'as', 'hence', 'now', \"aren't\", 'ours', 'you', \"he's\", 'shouldn', \"they'll\", 'him', 'under', 'few', 'been', 'same', 'that', 's', 'myself', 'so', 'd', 'doing', 'ourselves', \"i've\", 'other', 'have', 'no', \"you'll\", \"you're\", 'shan', 'here', \"let's\", 'it', 'was', \"couldn't\", 'theirs', 'would', 'are', 'ought', \"you've\", 'above', 'we', \"isn't\", 'those', 'such', \"how's\", 'am', 'on', 'year', 'say']\n"
     ]
    }
   ],
   "source": [
    "# combine nltk, wordcloud's stopwords \n",
    "# excluding 'year' and 'say' which is discovered from later and put back here to be removed\n",
    "stopwords_combined = list(set().union(STOPWORDS,stopwords.words('english'))-set(['not']))\n",
    "stopwords_combined.extend(['year','say'])\n",
    "print(\"There are \"+ str(len(stopwords_combined)) + \" stopwords.\\n\")\n",
    "print(stopwords_combined)"
   ]
  },
  {
   "cell_type": "code",
   "execution_count": 28,
   "metadata": {},
   "outputs": [],
   "source": [
    "def titles_combine(titles):\n",
    "    # Function to convert a raw titles to a string of cleaned words\n",
    "    # The input is a single string (a raw title of a news), and \n",
    "    # the output is a single string (a preprocessed title)\n",
    "    \n",
    "    # 1. Remove HTML, if any\n",
    "    titles = BeautifulSoup(titles).get_text()\n",
    "    \n",
    "     # 2. Remove b' starting\n",
    "    titles = re.sub('(^b\\')|(^b\\\")',' ',''.join(titles))\n",
    "    \n",
    "    # 3. Remove stopwords first before removing non-letters\n",
    "    # Temporary split the sentence into words\n",
    "    words_split = titles.split()\n",
    "    temp_split = [w for w in words_split if not w in stopwords_combined] \n",
    "    titles = ' '.join(temp_split)\n",
    "\n",
    "    # 4. Remove non-letters and numbers except full stop\n",
    "    # A-z didn't remove \\ properly so used A-Za-z instead\n",
    "    titles = ''.join(re.sub(\"[^A-Za-z. \\t]\",' ', titles))\n",
    "\n",
    "    # 5. Convert to lower case, split into individual words\n",
    "    titles = titles.lower()\n",
    "    \n",
    "    # 6. Tokenize: Split the sentence into words\n",
    "    words_list = nltk.word_tokenize(titles)\n",
    "    \n",
    "    # 7. Lemmatize list of words and join\n",
    "    lemmatizer = WordNetLemmatizer()\n",
    "    lemmatized_output = ' '.join([lemmatizer.lemmatize(w) for w in words_list])\n",
    "    \n",
    "    # 8. Remove full stop only\n",
    "    # Convert example U.S. to U.S \n",
    "    cleaned_titles = re.sub('\\.\\s+',' ',''.join(lemmatized_output))\n",
    "    cleaned_titles = re.sub('\\s+\\.',' ',''.join(cleaned_titles))\n",
    "    \n",
    "    return (cleaned_titles)"
   ]
  },
  {
   "cell_type": "code",
   "execution_count": 29,
   "metadata": {},
   "outputs": [],
   "source": [
    "# Function to loop each row to cleanup\n",
    "def data_cleanup(df,cols):\n",
    "    df_new = pd.DataFrame()\n",
    "    for col in tqdm(cols):\n",
    "        for i in range(len(df[col])):\n",
    "            df_new.loc[i,col] = titles_combine(df.loc[i,col])\n",
    "                \n",
    "    return df_new"
   ]
  },
  {
   "cell_type": "code",
   "execution_count": 30,
   "metadata": {},
   "outputs": [
    {
     "data": {
      "application/vnd.jupyter.widget-view+json": {
       "model_id": "f80c4f09bce94e018032649b394f9cf7",
       "version_major": 2,
       "version_minor": 0
      },
      "text/plain": [
       "HBox(children=(FloatProgress(value=0.0, max=25.0), HTML(value='')))"
      ]
     },
     "metadata": {},
     "output_type": "display_data"
    },
    {
     "name": "stdout",
     "output_type": "stream",
     "text": [
      "\n"
     ]
    },
    {
     "name": "stderr",
     "output_type": "stream",
     "text": [
      "/Users/ethan/opt/anaconda3/lib/python3.7/site-packages/ipykernel_launcher.py:3: SettingWithCopyWarning: \n",
      "A value is trying to be set on a copy of a slice from a DataFrame.\n",
      "Try using .loc[row_indexer,col_indexer] = value instead\n",
      "\n",
      "See the caveats in the documentation: https://pandas.pydata.org/pandas-docs/stable/user_guide/indexing.html#returning-a-view-versus-a-copy\n",
      "  This is separate from the ipykernel package so we can avoid doing imports until\n"
     ]
    },
    {
     "data": {
      "application/vnd.jupyter.widget-view+json": {
       "model_id": "05744b0ac8464cd1b909752c92e4adbd",
       "version_major": 2,
       "version_minor": 0
      },
      "text/plain": [
       "HBox(children=(FloatProgress(value=0.0, max=25.0), HTML(value='')))"
      ]
     },
     "metadata": {},
     "output_type": "display_data"
    },
    {
     "name": "stdout",
     "output_type": "stream",
     "text": [
      "\n"
     ]
    },
    {
     "name": "stderr",
     "output_type": "stream",
     "text": [
      "/Users/ethan/opt/anaconda3/lib/python3.7/site-packages/ipykernel_launcher.py:4: SettingWithCopyWarning: \n",
      "A value is trying to be set on a copy of a slice from a DataFrame.\n",
      "Try using .loc[row_indexer,col_indexer] = value instead\n",
      "\n",
      "See the caveats in the documentation: https://pandas.pydata.org/pandas-docs/stable/user_guide/indexing.html#returning-a-view-versus-a-copy\n",
      "  after removing the cwd from sys.path.\n"
     ]
    }
   ],
   "source": [
    "# Apply cleanup function to train and test data\n",
    "# Create a combine feature\n",
    "X_train['Combined_new'] = data_cleanup(X_train,columns)[columns].apply(lambda x: ' '.join(x), axis = 1)\n",
    "X_test['Combined_new'] = data_cleanup(X_test,columns)[columns].apply(lambda x: ' '.join(x), axis = 1)"
   ]
  },
  {
   "cell_type": "code",
   "execution_count": 31,
   "metadata": {},
   "outputs": [
    {
     "data": {
      "text/plain": [
       "'georgia down two russian warplane country move brink war breaking musharraf impeached  russia today column troop roll south ossetia footage fighting youtube russian tank moving towards capital south ossetia reportedly completely destroyed georgian artillery fire afghan child raped impunity u.n official say sick three old raped nothing russian tank entered south ossetia whilst georgia shoot two russian jet  breaking georgia invades south ossetia russia warned intervene so s side the enemy combatent trial nothing sham salim haman sentenced year kept longer anyway feel it  georgian troop retreat s osettain capital presumably leaving several hundred people killed  video did u.s prep georgia war russia rice give green light israel attack iran say u.s veto israeli military ops announcing class action lawsuit behalf american public against fbi so russia georgia war nyt s top story opening ceremony olympics what fucking disgrace yet proof decline journalism  china tell bush stay country affair did world war iii start today georgia invades south ossetia russia get involved nato absorb georgia unleash full scale war al qaeda face islamist backlash condoleezza rice the u not act prevent israeli strike iran  israeli defense minister ehud barak israel prepared uncompromising victory case military hostility  this busy day the european union approved new sanction iran protest nuclear programme  georgia withdraw soldier iraq help fight russian force georgia s breakaway region south ossetia why pentagon think attacking iran bad idea u news world report caucasus crisis georgia invades south ossetia indian shoe manufactory and series you not work visitor suffering mental illness banned olympics no help mexico s kidnapping surge'"
      ]
     },
     "execution_count": 31,
     "metadata": {},
     "output_type": "execute_result"
    }
   ],
   "source": [
    "# Display one of the cleaned combine feature\n",
    "X_train['Combined_new'][0]"
   ]
  },
  {
   "cell_type": "code",
   "execution_count": 32,
   "metadata": {},
   "outputs": [
    {
     "data": {
      "text/plain": [
       "'b\"Georgia \\'downs two Russian warplanes\\' as countries move to brink of war\" b\\'BREAKING: Musharraf to be impeached.\\' b\\'Russia Today: Columns of troops roll into South Ossetia; footage from fighting (YouTube)\\' b\\'Russian tanks are moving towards the capital of South Ossetia, which has reportedly been completely destroyed by Georgian artillery fire\\' b\"Afghan children raped with \\'impunity,\\' U.N. official says - this is sick, a three year old was raped and they do nothing\" b\\'150 Russian tanks have entered South Ossetia whilst Georgia shoots down two Russian jets.\\' b\"Breaking: Georgia invades South Ossetia, Russia warned it would intervene on SO\\'s side\" b\"The \\'enemy combatent\\' trials are nothing but a sham: Salim Haman has been sentenced to 5 1/2 years, but will be kept longer anyway just because they feel like it.\" b\\'Georgian troops retreat from S. Osettain capital, presumably leaving several hundred people killed. [VIDEO]\\' b\\'Did the U.S. Prep Georgia for War with Russia?\\' b\\'Rice Gives Green Light for Israel to Attack Iran: Says U.S. has no veto over Israeli military ops\\' b\\'Announcing:Class Action Lawsuit on Behalf of American Public Against the FBI\\' b\"So---Russia and Georgia are at war and the NYT\\'s top story is opening ceremonies of the Olympics?  What a fucking disgrace and yet further proof of the decline of journalism.\" b\"China tells Bush to stay out of other countries\\' affairs\" b\\'Did World War III start today?\\' b\\'Georgia Invades South Ossetia - if Russia gets involved, will NATO absorb Georgia and unleash a full scale war?\\' b\\'Al-Qaeda Faces Islamist Backlash\\' b\\'Condoleezza Rice: \"The US would not act to prevent an Israeli strike on Iran.\" Israeli Defense Minister Ehud Barak: \"Israel is prepared for uncompromising victory in the case of military hostilities.\"\\' b\\'This is a busy day:  The European Union has approved new sanctions against Iran in protest at its nuclear programme.\\' b\"Georgia will withdraw 1,000 soldiers from Iraq to help fight off Russian forces in Georgia\\'s breakaway region of South Ossetia\" b\\'Why the Pentagon Thinks Attacking Iran is a Bad Idea - US News &amp; World Report\\' b\\'Caucasus in crisis: Georgia invades South Ossetia\\' b\\'Indian shoe manufactory  - And again in a series of \"you do not like your work?\"\\' b\\'Visitors Suffering from Mental Illnesses Banned from Olympics\\' b\"No Help for Mexico\\'s Kidnapping Surge\"'"
      ]
     },
     "execution_count": 32,
     "metadata": {},
     "output_type": "execute_result"
    }
   ],
   "source": [
    "# Compare with the original title before cleaning\n",
    "X_train['Combined'][0]"
   ]
  },
  {
   "cell_type": "markdown",
   "metadata": {},
   "source": [
    "# Exploratory Data Analysis"
   ]
  },
  {
   "cell_type": "code",
   "execution_count": 33,
   "metadata": {},
   "outputs": [
    {
     "name": "stdout",
     "output_type": "stream",
     "text": [
      "First date of Train set: 2008-08-08\n",
      "Last date of Train set: 2014-12-03\n",
      "First date of Test set: 2014-12-04\n",
      "Last date of Test set: 2016-07-01\n"
     ]
    }
   ],
   "source": [
    "# Display first date and last date of train set\n",
    "print(\"First date of Train set: \"+ data.loc[0,'Date'])\n",
    "print(\"Last date of Train set: \"+ data.loc[X_train.shape[0],'Date'])\n",
    "\n",
    "# Display first date and last date of test set\n",
    "print(\"First date of Test set: \"+ data.loc[X_train.shape[0]+1,'Date'])\n",
    "print(\"Last date of Test set: \"+ data['Date'].max())"
   ]
  },
  {
   "cell_type": "code",
   "execution_count": 34,
   "metadata": {},
   "outputs": [
    {
     "name": "stdout",
     "output_type": "stream",
     "text": [
      "Number of observations in Train set: 1591\n",
      "Number of observations in Train set: 398\n"
     ]
    }
   ],
   "source": [
    "# Display number of observations in Train set\n",
    "print(\"Number of observations in Train set: \"+ str(X_train.shape[0]))\n",
    "\n",
    "# Display number of observations in Test set\n",
    "print(\"Number of observations in Train set: \"+ str(X_test.shape[0]))"
   ]
  },
  {
   "cell_type": "code",
   "execution_count": 35,
   "metadata": {},
   "outputs": [
    {
     "data": {
      "image/png": "[encoded data removed]",
      "text/plain": [
       "<Figure size 1080x576 with 1 Axes>"
      ]
     },
     "metadata": {
      "needs_background": "light"
     },
     "output_type": "display_data"
    }
   ],
   "source": [
    "# Distribution of Number of words in the 25 titles per day for train data\n",
    "\n",
    "# Split into words to be counted\n",
    "X_train_count = list(map(lambda x: len(x.split()), X_train['Combined']))\n",
    "count_df = pd.DataFrame({'counts': X_train_count})\n",
    "# Put word counts as x\n",
    "x=count_df.counts\n",
    "\n",
    "# Configure plot size\n",
    "plt.figure(figsize=(15,8))\n",
    "# Plot histogram\n",
    "count_df.counts.plot.hist(bins = 80);\n",
    "# add mean, median, model to plot\n",
    "mean=x.mean()\n",
    "median=x.median()\n",
    "mode=pd.DataFrame(x.mode())[0][0]\n",
    "plt.xlabel(\"Number of words in the 25 titles per day before preprocessing for train data\")\n",
    "plt.axvline(mean, color='green')\n",
    "plt.axvline(median, color='red',linestyle= '--')\n",
    "plt.axvline(mode, color='purple')\n",
    "# Add title\n",
    "plt.title(\"Distribution of number of words in the 25 titles per day before preprocessing for train data\")\n",
    "# Add legend\n",
    "plt.legend({'Mean':mean,'Median':median,'Mode':mode});"
   ]
  },
  {
   "cell_type": "code",
   "execution_count": 36,
   "metadata": {},
   "outputs": [
    {
     "name": "stdout",
     "output_type": "stream",
     "text": [
      "Before Preprocessing: \n",
      "                            \n",
      "There are 702193 words in total from train set.\n",
      "There are 177957 words in total from test set.\n",
      "                            \n",
      "After Preprocessing: \n",
      "                            \n",
      "There are 494133 words in total from train set.\n",
      "There are 126386 words in total from test set.\n"
     ]
    }
   ],
   "source": [
    "# Print total number words\n",
    "print('Before Preprocessing: ')\n",
    "print('                            ')\n",
    "print (\"There are {} words in total from train set.\".format(sum(list(map(lambda x: len(x.split()), X_train['Combined'])))))\n",
    "print (\"There are {} words in total from test set.\".format(sum(list(map(lambda x: len(x.split()), X_test['Combined'])))))\n",
    "print('                            ')\n",
    "print('After Preprocessing: ')\n",
    "print('                            ')\n",
    "print (\"There are {} words in total from train set.\".format(sum(list(map(lambda x: len(x.split()), X_train['Combined_new'])))))\n",
    "print (\"There are {} words in total from test set.\".format(sum(list(map(lambda x: len(x.split()), X_test['Combined_new'])))))"
   ]
  },
  {
   "cell_type": "code",
   "execution_count": 37,
   "metadata": {},
   "outputs": [
    {
     "name": "stdout",
     "output_type": "stream",
     "text": [
      "Before Preprocessing: \n",
      "                            \n",
      "There are 31514 unique words in total from train set.\n",
      "There are 16509 unique words in total from test set.\n",
      "                            \n",
      "After Preprocessing: \n",
      "                            \n",
      "There are 26319 unique words in total from train set.\n",
      "There are 13746 unique words in total from test set.\n"
     ]
    }
   ],
   "source": [
    "# Print total number of unique words \n",
    "plain_cvec = CountVectorizer()\n",
    "print('Before Preprocessing: ')\n",
    "print('                            ')\n",
    "print (\"There are {} unique words in total from train set.\".format(plain_cvec.fit_transform(X_train['Combined']).shape[1]))\n",
    "print (\"There are {} unique words in total from test set.\".format(plain_cvec.fit_transform(X_test['Combined']).shape[1]))\n",
    "print('                            ')\n",
    "print('After Preprocessing: ')\n",
    "print('                            ')\n",
    "print (\"There are {} unique words in total from train set.\".format(plain_cvec.fit_transform(X_train['Combined_new']).shape[1]))\n",
    "print (\"There are {} unique words in total from test set.\".format(plain_cvec.fit_transform(X_test['Combined_new']).shape[1]))"
   ]
  },
  {
   "cell_type": "code",
   "execution_count": 38,
   "metadata": {},
   "outputs": [
    {
     "name": "stdout",
     "output_type": "stream",
     "text": [
      "Most Label=1 common 150 words:\n",
      "\n",
      "[('s', 3881), ('the', 2319), ('u', 1308), ('a', 1164), ('israel', 1071), ('say', 1070), ('year', 1062), ('not', 1045), ('world', 1019), ('china', 996), ('government', 986), ('new', 976), ('police', 890), ('people', 820), ('war', 791), ('country', 765), ('russia', 742), ('state', 733), ('israeli', 702), ('woman', 690), ('one', 678), ('right', 669), ('u.s', 666), ('uk', 644), ('president', 638), ('in', 630), ('attack', 617), ('it', 597), ('iran', 590), ('killed', 578), ('north', 570), ('korea', 565), ('first', 543), ('protest', 541), ('child', 531), ('death', 520), ('russian', 514), ('two', 506), ('law', 503), ('palestinian', 501), ('court', 485), ('time', 480), ('minister', 473), ('report', 469), ('news', 465), ('military', 464), ('i', 463), ('said', 460), ('drug', 458), ('force', 457), ('un', 451), ('chinese', 450), ('gaza', 444), ('nuclear', 434), ('bank', 433), ('million', 433), ('man', 431), ('official', 430), ('day', 415), ('old', 414), ('south', 407), ('ban', 401), ('found', 399), ('syria', 397), ('may', 395), ('india', 388), ('british', 386), ('japan', 385), ('human', 384), ('.', 382), ('to', 381), ('call', 374), ('leader', 373), ('oil', 349), ('city', 349), ('pakistan', 343), ('anti', 343), ('muslim', 341), ('egypt', 341), ('iraq', 336), ('group', 332), ('kill', 332), ('plan', 327), ('want', 325), ('strike', 323), ('american', 322), ('dead', 322), ('internet', 322), ('german', 322), ('germany', 322), ('protester', 317), ('canada', 313), ('power', 307), ('wikileaks', 307), ('al', 304), ('video', 301), ('afghanistan', 300), ('last', 300), ('french', 292), ('face', 292), ('ukraine', 292), ('france', 291), ('girl', 291), ('international', 290), ('life', 290), ('fire', 289), ('make', 289), ('take', 288), ('is', 287), ('month', 285), ('water', 284), ('europe', 281), ('three', 281), ('mexico', 281), ('back', 280), ('show', 280), ('we', 279), ('claim', 278), ('end', 277), ('security', 275), ('use', 274), ('european', 272), ('soldier', 271), ('arrested', 269), ('party', 269), ('canadian', 269), ('company', 267), ('billion', 266), ('crime', 266), ('former', 266), ('home', 266), ('gay', 263), ('australian', 263), ('eu', 263), ('syrian', 263), ('troop', 262), ('nation', 260), ('army', 259), ('secret', 252), ('saudi', 251), ('thousand', 251), ('killing', 250), ('men', 249), ('worker', 248), ('britain', 246), ('rebel', 244), ('border', 243), ('hit', 242), ('no', 242), ('global', 240)]\n",
      "      \n",
      "Most Label=0 common 150 words:\n",
      "\n",
      "[('s', 3270), ('the', 1916), ('u', 1180), ('a', 928), ('world', 905), ('year', 896), ('israel', 892), ('say', 873), ('not', 871), ('new', 853), ('government', 840), ('china', 790), ('police', 759), ('people', 742), ('country', 725), ('war', 654), ('israeli', 633), ('russia', 600), ('iran', 596), ('woman', 556), ('state', 548), ('one', 535), ('in', 530), ('u.s', 524), ('it', 506), ('right', 494), ('child', 490), ('killed', 488), ('uk', 487), ('president', 483), ('attack', 477), ('north', 472), ('protest', 469), ('military', 461), ('death', 455), ('law', 454), ('russian', 451), ('i', 450), ('korea', 427), ('million', 420), ('time', 420), ('gaza', 418), ('nuclear', 416), ('news', 413), ('said', 413), ('bank', 412), ('two', 409), ('first', 405), ('man', 397), ('minister', 393), ('palestinian', 390), ('report', 388), ('official', 383), ('south', 374), ('court', 371), ('un', 367), ('drug', 367), ('force', 359), ('chinese', 359), ('india', 350), ('leader', 348), ('day', 344), ('to', 334), ('old', 328), ('call', 328), ('oil', 324), ('human', 323), ('pakistan', 322), ('found', 319), ('japan', 319), ('may', 319), ('british', 316), ('ban', 312), ('syria', 310), ('anti', 296), ('.', 294), ('group', 290), ('city', 287), ('dead', 286), ('german', 281), ('kill', 279), ('muslim', 279), ('internet', 279), ('plan', 267), ('strike', 264), ('american', 263), ('last', 262), ('canada', 260), ('power', 259), ('germany', 257), ('fire', 255), ('take', 255), ('protester', 254), ('face', 253), ('iraq', 252), ('al', 250), ('international', 250), ('european', 247), ('france', 246), ('ukraine', 245), ('egypt', 245), ('show', 242), ('billion', 241), ('video', 240), ('want', 239), ('syrian', 239), ('wikileaks', 239), ('europe', 237), ('life', 236), ('soldier', 235), ('army', 233), ('afghanistan', 231), ('water', 231), ('former', 230), ('mexico', 229), ('home', 229), ('saudi', 229), ('crime', 227), ('party', 226), ('bbc', 226), ('security', 226), ('french', 225), ('killing', 224), ('go', 222), ('thousand', 220), ('is', 220), ('top', 216), ('end', 215), ('hit', 215), ('girl', 214), ('make', 213), ('case', 212), ('eu', 212), ('r', 212), ('claim', 211), ('iranian', 210), ('month', 210), ('nation', 208), ('back', 208), ('we', 206), ('sex', 206), ('use', 205), ('global', 205), ('public', 200), ('many', 200), ('weapon', 199), ('crisis', 197), ('arrested', 197), ('three', 196), ('even', 196)]\n"
     ]
    }
   ],
   "source": [
    "# Create dataframe to temporary combine titles,labels and counts\n",
    "# To look at most common words\n",
    "X_train_count = list(map(lambda x: len(x.split()), X_train['Combined_new']))\n",
    "train_df_count = pd.concat([X_train['Combined_new'],y_train,pd.Series(X_train_count)],axis=1)\n",
    "train_df_count.columns=['Combined_new', 'Label', \"Counts\"]\n",
    "train_df_count.head()\n",
    "\n",
    "# To look at the words for both classes: 1 and 0 after preprocessing\n",
    "\n",
    "# Split into class 1 and 0\n",
    "price_up = train_df_count[train_df_count['Label']==1]\n",
    "price_down= train_df_count[train_df_count['Label']==0]\n",
    "\n",
    "# Do a simple preprocesing split the words using .split\n",
    "words_up= [post.split() for post in price_up['Combined_new']]\n",
    "words_down= [post.split() for post in price_down['Combined_new']]\n",
    "\n",
    "\n",
    "# Flatten your list, so that all words across the posts are in one list\n",
    "all_words_up = list(itertools.chain(*words_up))\n",
    "all_words_down= list(itertools.chain(*words_down))\n",
    "\n",
    "# To get the count of how many times each word appears in the train set\n",
    "# Use built-in Python library 'collections'\n",
    "counts_up = collections.Counter(all_words_up)\n",
    "counts_down = collections.Counter(all_words_down)\n",
    "\n",
    "# The 'collection.Counter' object has 'most_common' that will return the most commonly used words and the number of times that they are used.\n",
    "# Show most 150 most common words for each class\n",
    "print(\"Most Label=1 common 150 words:\\n\")\n",
    "print(counts_up.most_common(150))\n",
    "print('      ')\n",
    "print(\"Most Label=0 common 150 words:\\n\")\n",
    "print(counts_down.most_common(150))"
   ]
  },
  {
   "cell_type": "code",
   "execution_count": 39,
   "metadata": {},
   "outputs": [],
   "source": [
    "# top 150 words convert to dataframe to use later\n",
    "counts_up_df = pd.DataFrame(counts_up.most_common(150),\n",
    "                             columns=['words', 'count'])\n",
    "counts_down_df = pd.DataFrame(counts_down.most_common(150),\n",
    "                             columns=['words', 'count'])"
   ]
  },
  {
   "cell_type": "code",
   "execution_count": 40,
   "metadata": {},
   "outputs": [
    {
     "data": {
      "image/png": "[encoded data removed]",
      "text/plain": [
       "<Figure size 360x720 with 1 Axes>"
      ]
     },
     "metadata": {},
     "output_type": "display_data"
    }
   ],
   "source": [
    "# plot venn diagram on number of unique words for training preprocessed data for each class\n",
    "\n",
    "# set figure size\n",
    "fig, ax = plt.subplots(figsize = (5,10))\n",
    "# set title\n",
    "ax.set_title('Number of unique words for Training Preprocessing set', fontsize=15)\n",
    "sets = [set(all_words_up),set(all_words_down)]\n",
    "# plot venn diafram\n",
    "v=venn2(sets, set_labels =  ('Label 1', 'Label 0'),ax=ax)\n",
    "\n",
    "# add color and design\n",
    "v.get_patch_by_id('10').set_color('red')\n",
    "v.get_patch_by_id('10').set_alpha(0.4)\n",
    "v.get_patch_by_id('01').set_color('blue')\n",
    "v.get_patch_by_id('01').set_alpha(0.4)\n",
    "v.get_patch_by_id('11').set_color('purple')\n",
    "v.get_patch_by_id('11').set_alpha(0.4)"
   ]
  },
  {
   "cell_type": "code",
   "execution_count": 41,
   "metadata": {},
   "outputs": [
    {
     "data": {
      "image/png": "[encoded data removed]",
      "text/plain": [
       "<Figure size 1368x576 with 1 Axes>"
      ]
     },
     "metadata": {},
     "output_type": "display_data"
    }
   ],
   "source": [
    "# Display venn diagram top 30 words for training preprocessing data for each class\n",
    "\n",
    "# select top 30 words for each label\n",
    "# first 4 is skipped cause its useless words that came from cleaning\n",
    "A = set(counts_up_df.loc[4:34,'words'])\n",
    "B = set(counts_down_df.loc[4:34,'words'])\n",
    "# set figure size\n",
    "fig, ax = plt.subplots(figsize = (19,8))\n",
    "# set title\n",
    "ax.set_title('Top 30 words for Training Preprocessing set', fontsize=20)\n",
    "# plot venn diafram\n",
    "v = venn2([A,B], ('Label 1', 'Label 0'),ax=ax)\n",
    "v.get_label_by_id('10').set_text('\\n'.join(B-A))\n",
    "v.get_label_by_id('11').set_text('\\n'.join(A&B))\n",
    "v.get_label_by_id('01').set_text('\\n'.join(A-B))\n",
    "\n",
    "# add color\n",
    "v.get_patch_by_id('10').set_color('red')\n",
    "v.get_patch_by_id('10').set_alpha(0.4)\n",
    "v.get_patch_by_id('01').set_color('blue')\n",
    "v.get_patch_by_id('01').set_alpha(0.4)\n",
    "v.get_patch_by_id('11').set_color('purple')\n",
    "v.get_patch_by_id('11').set_alpha(0.4)"
   ]
  },
  {
   "cell_type": "code",
   "execution_count": 42,
   "metadata": {},
   "outputs": [
    {
     "data": {
      "text/html": [
       "<div>\n",
       "<style scoped>\n",
       "    .dataframe tbody tr th:only-of-type {\n",
       "        vertical-align: middle;\n",
       "    }\n",
       "\n",
       "    .dataframe tbody tr th {\n",
       "        vertical-align: top;\n",
       "    }\n",
       "\n",
       "    .dataframe thead th {\n",
       "        text-align: right;\n",
       "    }\n",
       "</style>\n",
       "<table border=\"1\" class=\"dataframe\">\n",
       "  <thead>\n",
       "    <tr style=\"text-align: right;\">\n",
       "      <th></th>\n",
       "      <th>words</th>\n",
       "      <th>count_up</th>\n",
       "      <th>count_down</th>\n",
       "    </tr>\n",
       "  </thead>\n",
       "  <tbody>\n",
       "    <tr>\n",
       "      <th>157</th>\n",
       "      <td>public</td>\n",
       "      <td>0.0</td>\n",
       "      <td>200.0</td>\n",
       "    </tr>\n",
       "    <tr>\n",
       "      <th>158</th>\n",
       "      <td>many</td>\n",
       "      <td>0.0</td>\n",
       "      <td>200.0</td>\n",
       "    </tr>\n",
       "    <tr>\n",
       "      <th>159</th>\n",
       "      <td>weapon</td>\n",
       "      <td>0.0</td>\n",
       "      <td>199.0</td>\n",
       "    </tr>\n",
       "    <tr>\n",
       "      <th>160</th>\n",
       "      <td>crisis</td>\n",
       "      <td>0.0</td>\n",
       "      <td>197.0</td>\n",
       "    </tr>\n",
       "    <tr>\n",
       "      <th>161</th>\n",
       "      <td>even</td>\n",
       "      <td>0.0</td>\n",
       "      <td>196.0</td>\n",
       "    </tr>\n",
       "  </tbody>\n",
       "</table>\n",
       "</div>"
      ],
      "text/plain": [
       "      words  count_up  count_down\n",
       "157  public       0.0       200.0\n",
       "158    many       0.0       200.0\n",
       "159  weapon       0.0       199.0\n",
       "160  crisis       0.0       197.0\n",
       "161    even       0.0       196.0"
      ]
     },
     "execution_count": 42,
     "metadata": {},
     "output_type": "execute_result"
    }
   ],
   "source": [
    "# merge into dataframe top 150 words for each label\n",
    "df_all = pd.merge(counts_up_df,counts_down_df,on='words',how='outer')\n",
    "df_all.columns=['words','count_up','count_down']\n",
    "# for those empty in other class replace as 0\n",
    "df_all.fillna(0,inplace=True)\n",
    "# display some words in only label 0\n",
    "df_all.tail()"
   ]
  },
  {
   "cell_type": "code",
   "execution_count": 43,
   "metadata": {},
   "outputs": [
    {
     "data": {
      "text/html": [
       "<div>\n",
       "<style scoped>\n",
       "    .dataframe tbody tr th:only-of-type {\n",
       "        vertical-align: middle;\n",
       "    }\n",
       "\n",
       "    .dataframe tbody tr th {\n",
       "        vertical-align: top;\n",
       "    }\n",
       "\n",
       "    .dataframe thead th {\n",
       "        text-align: right;\n",
       "    }\n",
       "</style>\n",
       "<table border=\"1\" class=\"dataframe\">\n",
       "  <thead>\n",
       "    <tr style=\"text-align: right;\">\n",
       "      <th></th>\n",
       "      <th>words</th>\n",
       "      <th>count_up</th>\n",
       "      <th>count_down</th>\n",
       "      <th>proportion</th>\n",
       "    </tr>\n",
       "  </thead>\n",
       "  <tbody>\n",
       "    <tr>\n",
       "      <th>161</th>\n",
       "      <td>even</td>\n",
       "      <td>0.0</td>\n",
       "      <td>196.0</td>\n",
       "      <td>0.0</td>\n",
       "    </tr>\n",
       "    <tr>\n",
       "      <th>131</th>\n",
       "      <td>gay</td>\n",
       "      <td>263.0</td>\n",
       "      <td>0.0</td>\n",
       "      <td>0.0</td>\n",
       "    </tr>\n",
       "    <tr>\n",
       "      <th>132</th>\n",
       "      <td>australian</td>\n",
       "      <td>263.0</td>\n",
       "      <td>0.0</td>\n",
       "      <td>0.0</td>\n",
       "    </tr>\n",
       "    <tr>\n",
       "      <th>160</th>\n",
       "      <td>crisis</td>\n",
       "      <td>0.0</td>\n",
       "      <td>197.0</td>\n",
       "      <td>0.0</td>\n",
       "    </tr>\n",
       "    <tr>\n",
       "      <th>135</th>\n",
       "      <td>troop</td>\n",
       "      <td>262.0</td>\n",
       "      <td>0.0</td>\n",
       "      <td>0.0</td>\n",
       "    </tr>\n",
       "    <tr>\n",
       "      <th>138</th>\n",
       "      <td>secret</td>\n",
       "      <td>252.0</td>\n",
       "      <td>0.0</td>\n",
       "      <td>0.0</td>\n",
       "    </tr>\n",
       "    <tr>\n",
       "      <th>142</th>\n",
       "      <td>men</td>\n",
       "      <td>249.0</td>\n",
       "      <td>0.0</td>\n",
       "      <td>0.0</td>\n",
       "    </tr>\n",
       "    <tr>\n",
       "      <th>143</th>\n",
       "      <td>worker</td>\n",
       "      <td>248.0</td>\n",
       "      <td>0.0</td>\n",
       "      <td>0.0</td>\n",
       "    </tr>\n",
       "    <tr>\n",
       "      <th>144</th>\n",
       "      <td>britain</td>\n",
       "      <td>246.0</td>\n",
       "      <td>0.0</td>\n",
       "      <td>0.0</td>\n",
       "    </tr>\n",
       "    <tr>\n",
       "      <th>145</th>\n",
       "      <td>rebel</td>\n",
       "      <td>244.0</td>\n",
       "      <td>0.0</td>\n",
       "      <td>0.0</td>\n",
       "    </tr>\n",
       "  </tbody>\n",
       "</table>\n",
       "</div>"
      ],
      "text/plain": [
       "          words  count_up  count_down  proportion\n",
       "161        even       0.0       196.0         0.0\n",
       "131         gay     263.0         0.0         0.0\n",
       "132  australian     263.0         0.0         0.0\n",
       "160      crisis       0.0       197.0         0.0\n",
       "135       troop     262.0         0.0         0.0\n",
       "138      secret     252.0         0.0         0.0\n",
       "142         men     249.0         0.0         0.0\n",
       "143      worker     248.0         0.0         0.0\n",
       "144     britain     246.0         0.0         0.0\n",
       "145       rebel     244.0         0.0         0.0"
      ]
     },
     "execution_count": 43,
     "metadata": {},
     "output_type": "execute_result"
    }
   ],
   "source": [
    "# looking at the proportion of top 150 words in each other classes\n",
    "df_all['proportion'] = np.divide(df_all['count_up'], df_all['count_down'], out=np.zeros_like(df_all['count_up']), where=df_all['count_down']!=0)\n",
    "df_all.sort_values(by='proportion',ascending=True,inplace=True)\n",
    "df_all[:10]"
   ]
  },
  {
   "cell_type": "code",
   "execution_count": 44,
   "metadata": {},
   "outputs": [
    {
     "data": {
      "text/html": [
       "<div>\n",
       "<style scoped>\n",
       "    .dataframe tbody tr th:only-of-type {\n",
       "        vertical-align: middle;\n",
       "    }\n",
       "\n",
       "    .dataframe tbody tr th {\n",
       "        vertical-align: top;\n",
       "    }\n",
       "\n",
       "    .dataframe thead th {\n",
       "        text-align: right;\n",
       "    }\n",
       "</style>\n",
       "<table border=\"1\" class=\"dataframe\">\n",
       "  <thead>\n",
       "    <tr style=\"text-align: right;\">\n",
       "      <th></th>\n",
       "      <th>words</th>\n",
       "      <th>count</th>\n",
       "      <th>Percentage of total</th>\n",
       "    </tr>\n",
       "  </thead>\n",
       "  <tbody>\n",
       "    <tr>\n",
       "      <th>0</th>\n",
       "      <td>s</td>\n",
       "      <td>3881</td>\n",
       "      <td>0.211123</td>\n",
       "    </tr>\n",
       "    <tr>\n",
       "      <th>1</th>\n",
       "      <td>the</td>\n",
       "      <td>2319</td>\n",
       "      <td>0.126151</td>\n",
       "    </tr>\n",
       "    <tr>\n",
       "      <th>2</th>\n",
       "      <td>u</td>\n",
       "      <td>1308</td>\n",
       "      <td>0.071154</td>\n",
       "    </tr>\n",
       "    <tr>\n",
       "      <th>3</th>\n",
       "      <td>a</td>\n",
       "      <td>1164</td>\n",
       "      <td>0.063320</td>\n",
       "    </tr>\n",
       "    <tr>\n",
       "      <th>4</th>\n",
       "      <td>israel</td>\n",
       "      <td>1071</td>\n",
       "      <td>0.058261</td>\n",
       "    </tr>\n",
       "  </tbody>\n",
       "</table>\n",
       "</div>"
      ],
      "text/plain": [
       "    words  count  Percentage of total\n",
       "0       s   3881             0.211123\n",
       "1     the   2319             0.126151\n",
       "2       u   1308             0.071154\n",
       "3       a   1164             0.063320\n",
       "4  israel   1071             0.058261"
      ]
     },
     "execution_count": 44,
     "metadata": {},
     "output_type": "execute_result"
    }
   ],
   "source": [
    "# join the text to calculate the length of words for each label\n",
    "up_train_text_count = \" \".join(post for post in train_df_count['Combined_new'][train_df_count['Label']==1])\n",
    "down_train_text_count = \" \".join(post for post in train_df_count['Combined_new'][train_df_count['Label']==0])\n",
    "\n",
    "# add 'percentage of total' column\n",
    "counts_up_df['Percentage of total'] = counts_up_df['count'].map(lambda x: (x/len(up_train_text_count))*100)\n",
    "counts_down_df['Percentage of total'] = counts_down_df['count'].map(lambda x: (x/len(down_train_text_count))*100)\n",
    "\n",
    "# display the top 5 'percentage of total' \n",
    "counts_up_df.head()"
   ]
  },
  {
   "cell_type": "code",
   "execution_count": 45,
   "metadata": {},
   "outputs": [
    {
     "data": {
      "text/html": [
       "<div>\n",
       "<style scoped>\n",
       "    .dataframe tbody tr th:only-of-type {\n",
       "        vertical-align: middle;\n",
       "    }\n",
       "\n",
       "    .dataframe tbody tr th {\n",
       "        vertical-align: top;\n",
       "    }\n",
       "\n",
       "    .dataframe thead th {\n",
       "        text-align: right;\n",
       "    }\n",
       "</style>\n",
       "<table border=\"1\" class=\"dataframe\">\n",
       "  <thead>\n",
       "    <tr style=\"text-align: right;\">\n",
       "      <th></th>\n",
       "      <th>words</th>\n",
       "      <th>count</th>\n",
       "      <th>Percentage of total</th>\n",
       "    </tr>\n",
       "  </thead>\n",
       "  <tbody>\n",
       "    <tr>\n",
       "      <th>0</th>\n",
       "      <td>s</td>\n",
       "      <td>3270</td>\n",
       "      <td>0.211201</td>\n",
       "    </tr>\n",
       "    <tr>\n",
       "      <th>1</th>\n",
       "      <td>the</td>\n",
       "      <td>1916</td>\n",
       "      <td>0.123750</td>\n",
       "    </tr>\n",
       "    <tr>\n",
       "      <th>2</th>\n",
       "      <td>u</td>\n",
       "      <td>1180</td>\n",
       "      <td>0.076213</td>\n",
       "    </tr>\n",
       "    <tr>\n",
       "      <th>3</th>\n",
       "      <td>a</td>\n",
       "      <td>928</td>\n",
       "      <td>0.059937</td>\n",
       "    </tr>\n",
       "    <tr>\n",
       "      <th>4</th>\n",
       "      <td>world</td>\n",
       "      <td>905</td>\n",
       "      <td>0.058452</td>\n",
       "    </tr>\n",
       "  </tbody>\n",
       "</table>\n",
       "</div>"
      ],
      "text/plain": [
       "   words  count  Percentage of total\n",
       "0      s   3270             0.211201\n",
       "1    the   1916             0.123750\n",
       "2      u   1180             0.076213\n",
       "3      a    928             0.059937\n",
       "4  world    905             0.058452"
      ]
     },
     "execution_count": 45,
     "metadata": {},
     "output_type": "execute_result"
    }
   ],
   "source": [
    "# display the top 5 'percentage of total' \n",
    "counts_down_df.head()"
   ]
  },
  {
   "cell_type": "code",
   "execution_count": 46,
   "metadata": {},
   "outputs": [
    {
     "name": "stdout",
     "output_type": "stream",
     "text": [
      "Selected stopwords for label=1:\n",
      "\n",
      "['s', 'the', 'u', 'a', 'israel', 'say', 'year', 'not', 'world', 'china', 'government', 'new']\n",
      "\n",
      "Selected stopwords for label=0:\n",
      "\n",
      "['s', 'the', 'u', 'a', 'world', 'year', 'israel', 'say', 'not', 'new', 'government', 'china']\n"
     ]
    }
   ],
   "source": [
    "# Decide to set 0.05% as threshold to add to stopwords after looking at the top 50 most common words for each class\n",
    "final_stopwords_up = [counts_up_df['words'][i] for i in counts_up_df.index  if counts_up_df['Percentage of total'][i]>0.05]\n",
    "final_stopwords_down = [counts_down_df['words'][i] for i in counts_down_df.index  if counts_down_df['Percentage of total'][i]>0.05]\n",
    "print(\"Selected stopwords for label=1:\\n\")\n",
    "print(final_stopwords_up)\n",
    "print(\"\\nSelected stopwords for label=0:\\n\")\n",
    "print(final_stopwords_down)\n",
    "# decide to remove 'say' and 'year' which seems useless to the stopwords list earlier\n",
    "# the top 4 words 's', 'the', 'u', 'a' wasn't removed because they appear after lemmatize"
   ]
  },
  {
   "cell_type": "code",
   "execution_count": 47,
   "metadata": {},
   "outputs": [
    {
     "data": {
      "image/png": "[encoded data removed]",
      "text/plain": [
       "<Figure size 1080x792 with 2 Axes>"
      ]
     },
     "metadata": {
      "needs_background": "light"
     },
     "output_type": "display_data"
    }
   ],
   "source": [
    "# set figure size\n",
    "fig, axes = plt.subplots(ncols=2, figsize=(15,11))\n",
    "plt.subplots_adjust(wspace=.3)\n",
    "\n",
    "# plot most common words for label 1\n",
    "axes[0].barh(counts_up_df[4:34].sort_values(by='count',ascending=False)['words'], counts_up_df[4:34].sort_values(by='count',ascending=False)['count'], .5, color='#294AB9', \n",
    "             alpha=0.8)\n",
    "axes[0].invert_yaxis()\n",
    "axes[0].set_title(\"Most Common Words for Class 1\", \n",
    "                  fontsize=12)\n",
    "axes[0].set_xlabel(\"Number of words\")\n",
    "\n",
    "# plot most common words for label 0\n",
    "axes[1].barh(counts_down_df[4:34].sort_values(by='count',ascending=False)['words'], counts_down_df[4:34].sort_values(by='count',ascending=False)['count'], .5, color='#1896ac', \n",
    "             alpha=0.8)\n",
    "axes[1].invert_yaxis()\n",
    "axes[1].set_title(\"Most Common Words for Class 0\", \n",
    "                  fontsize=12)\n",
    "axes[1].set_xlabel(\"Number of words\");"
   ]
  },
  {
   "cell_type": "code",
   "execution_count": 48,
   "metadata": {},
   "outputs": [],
   "source": [
    "# Function to get bi gram from preprocessed train set\n",
    "def get_top_bi_gram(corpus, n=None):\n",
    "    vec = CountVectorizer(ngram_range=(2, 2)).fit(corpus)\n",
    "    bag_of_words = vec.transform(corpus)\n",
    "    sum_words = bag_of_words.sum(axis=0) \n",
    "    df = pd.DataFrame()\n",
    "    df['count'] = [sum_words[0, idx] for word, idx in vec.vocabulary_.items()]\n",
    "    df['words'] = [word for word, idx in vec.vocabulary_.items()]\n",
    "    df.sort_values(by='count',ascending=False,inplace=True)\n",
    "    return df\n",
    "\n",
    "# Select Top 30 bi gram from preprocessed train set \n",
    "bi_gram_up = get_top_bi_gram(price_up['Combined_new'], 30)\n",
    "bi_gram_down = get_top_bi_gram(price_down['Combined_new'], 30)"
   ]
  },
  {
   "cell_type": "code",
   "execution_count": 49,
   "metadata": {},
   "outputs": [
    {
     "data": {
      "image/png": "[encoded data removed]",
      "text/plain": [
       "<Figure size 1080x792 with 2 Axes>"
      ]
     },
     "metadata": {
      "needs_background": "light"
     },
     "output_type": "display_data"
    }
   ],
   "source": [
    "# set figure size\n",
    "fig, axes = plt.subplots(ncols=2, figsize=(15,11))\n",
    "plt.subplots_adjust(wspace=.3)\n",
    "\n",
    "# plot most common bi-gram words for label 1\n",
    "axes[0].barh(bi_gram_up[:30].sort_values(by='count',ascending=False)['words'], bi_gram_up[:30].sort_values(by='count',ascending=False)['count'], .5, color='#294AB9', \n",
    "             alpha=0.8)\n",
    "axes[0].invert_yaxis()\n",
    "axes[0].set_title(\"Most Common Words for Class 1\", \n",
    "                  fontsize=12)\n",
    "axes[0].set_xlabel(\"Number of words\")\n",
    "\n",
    "# plot most common bi-gram words for label 0\n",
    "axes[1].barh(bi_gram_down[:30].sort_values(by='count',ascending=False)['words'], bi_gram_down[:30].sort_values(by='count',ascending=False)['count'], .5, color='#1896ac', \n",
    "             alpha=0.8)\n",
    "axes[1].invert_yaxis()\n",
    "axes[1].set_title(\"Most Common Words for Class 0\", \n",
    "                  fontsize=12)\n",
    "axes[1].set_xlabel(\"Number of words\");"
   ]
  },
  {
   "cell_type": "code",
   "execution_count": 50,
   "metadata": {},
   "outputs": [],
   "source": [
    "# Function to get tri gram from preprocessed train set\n",
    "def get_top_tri_gram(corpus, n=None):\n",
    "    vec = CountVectorizer(ngram_range=(3, 3)).fit(corpus)\n",
    "    bag_of_words = vec.transform(corpus)\n",
    "    sum_words = bag_of_words.sum(axis=0) \n",
    "    df = pd.DataFrame()\n",
    "    df['count'] = [sum_words[0, idx] for word, idx in vec.vocabulary_.items()]\n",
    "    df['words'] = [word for word, idx in vec.vocabulary_.items()]\n",
    "    df.sort_values(by='count',ascending=False,inplace=True)\n",
    "    return df\n",
    "\n",
    "# Select Top 30 tri gram from preprocessed train set \n",
    "tri_gram_up = get_top_tri_gram(price_up['Combined_new'], 30)\n",
    "tri_gram_down = get_top_tri_gram(price_down['Combined_new'], 30)"
   ]
  },
  {
   "cell_type": "code",
   "execution_count": 51,
   "metadata": {},
   "outputs": [
    {
     "data": {
      "image/png": "[encoded data removed]",
      "text/plain": [
       "<Figure size 1224x792 with 2 Axes>"
      ]
     },
     "metadata": {
      "needs_background": "light"
     },
     "output_type": "display_data"
    }
   ],
   "source": [
    "# set figure size\n",
    "fig, axes = plt.subplots(ncols=2, figsize=(17,11))\n",
    "plt.subplots_adjust(wspace=.3)\n",
    "\n",
    "# plot most common tri-gram words for label 1\n",
    "axes[0].barh(tri_gram_up[:30].sort_values(by='count',ascending=False)['words'], tri_gram_up[:30].sort_values(by='count',ascending=False)['count'], .5, color='#294AB9', \n",
    "             alpha=0.8)\n",
    "axes[0].invert_yaxis()\n",
    "axes[0].set_title(\"Most Common Words for Class 1\", \n",
    "                  fontsize=12)\n",
    "axes[0].set_xlabel(\"Number of words\")\n",
    "\n",
    "# plot most common tri-gram words for label 0\n",
    "axes[1].barh(tri_gram_down[:30].sort_values(by='count',ascending=False)['words'], tri_gram_down[:30].sort_values(by='count',ascending=False)['count'], .5, color='#1896ac', \n",
    "             alpha=0.8)\n",
    "axes[1].invert_yaxis()\n",
    "axes[1].set_title(\"Most Common Words for Class 0\", \n",
    "                  fontsize=12)\n",
    "axes[1].set_xlabel(\"Number of words\");"
   ]
  },
  {
   "cell_type": "markdown",
   "metadata": {},
   "source": [
    "# Fit Logistic Model with CountVectorizer 1-gram"
   ]
  },
  {
   "cell_type": "code",
   "execution_count": 52,
   "metadata": {},
   "outputs": [],
   "source": [
    "log_params = {\n",
    "    'logreg__C':[1e-6],  #[1e-5,1e-4,1e03,1e-2,1,100,1000,5000]\n",
    "    'logreg__max_iter':[400], # [350,450,500,800]\n",
    "    'logreg__penalty' : ['l2'],  #['l1','elasticnet', 'none']\n",
    "    'cvec_1gram__max_features' : [500] #[600,800,2000]\n",
    "}"
   ]
  },
  {
   "cell_type": "code",
   "execution_count": 53,
   "metadata": {},
   "outputs": [],
   "source": [
    "# Instantiate vectorizer and log reg\n",
    "log_cvec_1_steps = [('cvec_1gram',CountVectorizer()),('logreg', LogisticRegression())]\n",
    "# Put into Pipeline\n",
    "log_cvec_1_pipe = Pipeline(log_cvec_1_steps)\n",
    "# Get parameters\n",
    "#log_cvec_1_pipe.get_params()\n",
    "# Instantiate GridsearchcV\n",
    "log_search = GridSearchCV(log_cvec_1_pipe,log_params,cv=10,verbose=1)"
   ]
  },
  {
   "cell_type": "code",
   "execution_count": 54,
   "metadata": {},
   "outputs": [
    {
     "name": "stdout",
     "output_type": "stream",
     "text": [
      "Fitting 10 folds for each of 1 candidates, totalling 10 fits\n"
     ]
    },
    {
     "name": "stderr",
     "output_type": "stream",
     "text": [
      "[Parallel(n_jobs=1)]: Using backend SequentialBackend with 1 concurrent workers.\n",
      "[Parallel(n_jobs=1)]: Done  10 out of  10 | elapsed:    4.8s finished\n"
     ]
    },
    {
     "name": "stdout",
     "output_type": "stream",
     "text": [
      "Best parameters:  {'cvec_1gram__max_features': 500, 'logreg__C': 1e-06, 'logreg__max_iter': 400, 'logreg__penalty': 'l2'}\n",
      "Best CV Train Accuracy score:  0.5424253144654088\n",
      "Training Accuracy score: 0.5424261470773099\n",
      "Validation Accuracy score: 0.507537688442211\n",
      "            \n"
     ]
    }
   ],
   "source": [
    "# Fit GridSearchCV with Logistic Regression model with cvec 1-gram\n",
    "log_search.fit(X_train['Combined_new'],y_train)\n",
    "print('Best parameters: ', log_search.best_params_)\n",
    "print('Best CV Train Accuracy score: ', log_search.best_score_)\n",
    "print('Training Accuracy score:', log_search.score(X_train['Combined_new'], y_train))\n",
    "print('Validation Accuracy score:', log_search.score(X_test['Combined_new'], y_test))\n",
    "print('            ')"
   ]
  },
  {
   "cell_type": "markdown",
   "metadata": {},
   "source": [
    "# Fit Logistic Model with CountVectorizer 2-gram"
   ]
  },
  {
   "cell_type": "code",
   "execution_count": 55,
   "metadata": {},
   "outputs": [],
   "source": [
    "log_params_2 = {\n",
    "    'logreg__C':[1e-6], #[1e-5,1e-4,1e-3,1e-2,1e-1,1,10,100,1000]\n",
    "    'logreg__max_iter':[200], #[250,300,400,800,1000]\n",
    "    'logreg__penalty' : ['l2'], #['l1','elasticnet', 'none']\n",
    "    'cvec_2gram__max_features' : [500] #[1000,1500,5000]\n",
    "}"
   ]
  },
  {
   "cell_type": "code",
   "execution_count": 56,
   "metadata": {},
   "outputs": [],
   "source": [
    "# Instantiate vectorizer and log reg\n",
    "log_cvec_2_steps = [('cvec_2gram',CountVectorizer(ngram_range=(2,2))),('logreg', LogisticRegression())]\n",
    "# Put into Pipeline\n",
    "log_cvec_2_pipe = Pipeline(log_cvec_2_steps)\n",
    "# Get parameters\n",
    "#log_cvec_2_pipe.get_params()\n",
    "# Instantiate GridsearchcV\n",
    "log_search_2 = GridSearchCV(log_cvec_2_pipe,log_params_2,cv=10,verbose=1)"
   ]
  },
  {
   "cell_type": "code",
   "execution_count": 57,
   "metadata": {},
   "outputs": [
    {
     "name": "stdout",
     "output_type": "stream",
     "text": [
      "Fitting 10 folds for each of 1 candidates, totalling 10 fits\n"
     ]
    },
    {
     "name": "stderr",
     "output_type": "stream",
     "text": [
      "[Parallel(n_jobs=1)]: Using backend SequentialBackend with 1 concurrent workers.\n",
      "[Parallel(n_jobs=1)]: Done  10 out of  10 | elapsed:   16.2s finished\n"
     ]
    },
    {
     "name": "stdout",
     "output_type": "stream",
     "text": [
      "Best parameters:  {'cvec_2gram__max_features': 500, 'logreg__C': 1e-06, 'logreg__max_iter': 200, 'logreg__penalty': 'l2'}\n",
      "Best CV Train Accuracy score:  0.5424253144654088\n",
      "Training Accuracy score: 0.5424261470773099\n",
      "Validation Accuracy score: 0.507537688442211\n",
      "            \n"
     ]
    }
   ],
   "source": [
    "# Fit GridSearchCV with Logistic Regression model with cvec 2-gram\n",
    "log_search_2.fit(X_train['Combined_new'],y_train)\n",
    "print('Best parameters: ', log_search_2.best_params_)\n",
    "print('Best CV Train Accuracy score: ', log_search_2.best_score_)\n",
    "print('Training Accuracy score:', log_search_2.score(X_train['Combined_new'], y_train))\n",
    "print('Validation Accuracy score:', log_search_2.score(X_test['Combined_new'], y_test))\n",
    "print('            ')"
   ]
  },
  {
   "cell_type": "markdown",
   "metadata": {},
   "source": [
    "# Fit Logistic Model with CountVectorizer 3-gram"
   ]
  },
  {
   "cell_type": "code",
   "execution_count": 58,
   "metadata": {},
   "outputs": [],
   "source": [
    "log_params_3 = {\n",
    "    'logreg__C':[0.05], #[1e-4,1e-2,1e-1,0.02,1,100,500]\n",
    "    'logreg__max_iter':[600], #[400,500,650,800]\n",
    "    'logreg__penalty' : ['l2'], #['l1', 'elasticnet', 'none']\n",
    "    'cvec_3gram__max_features' : [700] #[500,600,1000]\n",
    "}"
   ]
  },
  {
   "cell_type": "code",
   "execution_count": 59,
   "metadata": {},
   "outputs": [],
   "source": [
    "# Instantiate vectorizer and log reg\n",
    "log_cvec_3_steps = [('cvec_3gram',CountVectorizer(ngram_range=(3,3))),('logreg', LogisticRegression())]\n",
    "# Put into Pipeline\n",
    "log_cvec_3_pipe = Pipeline(log_cvec_3_steps)\n",
    "# Get parameters\n",
    "#log_cvec_3_pipe.get_params()\n",
    "# Instantiate GridsearchcV\n",
    "log_search_3 = GridSearchCV(log_cvec_3_pipe,log_params_3,cv=10,verbose=1)"
   ]
  },
  {
   "cell_type": "code",
   "execution_count": 60,
   "metadata": {},
   "outputs": [
    {
     "name": "stdout",
     "output_type": "stream",
     "text": [
      "Fitting 10 folds for each of 1 candidates, totalling 10 fits\n"
     ]
    },
    {
     "name": "stderr",
     "output_type": "stream",
     "text": [
      "[Parallel(n_jobs=1)]: Using backend SequentialBackend with 1 concurrent workers.\n",
      "[Parallel(n_jobs=1)]: Done  10 out of  10 | elapsed:   19.2s finished\n"
     ]
    },
    {
     "name": "stdout",
     "output_type": "stream",
     "text": [
      "Best parameters:  {'cvec_3gram__max_features': 700, 'logreg__C': 0.05, 'logreg__max_iter': 600, 'logreg__penalty': 'l2'}\n",
      "Best CV Train Accuracy score:  0.515381289308176\n",
      "Training Accuracy score: 0.6253928346951603\n",
      "Validation Accuracy score: 0.5150753768844221\n",
      "            \n"
     ]
    }
   ],
   "source": [
    "# Fit GridSearchCV with Logistic Regression model with cvec 3-gram\n",
    "log_search_3.fit(X_train['Combined_new'],y_train)\n",
    "print('Best parameters: ', log_search_3.best_params_)\n",
    "print('Best CV Train Accuracy score: ', log_search_3.best_score_)\n",
    "print('Training Accuracy score:', log_search_3.score(X_train['Combined_new'], y_train))\n",
    "print('Validation Accuracy score:', log_search_3.score(X_test['Combined_new'], y_test))\n",
    "print('            ')"
   ]
  },
  {
   "cell_type": "markdown",
   "metadata": {},
   "source": [
    "# Fit Logistic Model with Tfidf Vectorizer 2-gram"
   ]
  },
  {
   "cell_type": "code",
   "execution_count": 61,
   "metadata": {},
   "outputs": [],
   "source": [
    "log_params_4 = {\n",
    "    'logreg__C':[1e-1], # [1e-2,0.09,0.05,1,100]\n",
    "    'logreg__max_iter':[400], # [450,500,800]\n",
    "    'logreg__penalty' : ['l2'], #['l1', 'l2', 'elasticnet', 'none']\n",
    "    'tvec__max_features' : [500] #[450,600,800]\n",
    "}"
   ]
  },
  {
   "cell_type": "code",
   "execution_count": 62,
   "metadata": {},
   "outputs": [],
   "source": [
    "# Instantiate vectorizer and log reg\n",
    "log_tvec_steps = [('tvec',TfidfVectorizer(ngram_range = (2, 2))),('logreg', LogisticRegression())]\n",
    "# Put into Pipeline\n",
    "log_tvec_pipe = Pipeline(log_tvec_steps)\n",
    "# Get parameters\n",
    "#log_tvec_pipe.get_params()\n",
    "# Instantiate GridsearchcV\n",
    "log_search_tvec = GridSearchCV(log_tvec_pipe,log_params_4,cv=10,verbose=1)"
   ]
  },
  {
   "cell_type": "code",
   "execution_count": 63,
   "metadata": {},
   "outputs": [
    {
     "name": "stdout",
     "output_type": "stream",
     "text": [
      "Fitting 10 folds for each of 1 candidates, totalling 10 fits\n"
     ]
    },
    {
     "name": "stderr",
     "output_type": "stream",
     "text": [
      "[Parallel(n_jobs=1)]: Using backend SequentialBackend with 1 concurrent workers.\n",
      "[Parallel(n_jobs=1)]: Done  10 out of  10 | elapsed:   19.1s finished\n"
     ]
    },
    {
     "name": "stdout",
     "output_type": "stream",
     "text": [
      "Best parameters:  {'logreg__C': 0.1, 'logreg__max_iter': 400, 'logreg__penalty': 'l2', 'tvec__max_features': 500}\n",
      "Best CV Train Accuracy score:  0.5411674528301887\n",
      "Training Accuracy score: 0.5669390320553112\n",
      "Validation Accuracy score: 0.5025125628140703\n",
      "            \n"
     ]
    }
   ],
   "source": [
    "# Fit GridSearchCV with Logistic Regression model with tvec\n",
    "log_search_tvec.fit(X_train['Combined_new'],y_train)\n",
    "print('Best parameters: ', log_search_tvec.best_params_)\n",
    "print('Best CV Train Accuracy score: ', log_search_tvec.best_score_)\n",
    "print('Training Accuracy score:', log_search_tvec.score(X_train['Combined_new'], y_train))\n",
    "print('Validation Accuracy score:', log_search_tvec.score(X_test['Combined_new'], y_test))\n",
    "print('            ')"
   ]
  },
  {
   "cell_type": "markdown",
   "metadata": {},
   "source": [
    "# Fit Random Forest with CountVectorizer 2-gram"
   ]
  },
  {
   "cell_type": "code",
   "execution_count": 64,
   "metadata": {},
   "outputs": [],
   "source": [
    "rf_param = {\n",
    "    'rf__n_estimators':[400], #[250,300,350,500,800,1000]\n",
    "    'rf__max_depth': [1], #[None,2]\n",
    "    'cvec_2gram__max_features' : [1500] #[500,1000,1700,1800,2000,3000]\n",
    "}\n",
    "\n",
    "# Instantiate vectorizer and Random Forest\n",
    "rf_cvec_2_steps = [('cvec_2gram',CountVectorizer(ngram_range=(2,2))),('rf', RandomForestClassifier())]\n",
    "# Put into Pipeline\n",
    "rf_cvec_2_pipe = Pipeline(rf_cvec_2_steps)\n",
    "# Instantiate GridsearchcV\n",
    "rf_search_cvec_2 = GridSearchCV(rf_cvec_2_pipe,param_grid=rf_param,cv=10,verbose=1)"
   ]
  },
  {
   "cell_type": "code",
   "execution_count": 65,
   "metadata": {},
   "outputs": [
    {
     "name": "stdout",
     "output_type": "stream",
     "text": [
      "Fitting 10 folds for each of 1 candidates, totalling 10 fits\n"
     ]
    },
    {
     "name": "stderr",
     "output_type": "stream",
     "text": [
      "[Parallel(n_jobs=1)]: Using backend SequentialBackend with 1 concurrent workers.\n",
      "[Parallel(n_jobs=1)]: Done  10 out of  10 | elapsed:   19.6s finished\n"
     ]
    },
    {
     "name": "stdout",
     "output_type": "stream",
     "text": [
      "Best parameters:  {'cvec_2gram__max_features': 1500, 'rf__max_depth': 1, 'rf__n_estimators': 400}\n",
      "Best CV Train Accuracy score:  0.5424253144654088\n",
      "Training Accuracy score: 0.5424261470773099\n",
      "Validation Accuracy score: 0.507537688442211\n",
      "            \n"
     ]
    }
   ],
   "source": [
    "# Fit GridSearchCV with Random Forest model with 2gram countvectorizer\n",
    "rf_search_cvec_2.fit(X_train['Combined_new'],y_train)\n",
    "print('Best parameters: ', rf_search_cvec_2.best_params_)\n",
    "print('Best CV Train Accuracy score: ', rf_search_cvec_2.best_score_)\n",
    "print('Training Accuracy score:', rf_search_cvec_2.score(X_train['Combined_new'], y_train))\n",
    "print('Validation Accuracy score:', rf_search_cvec_2.score(X_test['Combined_new'], y_test))\n",
    "print('            ')"
   ]
  },
  {
   "cell_type": "markdown",
   "metadata": {},
   "source": [
    "# Fit Random Forest with Tfidf Vectorizer"
   ]
  },
  {
   "cell_type": "code",
   "execution_count": 66,
   "metadata": {},
   "outputs": [],
   "source": [
    "rf_param = {\n",
    "    'rf__n_estimators':[250], #[200,300,350,400,500]\n",
    "    'rf__max_depth': [2], #[None,1]\n",
    "    'tvec__max_features' : [1500] #[500,1000,1800,2000,5000]\n",
    "}\n",
    "\n",
    "# Instantiate vectorizer and Random Forest\n",
    "rf_tvec_steps = [('tvec', TfidfVectorizer()),('rf', RandomForestClassifier())]\n",
    "# Put into Pipeline\n",
    "rf_tvec_pipe = Pipeline(rf_tvec_steps)\n",
    "# Instantiate GridsearchcV\n",
    "rf_search_tvec = GridSearchCV(rf_tvec_pipe,param_grid=rf_param,cv=10,verbose=1)"
   ]
  },
  {
   "cell_type": "code",
   "execution_count": 67,
   "metadata": {},
   "outputs": [
    {
     "name": "stdout",
     "output_type": "stream",
     "text": [
      "Fitting 10 folds for each of 1 candidates, totalling 10 fits\n"
     ]
    },
    {
     "name": "stderr",
     "output_type": "stream",
     "text": [
      "[Parallel(n_jobs=1)]: Using backend SequentialBackend with 1 concurrent workers.\n",
      "[Parallel(n_jobs=1)]: Done  10 out of  10 | elapsed:    8.8s finished\n"
     ]
    },
    {
     "name": "stdout",
     "output_type": "stream",
     "text": [
      "Best parameters:  {'rf__max_depth': 2, 'rf__n_estimators': 250, 'tvec__max_features': 1500}\n",
      "Best CV Train Accuracy score:  0.5424253144654088\n",
      "Training Accuracy score: 0.5430546825895664\n",
      "Validation Accuracy score: 0.507537688442211\n",
      "            \n"
     ]
    }
   ],
   "source": [
    "# Fit GridSearchCV with Random Forest model with tvec\n",
    "rf_search_tvec.fit(X_train['Combined_new'],y_train)\n",
    "print('Best parameters: ', rf_search_tvec.best_params_)\n",
    "print('Best CV Train Accuracy score: ', rf_search_tvec.best_score_)\n",
    "print('Training Accuracy score:', rf_search_tvec.score(X_train['Combined_new'], y_train))\n",
    "print('Validation Accuracy score:', rf_search_tvec.score(X_test['Combined_new'], y_test))\n",
    "print('            ')"
   ]
  },
  {
   "cell_type": "markdown",
   "metadata": {},
   "source": [
    "# Fit Naive Bayes with CountVectorizer 2-gram"
   ]
  },
  {
   "cell_type": "code",
   "execution_count": 68,
   "metadata": {},
   "outputs": [],
   "source": [
    "nb_param = {\n",
    "    'nb__alpha':[100], #[1e-5,1e-3,1,50,150,200,500,1000]\n",
    "    'cvec_2gram__max_features' : [1000] #[500,800,900,950,1100,1200,1700,1500]\n",
    "}\n",
    "\n",
    "# Instantiate vectorizer and Naive Bayes\n",
    "nb_cvec_2_steps = [('cvec_2gram',CountVectorizer(ngram_range=(2,2))),('nb', MultinomialNB())]\n",
    "# Put into Pipeline\n",
    "nb_cvec_2_pipe = Pipeline(nb_cvec_2_steps)\n",
    "# Instantiate GridsearchcV\n",
    "nb_search_cvec_2 = GridSearchCV(nb_cvec_2_pipe,param_grid=nb_param,cv=10,verbose=1)"
   ]
  },
  {
   "cell_type": "code",
   "execution_count": 69,
   "metadata": {},
   "outputs": [
    {
     "name": "stdout",
     "output_type": "stream",
     "text": [
      "Fitting 10 folds for each of 1 candidates, totalling 10 fits\n"
     ]
    },
    {
     "name": "stderr",
     "output_type": "stream",
     "text": [
      "[Parallel(n_jobs=1)]: Using backend SequentialBackend with 1 concurrent workers.\n",
      "[Parallel(n_jobs=1)]: Done  10 out of  10 | elapsed:   14.1s finished\n"
     ]
    },
    {
     "name": "stdout",
     "output_type": "stream",
     "text": [
      "Best parameters:  {'cvec_2gram__max_features': 1000, 'nb__alpha': 100}\n",
      "Best CV Train Accuracy score:  0.545558176100629\n",
      "Training Accuracy score: 0.6216216216216216\n",
      "Validation Accuracy score: 0.5050251256281407\n",
      "            \n"
     ]
    }
   ],
   "source": [
    "# Fit GridSearchCV with Naive bayes model with bigram countvectorizer\n",
    "nb_search_cvec_2.fit(X_train['Combined_new'],y_train)\n",
    "print('Best parameters: ', nb_search_cvec_2.best_params_)\n",
    "print('Best CV Train Accuracy score: ', nb_search_cvec_2.best_score_)\n",
    "print('Training Accuracy score:', nb_search_cvec_2.score(X_train['Combined_new'], y_train))\n",
    "print('Validation Accuracy score:', nb_search_cvec_2.score(X_test['Combined_new'], y_test))\n",
    "print('            ')"
   ]
  },
  {
   "cell_type": "markdown",
   "metadata": {},
   "source": [
    "# Sentimental Score Feature Engineering"
   ]
  },
  {
   "cell_type": "markdown",
   "metadata": {},
   "source": [
    "Since using the text alone parsing through vectorizer doesn't predict well, let's try the Python module ‘Textblob’ which gives the sentiment of each sentence and giving it a score between -1 and 1."
   ]
  },
  {
   "cell_type": "code",
   "execution_count": 70,
   "metadata": {},
   "outputs": [
    {
     "data": {
      "text/html": [
       "<div>\n",
       "<style scoped>\n",
       "    .dataframe tbody tr th:only-of-type {\n",
       "        vertical-align: middle;\n",
       "    }\n",
       "\n",
       "    .dataframe tbody tr th {\n",
       "        vertical-align: top;\n",
       "    }\n",
       "\n",
       "    .dataframe thead th {\n",
       "        text-align: right;\n",
       "    }\n",
       "</style>\n",
       "<table border=\"1\" class=\"dataframe\">\n",
       "  <thead>\n",
       "    <tr style=\"text-align: right;\">\n",
       "      <th></th>\n",
       "      <th>Date</th>\n",
       "      <th>Label</th>\n",
       "      <th>Top1</th>\n",
       "      <th>Top2</th>\n",
       "      <th>Top3</th>\n",
       "      <th>Top4</th>\n",
       "      <th>Top5</th>\n",
       "      <th>Top6</th>\n",
       "      <th>Top7</th>\n",
       "      <th>Top8</th>\n",
       "      <th>...</th>\n",
       "      <th>Top16</th>\n",
       "      <th>Top17</th>\n",
       "      <th>Top18</th>\n",
       "      <th>Top19</th>\n",
       "      <th>Top20</th>\n",
       "      <th>Top21</th>\n",
       "      <th>Top22</th>\n",
       "      <th>Top23</th>\n",
       "      <th>Top24</th>\n",
       "      <th>Top25</th>\n",
       "    </tr>\n",
       "  </thead>\n",
       "  <tbody>\n",
       "    <tr>\n",
       "      <th>0</th>\n",
       "      <td>2008-08-08</td>\n",
       "      <td>0</td>\n",
       "      <td>b\"Georgia 'downs two Russian warplanes' as cou...</td>\n",
       "      <td>b'BREAKING: Musharraf to be impeached.'</td>\n",
       "      <td>b'Russia Today: Columns of troops roll into So...</td>\n",
       "      <td>b'Russian tanks are moving towards the capital...</td>\n",
       "      <td>b\"Afghan children raped with 'impunity,' U.N. ...</td>\n",
       "      <td>b'150 Russian tanks have entered South Ossetia...</td>\n",
       "      <td>b\"Breaking: Georgia invades South Ossetia, Rus...</td>\n",
       "      <td>b\"The 'enemy combatent' trials are nothing but...</td>\n",
       "      <td>...</td>\n",
       "      <td>b'Georgia Invades South Ossetia - if Russia ge...</td>\n",
       "      <td>b'Al-Qaeda Faces Islamist Backlash'</td>\n",
       "      <td>b'Condoleezza Rice: \"The US would not act to p...</td>\n",
       "      <td>b'This is a busy day:  The European Union has ...</td>\n",
       "      <td>b\"Georgia will withdraw 1,000 soldiers from Ir...</td>\n",
       "      <td>b'Why the Pentagon Thinks Attacking Iran is a ...</td>\n",
       "      <td>b'Caucasus in crisis: Georgia invades South Os...</td>\n",
       "      <td>b'Indian shoe manufactory  - And again in a se...</td>\n",
       "      <td>b'Visitors Suffering from Mental Illnesses Ban...</td>\n",
       "      <td>b\"No Help for Mexico's Kidnapping Surge\"</td>\n",
       "    </tr>\n",
       "    <tr>\n",
       "      <th>1</th>\n",
       "      <td>2008-08-11</td>\n",
       "      <td>1</td>\n",
       "      <td>b'Why wont America and Nato help us? If they w...</td>\n",
       "      <td>b'Bush puts foot down on Georgian conflict'</td>\n",
       "      <td>b\"Jewish Georgian minister: Thanks to Israeli ...</td>\n",
       "      <td>b'Georgian army flees in disarray as Russians ...</td>\n",
       "      <td>b\"Olympic opening ceremony fireworks 'faked'\"</td>\n",
       "      <td>b'What were the Mossad with fraudulent New Zea...</td>\n",
       "      <td>b'Russia angered by Israeli military sale to G...</td>\n",
       "      <td>b'An American citizen living in S.Ossetia blam...</td>\n",
       "      <td>...</td>\n",
       "      <td>b'Israel and the US behind the Georgian aggres...</td>\n",
       "      <td>b'\"Do not believe TV, neither Russian nor Geor...</td>\n",
       "      <td>b'Riots are still going on in Montreal (Canada...</td>\n",
       "      <td>b'China to overtake US as largest manufacturer'</td>\n",
       "      <td>b'War in South Ossetia [PICS]'</td>\n",
       "      <td>b'Israeli Physicians Group Condemns State Tort...</td>\n",
       "      <td>b' Russia has just beaten the United States ov...</td>\n",
       "      <td>b'Perhaps *the* question about the Georgia - R...</td>\n",
       "      <td>b'Russia is so much better at war'</td>\n",
       "      <td>b\"So this is what it's come to: trading sex fo...</td>\n",
       "    </tr>\n",
       "    <tr>\n",
       "      <th>2</th>\n",
       "      <td>2008-08-12</td>\n",
       "      <td>0</td>\n",
       "      <td>b'Remember that adorable 9-year-old who sang a...</td>\n",
       "      <td>b\"Russia 'ends Georgia operation'\"</td>\n",
       "      <td>b'\"If we had no sexual harassment we would hav...</td>\n",
       "      <td>b\"Al-Qa'eda is losing support in Iraq because ...</td>\n",
       "      <td>b'Ceasefire in Georgia: Putin Outmaneuvers the...</td>\n",
       "      <td>b'Why Microsoft and Intel tried to kill the XO...</td>\n",
       "      <td>b'Stratfor: The Russo-Georgian War and the Bal...</td>\n",
       "      <td>b\"I'm Trying to Get a Sense of This Whole Geor...</td>\n",
       "      <td>...</td>\n",
       "      <td>b'U.S. troops still in Georgia (did you know t...</td>\n",
       "      <td>b'Why Russias response to Georgia was right'</td>\n",
       "      <td>b'Gorbachev accuses U.S. of making a \"serious ...</td>\n",
       "      <td>b'Russia, Georgia, and NATO: Cold War Two'</td>\n",
       "      <td>b'Remember that adorable 62-year-old who led y...</td>\n",
       "      <td>b'War in Georgia: The Israeli connection'</td>\n",
       "      <td>b'All signs point to the US encouraging Georgi...</td>\n",
       "      <td>b'Christopher King argues that the US and NATO...</td>\n",
       "      <td>b'America: The New Mexico?'</td>\n",
       "      <td>b\"BBC NEWS | Asia-Pacific | Extinction 'by man...</td>\n",
       "    </tr>\n",
       "  </tbody>\n",
       "</table>\n",
       "<p>3 rows × 27 columns</p>\n",
       "</div>"
      ],
      "text/plain": [
       "         Date  Label                                               Top1  \\\n",
       "0  2008-08-08      0  b\"Georgia 'downs two Russian warplanes' as cou...   \n",
       "1  2008-08-11      1  b'Why wont America and Nato help us? If they w...   \n",
       "2  2008-08-12      0  b'Remember that adorable 9-year-old who sang a...   \n",
       "\n",
       "                                          Top2  \\\n",
       "0      b'BREAKING: Musharraf to be impeached.'   \n",
       "1  b'Bush puts foot down on Georgian conflict'   \n",
       "2           b\"Russia 'ends Georgia operation'\"   \n",
       "\n",
       "                                                Top3  \\\n",
       "0  b'Russia Today: Columns of troops roll into So...   \n",
       "1  b\"Jewish Georgian minister: Thanks to Israeli ...   \n",
       "2  b'\"If we had no sexual harassment we would hav...   \n",
       "\n",
       "                                                Top4  \\\n",
       "0  b'Russian tanks are moving towards the capital...   \n",
       "1  b'Georgian army flees in disarray as Russians ...   \n",
       "2  b\"Al-Qa'eda is losing support in Iraq because ...   \n",
       "\n",
       "                                                Top5  \\\n",
       "0  b\"Afghan children raped with 'impunity,' U.N. ...   \n",
       "1      b\"Olympic opening ceremony fireworks 'faked'\"   \n",
       "2  b'Ceasefire in Georgia: Putin Outmaneuvers the...   \n",
       "\n",
       "                                                Top6  \\\n",
       "0  b'150 Russian tanks have entered South Ossetia...   \n",
       "1  b'What were the Mossad with fraudulent New Zea...   \n",
       "2  b'Why Microsoft and Intel tried to kill the XO...   \n",
       "\n",
       "                                                Top7  \\\n",
       "0  b\"Breaking: Georgia invades South Ossetia, Rus...   \n",
       "1  b'Russia angered by Israeli military sale to G...   \n",
       "2  b'Stratfor: The Russo-Georgian War and the Bal...   \n",
       "\n",
       "                                                Top8  ...  \\\n",
       "0  b\"The 'enemy combatent' trials are nothing but...  ...   \n",
       "1  b'An American citizen living in S.Ossetia blam...  ...   \n",
       "2  b\"I'm Trying to Get a Sense of This Whole Geor...  ...   \n",
       "\n",
       "                                               Top16  \\\n",
       "0  b'Georgia Invades South Ossetia - if Russia ge...   \n",
       "1  b'Israel and the US behind the Georgian aggres...   \n",
       "2  b'U.S. troops still in Georgia (did you know t...   \n",
       "\n",
       "                                               Top17  \\\n",
       "0                b'Al-Qaeda Faces Islamist Backlash'   \n",
       "1  b'\"Do not believe TV, neither Russian nor Geor...   \n",
       "2       b'Why Russias response to Georgia was right'   \n",
       "\n",
       "                                               Top18  \\\n",
       "0  b'Condoleezza Rice: \"The US would not act to p...   \n",
       "1  b'Riots are still going on in Montreal (Canada...   \n",
       "2  b'Gorbachev accuses U.S. of making a \"serious ...   \n",
       "\n",
       "                                               Top19  \\\n",
       "0  b'This is a busy day:  The European Union has ...   \n",
       "1    b'China to overtake US as largest manufacturer'   \n",
       "2         b'Russia, Georgia, and NATO: Cold War Two'   \n",
       "\n",
       "                                               Top20  \\\n",
       "0  b\"Georgia will withdraw 1,000 soldiers from Ir...   \n",
       "1                     b'War in South Ossetia [PICS]'   \n",
       "2  b'Remember that adorable 62-year-old who led y...   \n",
       "\n",
       "                                               Top21  \\\n",
       "0  b'Why the Pentagon Thinks Attacking Iran is a ...   \n",
       "1  b'Israeli Physicians Group Condemns State Tort...   \n",
       "2          b'War in Georgia: The Israeli connection'   \n",
       "\n",
       "                                               Top22  \\\n",
       "0  b'Caucasus in crisis: Georgia invades South Os...   \n",
       "1  b' Russia has just beaten the United States ov...   \n",
       "2  b'All signs point to the US encouraging Georgi...   \n",
       "\n",
       "                                               Top23  \\\n",
       "0  b'Indian shoe manufactory  - And again in a se...   \n",
       "1  b'Perhaps *the* question about the Georgia - R...   \n",
       "2  b'Christopher King argues that the US and NATO...   \n",
       "\n",
       "                                               Top24  \\\n",
       "0  b'Visitors Suffering from Mental Illnesses Ban...   \n",
       "1                 b'Russia is so much better at war'   \n",
       "2                        b'America: The New Mexico?'   \n",
       "\n",
       "                                               Top25  \n",
       "0           b\"No Help for Mexico's Kidnapping Surge\"  \n",
       "1  b\"So this is what it's come to: trading sex fo...  \n",
       "2  b\"BBC NEWS | Asia-Pacific | Extinction 'by man...  \n",
       "\n",
       "[3 rows x 27 columns]"
      ]
     },
     "execution_count": 70,
     "metadata": {},
     "output_type": "execute_result"
    }
   ],
   "source": [
    "# Read csv\n",
    "data = pd.read_csv('./datasets/Combined_News_DJIA.csv')\n",
    "data.head(3)"
   ]
  },
  {
   "cell_type": "code",
   "execution_count": 71,
   "metadata": {},
   "outputs": [
    {
     "data": {
      "text/html": [
       "<div>\n",
       "<style scoped>\n",
       "    .dataframe tbody tr th:only-of-type {\n",
       "        vertical-align: middle;\n",
       "    }\n",
       "\n",
       "    .dataframe tbody tr th {\n",
       "        vertical-align: top;\n",
       "    }\n",
       "\n",
       "    .dataframe thead th {\n",
       "        text-align: right;\n",
       "    }\n",
       "</style>\n",
       "<table border=\"1\" class=\"dataframe\">\n",
       "  <thead>\n",
       "    <tr style=\"text-align: right;\">\n",
       "      <th></th>\n",
       "      <th>Date</th>\n",
       "      <th>Label</th>\n",
       "      <th>variable</th>\n",
       "      <th>value</th>\n",
       "    </tr>\n",
       "  </thead>\n",
       "  <tbody>\n",
       "    <tr>\n",
       "      <th>0</th>\n",
       "      <td>2008-08-08</td>\n",
       "      <td>0</td>\n",
       "      <td>Top1</td>\n",
       "      <td>b\"Georgia 'downs two Russian warplanes' as cou...</td>\n",
       "    </tr>\n",
       "    <tr>\n",
       "      <th>37791</th>\n",
       "      <td>2008-08-08</td>\n",
       "      <td>0</td>\n",
       "      <td>Top20</td>\n",
       "      <td>b\"Georgia will withdraw 1,000 soldiers from Ir...</td>\n",
       "    </tr>\n",
       "    <tr>\n",
       "      <th>23868</th>\n",
       "      <td>2008-08-08</td>\n",
       "      <td>0</td>\n",
       "      <td>Top13</td>\n",
       "      <td>b\"So---Russia and Georgia are at war and the N...</td>\n",
       "    </tr>\n",
       "    <tr>\n",
       "      <th>25857</th>\n",
       "      <td>2008-08-08</td>\n",
       "      <td>0</td>\n",
       "      <td>Top14</td>\n",
       "      <td>b\"China tells Bush to stay out of other countr...</td>\n",
       "    </tr>\n",
       "    <tr>\n",
       "      <th>35802</th>\n",
       "      <td>2008-08-08</td>\n",
       "      <td>0</td>\n",
       "      <td>Top19</td>\n",
       "      <td>b'This is a busy day:  The European Union has ...</td>\n",
       "    </tr>\n",
       "  </tbody>\n",
       "</table>\n",
       "</div>"
      ],
      "text/plain": [
       "             Date  Label variable  \\\n",
       "0      2008-08-08      0     Top1   \n",
       "37791  2008-08-08      0    Top20   \n",
       "23868  2008-08-08      0    Top13   \n",
       "25857  2008-08-08      0    Top14   \n",
       "35802  2008-08-08      0    Top19   \n",
       "\n",
       "                                                   value  \n",
       "0      b\"Georgia 'downs two Russian warplanes' as cou...  \n",
       "37791  b\"Georgia will withdraw 1,000 soldiers from Ir...  \n",
       "23868  b\"So---Russia and Georgia are at war and the N...  \n",
       "25857  b\"China tells Bush to stay out of other countr...  \n",
       "35802  b'This is a busy day:  The European Union has ...  "
      ]
     },
     "execution_count": 71,
     "metadata": {},
     "output_type": "execute_result"
    }
   ],
   "source": [
    "# melt data to get sentiment score later\n",
    "sa_df = pd.melt(data, id_vars=['Date','Label'])\n",
    "sa_df = sa_df.sort_values(by=['Date'])\n",
    "sa_df.head()"
   ]
  },
  {
   "cell_type": "code",
   "execution_count": 72,
   "metadata": {},
   "outputs": [],
   "source": [
    "# Train Test Split\n",
    "train = sa_df[sa_df['Date'] < '2014-12-03']\n",
    "test = sa_df[sa_df['Date'] > '2014-12-04']"
   ]
  },
  {
   "cell_type": "code",
   "execution_count": 73,
   "metadata": {},
   "outputs": [
    {
     "data": {
      "text/html": [
       "<div>\n",
       "<style scoped>\n",
       "    .dataframe tbody tr th:only-of-type {\n",
       "        vertical-align: middle;\n",
       "    }\n",
       "\n",
       "    .dataframe tbody tr th {\n",
       "        vertical-align: top;\n",
       "    }\n",
       "\n",
       "    .dataframe thead th {\n",
       "        text-align: right;\n",
       "    }\n",
       "</style>\n",
       "<table border=\"1\" class=\"dataframe\">\n",
       "  <thead>\n",
       "    <tr style=\"text-align: right;\">\n",
       "      <th></th>\n",
       "      <th>Date</th>\n",
       "      <th>Label</th>\n",
       "      <th>variable</th>\n",
       "      <th>value</th>\n",
       "    </tr>\n",
       "  </thead>\n",
       "  <tbody>\n",
       "    <tr>\n",
       "      <th>0</th>\n",
       "      <td>2008-08-08</td>\n",
       "      <td>0</td>\n",
       "      <td>Top1</td>\n",
       "      <td>b\"Georgia 'downs two Russian warplanes' as cou...</td>\n",
       "    </tr>\n",
       "    <tr>\n",
       "      <th>37791</th>\n",
       "      <td>2008-08-08</td>\n",
       "      <td>0</td>\n",
       "      <td>Top20</td>\n",
       "      <td>b\"Georgia will withdraw 1,000 soldiers from Ir...</td>\n",
       "    </tr>\n",
       "    <tr>\n",
       "      <th>23868</th>\n",
       "      <td>2008-08-08</td>\n",
       "      <td>0</td>\n",
       "      <td>Top13</td>\n",
       "      <td>b\"So---Russia and Georgia are at war and the N...</td>\n",
       "    </tr>\n",
       "    <tr>\n",
       "      <th>25857</th>\n",
       "      <td>2008-08-08</td>\n",
       "      <td>0</td>\n",
       "      <td>Top14</td>\n",
       "      <td>b\"China tells Bush to stay out of other countr...</td>\n",
       "    </tr>\n",
       "    <tr>\n",
       "      <th>35802</th>\n",
       "      <td>2008-08-08</td>\n",
       "      <td>0</td>\n",
       "      <td>Top19</td>\n",
       "      <td>b'This is a busy day:  The European Union has ...</td>\n",
       "    </tr>\n",
       "  </tbody>\n",
       "</table>\n",
       "</div>"
      ],
      "text/plain": [
       "             Date  Label variable  \\\n",
       "0      2008-08-08      0     Top1   \n",
       "37791  2008-08-08      0    Top20   \n",
       "23868  2008-08-08      0    Top13   \n",
       "25857  2008-08-08      0    Top14   \n",
       "35802  2008-08-08      0    Top19   \n",
       "\n",
       "                                                   value  \n",
       "0      b\"Georgia 'downs two Russian warplanes' as cou...  \n",
       "37791  b\"Georgia will withdraw 1,000 soldiers from Ir...  \n",
       "23868  b\"So---Russia and Georgia are at war and the N...  \n",
       "25857  b\"China tells Bush to stay out of other countr...  \n",
       "35802  b'This is a busy day:  The European Union has ...  "
      ]
     },
     "execution_count": 73,
     "metadata": {},
     "output_type": "execute_result"
    }
   ],
   "source": [
    "# Display top 5 train data\n",
    "train.head()"
   ]
  },
  {
   "cell_type": "code",
   "execution_count": 74,
   "metadata": {},
   "outputs": [],
   "source": [
    "# Function for basic cleanup without lemmatize\n",
    "\n",
    "def basic_cleanup(titles):\n",
    "    # Function to convert a raw titles to a string of words\n",
    "    # The input is a single string (a raw title of a news), and \n",
    "    # the output is a single string (a preprocessed title)\n",
    "    \n",
    "    # 1. Remove HTML, if any\n",
    "    titles = BeautifulSoup(titles).get_text()\n",
    "\n",
    "     # 2. Remove b' starting\n",
    "    titles = re.sub('(^b\\')|(^b\\\")',' ',''.join(titles))\n",
    "\n",
    "    # 3. Remove non-letters and non-numbers except full stop\n",
    "    # A-z didn't remove \\ properly so used A-Za-z instead\n",
    "    titles = ''.join(re.sub(\"[^0-9A-Za-z. \\t]\",' ', titles))\n",
    "\n",
    "    # 4. Convert to lower case, split into individual words\n",
    "    titles = titles.lower()\n",
    "    \n",
    "    # 5. Tokenize: Split the sentence into words\n",
    "    words_list = nltk.word_tokenize(titles)\n",
    "    \n",
    "    # 6. Remove full stop only\n",
    "    # Convert example U.S. to U.S \n",
    "    cleaned_titles = re.sub('\\.\\s+',' ',' '.join(words_list))\n",
    "    cleaned_titles = re.sub('\\s+\\.',' ',''.join(cleaned_titles))\n",
    "    \n",
    "    return (cleaned_titles)"
   ]
  },
  {
   "cell_type": "code",
   "execution_count": 75,
   "metadata": {},
   "outputs": [
    {
     "name": "stderr",
     "output_type": "stream",
     "text": [
      "/Users/ethan/opt/anaconda3/lib/python3.7/site-packages/ipykernel_launcher.py:2: SettingWithCopyWarning: \n",
      "A value is trying to be set on a copy of a slice from a DataFrame.\n",
      "Try using .loc[row_indexer,col_indexer] = value instead\n",
      "\n",
      "See the caveats in the documentation: https://pandas.pydata.org/pandas-docs/stable/user_guide/indexing.html#returning-a-view-versus-a-copy\n",
      "  \n",
      "/Users/ethan/opt/anaconda3/lib/python3.7/site-packages/ipykernel_launcher.py:3: SettingWithCopyWarning: \n",
      "A value is trying to be set on a copy of a slice from a DataFrame.\n",
      "Try using .loc[row_indexer,col_indexer] = value instead\n",
      "\n",
      "See the caveats in the documentation: https://pandas.pydata.org/pandas-docs/stable/user_guide/indexing.html#returning-a-view-versus-a-copy\n",
      "  This is separate from the ipykernel package so we can avoid doing imports until\n"
     ]
    }
   ],
   "source": [
    "# Apply basic cleanup function to train and test data\n",
    "train['cleaned'] =train['value'].apply(lambda x: basic_cleanup(str(x)))\n",
    "test['cleaned'] =test['value'].apply(lambda x: basic_cleanup(str(x)))"
   ]
  },
  {
   "cell_type": "code",
   "execution_count": 76,
   "metadata": {},
   "outputs": [
    {
     "data": {
      "text/html": [
       "<div>\n",
       "<style scoped>\n",
       "    .dataframe tbody tr th:only-of-type {\n",
       "        vertical-align: middle;\n",
       "    }\n",
       "\n",
       "    .dataframe tbody tr th {\n",
       "        vertical-align: top;\n",
       "    }\n",
       "\n",
       "    .dataframe thead th {\n",
       "        text-align: right;\n",
       "    }\n",
       "</style>\n",
       "<table border=\"1\" class=\"dataframe\">\n",
       "  <thead>\n",
       "    <tr style=\"text-align: right;\">\n",
       "      <th></th>\n",
       "      <th>Date</th>\n",
       "      <th>Label</th>\n",
       "      <th>variable</th>\n",
       "      <th>value</th>\n",
       "      <th>cleaned</th>\n",
       "    </tr>\n",
       "  </thead>\n",
       "  <tbody>\n",
       "    <tr>\n",
       "      <th>0</th>\n",
       "      <td>2008-08-08</td>\n",
       "      <td>0</td>\n",
       "      <td>Top1</td>\n",
       "      <td>b\"Georgia 'downs two Russian warplanes' as countries move to brink of war\"</td>\n",
       "      <td>georgia downs two russian warplanes as countries move to brink of war</td>\n",
       "    </tr>\n",
       "    <tr>\n",
       "      <th>37791</th>\n",
       "      <td>2008-08-08</td>\n",
       "      <td>0</td>\n",
       "      <td>Top20</td>\n",
       "      <td>b\"Georgia will withdraw 1,000 soldiers from Iraq to help fight off Russian forces in Georgia's breakaway region of South Ossetia\"</td>\n",
       "      <td>georgia will withdraw 1 000 soldiers from iraq to help fight off russian forces in georgia s breakaway region of south ossetia</td>\n",
       "    </tr>\n",
       "    <tr>\n",
       "      <th>23868</th>\n",
       "      <td>2008-08-08</td>\n",
       "      <td>0</td>\n",
       "      <td>Top13</td>\n",
       "      <td>b\"So---Russia and Georgia are at war and the NYT's top story is opening ceremonies of the Olympics?  What a fucking disgrace and yet further proof of the decline of journalism.\"</td>\n",
       "      <td>so russia and georgia are at war and the nyt s top story is opening ceremonies of the olympics what a fucking disgrace and yet further proof of the decline of journalism</td>\n",
       "    </tr>\n",
       "    <tr>\n",
       "      <th>25857</th>\n",
       "      <td>2008-08-08</td>\n",
       "      <td>0</td>\n",
       "      <td>Top14</td>\n",
       "      <td>b\"China tells Bush to stay out of other countries' affairs\"</td>\n",
       "      <td>china tells bush to stay out of other countries affairs</td>\n",
       "    </tr>\n",
       "    <tr>\n",
       "      <th>35802</th>\n",
       "      <td>2008-08-08</td>\n",
       "      <td>0</td>\n",
       "      <td>Top19</td>\n",
       "      <td>b'This is a busy day:  The European Union has approved new sanctions against Iran in protest at its nuclear programme.'</td>\n",
       "      <td>this is a busy day the european union has approved new sanctions against iran in protest at its nuclear programme</td>\n",
       "    </tr>\n",
       "  </tbody>\n",
       "</table>\n",
       "</div>"
      ],
      "text/plain": [
       "             Date  Label variable  \\\n",
       "0      2008-08-08      0     Top1   \n",
       "37791  2008-08-08      0    Top20   \n",
       "23868  2008-08-08      0    Top13   \n",
       "25857  2008-08-08      0    Top14   \n",
       "35802  2008-08-08      0    Top19   \n",
       "\n",
       "                                                                                                                                                                                   value  \\\n",
       "0                                                                                                             b\"Georgia 'downs two Russian warplanes' as countries move to brink of war\"   \n",
       "37791                                                  b\"Georgia will withdraw 1,000 soldiers from Iraq to help fight off Russian forces in Georgia's breakaway region of South Ossetia\"   \n",
       "23868  b\"So---Russia and Georgia are at war and the NYT's top story is opening ceremonies of the Olympics?  What a fucking disgrace and yet further proof of the decline of journalism.\"   \n",
       "25857                                                                                                                        b\"China tells Bush to stay out of other countries' affairs\"   \n",
       "35802                                                            b'This is a busy day:  The European Union has approved new sanctions against Iran in protest at its nuclear programme.'   \n",
       "\n",
       "                                                                                                                                                                          cleaned  \n",
       "0                                                                                                           georgia downs two russian warplanes as countries move to brink of war  \n",
       "37791                                              georgia will withdraw 1 000 soldiers from iraq to help fight off russian forces in georgia s breakaway region of south ossetia  \n",
       "23868  so russia and georgia are at war and the nyt s top story is opening ceremonies of the olympics what a fucking disgrace and yet further proof of the decline of journalism   \n",
       "25857                                                                                                                     china tells bush to stay out of other countries affairs  \n",
       "35802                                                          this is a busy day the european union has approved new sanctions against iran in protest at its nuclear programme   "
      ]
     },
     "execution_count": 76,
     "metadata": {},
     "output_type": "execute_result"
    }
   ],
   "source": [
    "# Display cleaned train and test\n",
    "pd.set_option('display.max_columns', 30)\n",
    "pd.set_option('display.max_colwidth', 200)\n",
    "train.head()"
   ]
  },
  {
   "cell_type": "code",
   "execution_count": 77,
   "metadata": {},
   "outputs": [
    {
     "data": {
      "text/html": [
       "<div>\n",
       "<style scoped>\n",
       "    .dataframe tbody tr th:only-of-type {\n",
       "        vertical-align: middle;\n",
       "    }\n",
       "\n",
       "    .dataframe tbody tr th {\n",
       "        vertical-align: top;\n",
       "    }\n",
       "\n",
       "    .dataframe thead th {\n",
       "        text-align: right;\n",
       "    }\n",
       "</style>\n",
       "<table border=\"1\" class=\"dataframe\">\n",
       "  <thead>\n",
       "    <tr style=\"text-align: right;\">\n",
       "      <th></th>\n",
       "      <th>Date</th>\n",
       "      <th>Label</th>\n",
       "      <th>variable</th>\n",
       "      <th>value</th>\n",
       "      <th>cleaned</th>\n",
       "    </tr>\n",
       "  </thead>\n",
       "  <tbody>\n",
       "    <tr>\n",
       "      <th>3582</th>\n",
       "      <td>2014-12-05</td>\n",
       "      <td>1</td>\n",
       "      <td>Top2</td>\n",
       "      <td>Dozens of Chinese held in Kenya accused of preparing to raid the country's communications systems</td>\n",
       "      <td>dozens of chinese held in kenya accused of preparing to raid the country s communications systems</td>\n",
       "    </tr>\n",
       "    <tr>\n",
       "      <th>7560</th>\n",
       "      <td>2014-12-05</td>\n",
       "      <td>1</td>\n",
       "      <td>Top4</td>\n",
       "      <td>Blame your boss, not China, for stagnant wage growth: ILO</td>\n",
       "      <td>blame your boss not china for stagnant wage growth ilo</td>\n",
       "    </tr>\n",
       "    <tr>\n",
       "      <th>27450</th>\n",
       "      <td>2014-12-05</td>\n",
       "      <td>1</td>\n",
       "      <td>Top14</td>\n",
       "      <td>Land Mines Arent Killing As Many People As They Used To</td>\n",
       "      <td>land mines arent killing as many people as they used to</td>\n",
       "    </tr>\n",
       "    <tr>\n",
       "      <th>17505</th>\n",
       "      <td>2014-12-05</td>\n",
       "      <td>1</td>\n",
       "      <td>Top9</td>\n",
       "      <td>Snowden docs show NSA spied on global cellphone networks</td>\n",
       "      <td>snowden docs show nsa spied on global cellphone networks</td>\n",
       "    </tr>\n",
       "    <tr>\n",
       "      <th>23472</th>\n",
       "      <td>2014-12-05</td>\n",
       "      <td>1</td>\n",
       "      <td>Top12</td>\n",
       "      <td>Turkish President Recep Tayyip Erdogan on Thursday condemned the United Nations Security Council for being an unrepresentative \"Christian body,\" as well as the \"biased\" decisions of Norway's Nobel...</td>\n",
       "      <td>turkish president recep tayyip erdogan on thursday condemned the united nations security council for being an unrepresentative christian body as well as the biased decisions of norway s nobel priz...</td>\n",
       "    </tr>\n",
       "  </tbody>\n",
       "</table>\n",
       "</div>"
      ],
      "text/plain": [
       "             Date  Label variable  \\\n",
       "3582   2014-12-05      1     Top2   \n",
       "7560   2014-12-05      1     Top4   \n",
       "27450  2014-12-05      1    Top14   \n",
       "17505  2014-12-05      1     Top9   \n",
       "23472  2014-12-05      1    Top12   \n",
       "\n",
       "                                                                                                                                                                                                         value  \\\n",
       "3582                                                                                                         Dozens of Chinese held in Kenya accused of preparing to raid the country's communications systems   \n",
       "7560                                                                                                                                                 Blame your boss, not China, for stagnant wage growth: ILO   \n",
       "27450                                                                                                                                                  Land Mines Arent Killing As Many People As They Used To   \n",
       "17505                                                                                                                                                 Snowden docs show NSA spied on global cellphone networks   \n",
       "23472  Turkish President Recep Tayyip Erdogan on Thursday condemned the United Nations Security Council for being an unrepresentative \"Christian body,\" as well as the \"biased\" decisions of Norway's Nobel...   \n",
       "\n",
       "                                                                                                                                                                                                       cleaned  \n",
       "3582                                                                                                         dozens of chinese held in kenya accused of preparing to raid the country s communications systems  \n",
       "7560                                                                                                                                                    blame your boss not china for stagnant wage growth ilo  \n",
       "27450                                                                                                                                                  land mines arent killing as many people as they used to  \n",
       "17505                                                                                                                                                 snowden docs show nsa spied on global cellphone networks  \n",
       "23472  turkish president recep tayyip erdogan on thursday condemned the united nations security council for being an unrepresentative christian body as well as the biased decisions of norway s nobel priz...  "
      ]
     },
     "execution_count": 77,
     "metadata": {},
     "output_type": "execute_result"
    }
   ],
   "source": [
    "test.head()"
   ]
  },
  {
   "cell_type": "code",
   "execution_count": 78,
   "metadata": {},
   "outputs": [
    {
     "name": "stderr",
     "output_type": "stream",
     "text": [
      "/Users/ethan/opt/anaconda3/lib/python3.7/site-packages/ipykernel_launcher.py:2: SettingWithCopyWarning: \n",
      "A value is trying to be set on a copy of a slice from a DataFrame.\n",
      "Try using .loc[row_indexer,col_indexer] = value instead\n",
      "\n",
      "See the caveats in the documentation: https://pandas.pydata.org/pandas-docs/stable/user_guide/indexing.html#returning-a-view-versus-a-copy\n",
      "  \n",
      "/Users/ethan/opt/anaconda3/lib/python3.7/site-packages/ipykernel_launcher.py:3: SettingWithCopyWarning: \n",
      "A value is trying to be set on a copy of a slice from a DataFrame.\n",
      "Try using .loc[row_indexer,col_indexer] = value instead\n",
      "\n",
      "See the caveats in the documentation: https://pandas.pydata.org/pandas-docs/stable/user_guide/indexing.html#returning-a-view-versus-a-copy\n",
      "  This is separate from the ipykernel package so we can avoid doing imports until\n"
     ]
    }
   ],
   "source": [
    "# Apply function to get sentiment score for train and test data\n",
    "train[\"Sentiment_score\"] = train['cleaned'].apply(lambda x: TextBlob(x).sentiment.polarity)\n",
    "test[\"Sentiment_score\"] = test['cleaned'].apply(lambda x: TextBlob(x).sentiment.polarity)\n",
    "# Tried with no cleanup. doesnt seems to affect score"
   ]
  },
  {
   "cell_type": "code",
   "execution_count": 79,
   "metadata": {},
   "outputs": [],
   "source": [
    "# Function to return convert sentiment score to 3 labels: positive, neutral or negative \n",
    "def sentiment(titles):\n",
    "    analysis = TextBlob(titles)\n",
    "    if analysis.sentiment.polarity > 0:\n",
    "        return 'Positive'\n",
    "    elif analysis.sentiment.polarity ==0:\n",
    "        return 'Neutral'\n",
    "    else:\n",
    "        return 'Negative'"
   ]
  },
  {
   "cell_type": "code",
   "execution_count": 80,
   "metadata": {},
   "outputs": [
    {
     "name": "stderr",
     "output_type": "stream",
     "text": [
      "/Users/ethan/opt/anaconda3/lib/python3.7/site-packages/ipykernel_launcher.py:2: SettingWithCopyWarning: \n",
      "A value is trying to be set on a copy of a slice from a DataFrame.\n",
      "Try using .loc[row_indexer,col_indexer] = value instead\n",
      "\n",
      "See the caveats in the documentation: https://pandas.pydata.org/pandas-docs/stable/user_guide/indexing.html#returning-a-view-versus-a-copy\n",
      "  \n",
      "/Users/ethan/opt/anaconda3/lib/python3.7/site-packages/ipykernel_launcher.py:3: SettingWithCopyWarning: \n",
      "A value is trying to be set on a copy of a slice from a DataFrame.\n",
      "Try using .loc[row_indexer,col_indexer] = value instead\n",
      "\n",
      "See the caveats in the documentation: https://pandas.pydata.org/pandas-docs/stable/user_guide/indexing.html#returning-a-view-versus-a-copy\n",
      "  This is separate from the ipykernel package so we can avoid doing imports until\n"
     ]
    }
   ],
   "source": [
    "# Apply function to get sentiment class for train and test data\n",
    "train[\"Sentiment\"] = train['cleaned'].apply(lambda x: sentiment(x))\n",
    "test[\"Sentiment\"] = test['cleaned'].apply(lambda x: sentiment(x))"
   ]
  },
  {
   "cell_type": "code",
   "execution_count": 81,
   "metadata": {},
   "outputs": [
    {
     "data": {
      "text/html": [
       "<div>\n",
       "<style scoped>\n",
       "    .dataframe tbody tr th:only-of-type {\n",
       "        vertical-align: middle;\n",
       "    }\n",
       "\n",
       "    .dataframe tbody tr th {\n",
       "        vertical-align: top;\n",
       "    }\n",
       "\n",
       "    .dataframe thead th {\n",
       "        text-align: right;\n",
       "    }\n",
       "</style>\n",
       "<table border=\"1\" class=\"dataframe\">\n",
       "  <thead>\n",
       "    <tr style=\"text-align: right;\">\n",
       "      <th></th>\n",
       "      <th>Date</th>\n",
       "      <th>Label</th>\n",
       "      <th>variable</th>\n",
       "      <th>value</th>\n",
       "      <th>cleaned</th>\n",
       "      <th>Sentiment_score</th>\n",
       "      <th>Sentiment</th>\n",
       "    </tr>\n",
       "  </thead>\n",
       "  <tbody>\n",
       "    <tr>\n",
       "      <th>0</th>\n",
       "      <td>2008-08-08</td>\n",
       "      <td>0</td>\n",
       "      <td>Top1</td>\n",
       "      <td>b\"Georgia 'downs two Russian warplanes' as countries move to brink of war\"</td>\n",
       "      <td>georgia downs two russian warplanes as countries move to brink of war</td>\n",
       "      <td>0.000000</td>\n",
       "      <td>Neutral</td>\n",
       "    </tr>\n",
       "    <tr>\n",
       "      <th>37791</th>\n",
       "      <td>2008-08-08</td>\n",
       "      <td>0</td>\n",
       "      <td>Top20</td>\n",
       "      <td>b\"Georgia will withdraw 1,000 soldiers from Iraq to help fight off Russian forces in Georgia's breakaway region of South Ossetia\"</td>\n",
       "      <td>georgia will withdraw 1 000 soldiers from iraq to help fight off russian forces in georgia s breakaway region of south ossetia</td>\n",
       "      <td>0.000000</td>\n",
       "      <td>Neutral</td>\n",
       "    </tr>\n",
       "    <tr>\n",
       "      <th>23868</th>\n",
       "      <td>2008-08-08</td>\n",
       "      <td>0</td>\n",
       "      <td>Top13</td>\n",
       "      <td>b\"So---Russia and Georgia are at war and the NYT's top story is opening ceremonies of the Olympics?  What a fucking disgrace and yet further proof of the decline of journalism.\"</td>\n",
       "      <td>so russia and georgia are at war and the nyt s top story is opening ceremonies of the olympics what a fucking disgrace and yet further proof of the decline of journalism</td>\n",
       "      <td>-0.033333</td>\n",
       "      <td>Negative</td>\n",
       "    </tr>\n",
       "    <tr>\n",
       "      <th>25857</th>\n",
       "      <td>2008-08-08</td>\n",
       "      <td>0</td>\n",
       "      <td>Top14</td>\n",
       "      <td>b\"China tells Bush to stay out of other countries' affairs\"</td>\n",
       "      <td>china tells bush to stay out of other countries affairs</td>\n",
       "      <td>-0.125000</td>\n",
       "      <td>Negative</td>\n",
       "    </tr>\n",
       "    <tr>\n",
       "      <th>35802</th>\n",
       "      <td>2008-08-08</td>\n",
       "      <td>0</td>\n",
       "      <td>Top19</td>\n",
       "      <td>b'This is a busy day:  The European Union has approved new sanctions against Iran in protest at its nuclear programme.'</td>\n",
       "      <td>this is a busy day the european union has approved new sanctions against iran in protest at its nuclear programme</td>\n",
       "      <td>0.078788</td>\n",
       "      <td>Positive</td>\n",
       "    </tr>\n",
       "  </tbody>\n",
       "</table>\n",
       "</div>"
      ],
      "text/plain": [
       "             Date  Label variable  \\\n",
       "0      2008-08-08      0     Top1   \n",
       "37791  2008-08-08      0    Top20   \n",
       "23868  2008-08-08      0    Top13   \n",
       "25857  2008-08-08      0    Top14   \n",
       "35802  2008-08-08      0    Top19   \n",
       "\n",
       "                                                                                                                                                                                   value  \\\n",
       "0                                                                                                             b\"Georgia 'downs two Russian warplanes' as countries move to brink of war\"   \n",
       "37791                                                  b\"Georgia will withdraw 1,000 soldiers from Iraq to help fight off Russian forces in Georgia's breakaway region of South Ossetia\"   \n",
       "23868  b\"So---Russia and Georgia are at war and the NYT's top story is opening ceremonies of the Olympics?  What a fucking disgrace and yet further proof of the decline of journalism.\"   \n",
       "25857                                                                                                                        b\"China tells Bush to stay out of other countries' affairs\"   \n",
       "35802                                                            b'This is a busy day:  The European Union has approved new sanctions against Iran in protest at its nuclear programme.'   \n",
       "\n",
       "                                                                                                                                                                          cleaned  \\\n",
       "0                                                                                                           georgia downs two russian warplanes as countries move to brink of war   \n",
       "37791                                              georgia will withdraw 1 000 soldiers from iraq to help fight off russian forces in georgia s breakaway region of south ossetia   \n",
       "23868  so russia and georgia are at war and the nyt s top story is opening ceremonies of the olympics what a fucking disgrace and yet further proof of the decline of journalism    \n",
       "25857                                                                                                                     china tells bush to stay out of other countries affairs   \n",
       "35802                                                          this is a busy day the european union has approved new sanctions against iran in protest at its nuclear programme    \n",
       "\n",
       "       Sentiment_score Sentiment  \n",
       "0             0.000000   Neutral  \n",
       "37791         0.000000   Neutral  \n",
       "23868        -0.033333  Negative  \n",
       "25857        -0.125000  Negative  \n",
       "35802         0.078788  Positive  "
      ]
     },
     "execution_count": 81,
     "metadata": {},
     "output_type": "execute_result"
    }
   ],
   "source": [
    "# Display train set to check \n",
    "train.head()"
   ]
  },
  {
   "cell_type": "markdown",
   "metadata": {},
   "source": [
    "# Fit Logistic Regression for the Sentiment Score"
   ]
  },
  {
   "cell_type": "code",
   "execution_count": 82,
   "metadata": {},
   "outputs": [],
   "source": [
    "log_params = {\n",
    "    'logreg__C':[1e-6], #[0.000055,1e-5,1e-4,1e-2,1,10,100,1000,5000]\n",
    "    'logreg__max_iter':[200], #[100,150,250,400,500,800,1000,2000]\n",
    "    'logreg__penalty' : ['l2'], #['l1','elasticnet', 'none']\n",
    "}"
   ]
  },
  {
   "cell_type": "code",
   "execution_count": 83,
   "metadata": {},
   "outputs": [],
   "source": [
    "# Instantiate vectorizer and log reg\n",
    "log_steps = [('logreg', LogisticRegression())]\n",
    "# Put into Pipeline\n",
    "log_pipe = Pipeline(log_steps)\n",
    "# Get parameters\n",
    "#log_pipe.get_params()\n",
    "# Instantiate GridsearchcV\n",
    "log_search = GridSearchCV(log_pipe,log_params,cv=10,verbose=1)"
   ]
  },
  {
   "cell_type": "code",
   "execution_count": 84,
   "metadata": {},
   "outputs": [
    {
     "data": {
      "text/plain": [
       "3582     0.0\n",
       "7560     0.0\n",
       "27450    0.5\n",
       "17505    0.0\n",
       "23472    0.0\n",
       "Name: Sentiment_score, dtype: float64"
      ]
     },
     "execution_count": 84,
     "metadata": {},
     "output_type": "execute_result"
    }
   ],
   "source": [
    "test['Sentiment_score'].head()"
   ]
  },
  {
   "cell_type": "code",
   "execution_count": 85,
   "metadata": {},
   "outputs": [
    {
     "name": "stderr",
     "output_type": "stream",
     "text": [
      "[Parallel(n_jobs=1)]: Using backend SequentialBackend with 1 concurrent workers.\n"
     ]
    },
    {
     "name": "stdout",
     "output_type": "stream",
     "text": [
      "Fitting 10 folds for each of 1 candidates, totalling 10 fits\n",
      "Best parameters:  {'logreg__C': 1e-06, 'logreg__max_iter': 200, 'logreg__penalty': 'l2'}\n",
      "Best CV Train Accuracy score:  0.5424261398466017\n",
      "Training Accuracy score: 0.5424261470773099\n",
      "Validation Accuracy score: 0.5075757575757576\n",
      "            \n"
     ]
    },
    {
     "name": "stderr",
     "output_type": "stream",
     "text": [
      "[Parallel(n_jobs=1)]: Done  10 out of  10 | elapsed:    0.3s finished\n"
     ]
    }
   ],
   "source": [
    "# Fit GridSearchCV with Logistic Regression model \n",
    "# 39775 obs for training\n",
    "log_search.fit(np.array(train['Sentiment_score']).reshape(-1, 1),train['Label'])\n",
    "print('Best parameters: ', log_search.best_params_)\n",
    "print('Best CV Train Accuracy score: ', log_search.best_score_)\n",
    "print('Training Accuracy score:', log_search.score(np.array(train['Sentiment_score']).reshape(-1, 1),train['Label']))\n",
    "print('Validation Accuracy score:', log_search.score(np.array(test['Sentiment_score']).reshape(-1, 1),test['Label']))\n",
    "print('            ')"
   ]
  },
  {
   "cell_type": "code",
   "execution_count": 102,
   "metadata": {},
   "outputs": [],
   "source": [
    "# Groupby Date\n",
    "#train.groupby('Date')['Sentiment_score'].mean()"
   ]
  },
  {
   "cell_type": "markdown",
   "metadata": {},
   "source": [
    "# Best Model: Logistic Regression with CountVectorizer 3-gram"
   ]
  },
  {
   "cell_type": "markdown",
   "metadata": {},
   "source": [
    "Though still worse than baseline, let's still take a look"
   ]
  },
  {
   "cell_type": "code",
   "execution_count": 87,
   "metadata": {},
   "outputs": [],
   "source": [
    "# Instantiate vectorizer and log reg\n",
    "log_cvec_3_steps = [('cvec_3gram',CountVectorizer(ngram_range=(3,3),max_features=700)),('logreg', LogisticRegression(C=0.05,max_iter=600,penalty='l2'))]\n",
    "# Put into Pipeline\n",
    "log_cvec_3_pipe = Pipeline(log_cvec_3_steps)"
   ]
  },
  {
   "cell_type": "code",
   "execution_count": 88,
   "metadata": {},
   "outputs": [
    {
     "data": {
      "text/plain": [
       "Pipeline(memory=None,\n",
       "         steps=[('cvec_3gram',\n",
       "                 CountVectorizer(analyzer='word', binary=False,\n",
       "                                 decode_error='strict',\n",
       "                                 dtype=<class 'numpy.int64'>, encoding='utf-8',\n",
       "                                 input='content', lowercase=True, max_df=1.0,\n",
       "                                 max_features=700, min_df=1, ngram_range=(3, 3),\n",
       "                                 preprocessor=None, stop_words=None,\n",
       "                                 strip_accents=None,\n",
       "                                 token_pattern='(?u)\\\\b\\\\w\\\\w+\\\\b',\n",
       "                                 tokenizer=None, vocabulary=None)),\n",
       "                ('logreg',\n",
       "                 LogisticRegression(C=0.05, class_weight=None, dual=False,\n",
       "                                    fit_intercept=True, intercept_scaling=1,\n",
       "                                    l1_ratio=None, max_iter=600,\n",
       "                                    multi_class='auto', n_jobs=None,\n",
       "                                    penalty='l2', random_state=None,\n",
       "                                    solver='lbfgs', tol=0.0001, verbose=0,\n",
       "                                    warm_start=False))],\n",
       "         verbose=False)"
      ]
     },
     "execution_count": 88,
     "metadata": {},
     "output_type": "execute_result"
    }
   ],
   "source": [
    "# Fit GridSearchCV with Logistic Regression model with cvec 3-gram\n",
    "log_cvec_3_pipe.fit(X_train['Combined_new'],y_train)\n",
    "#print('Training Accuracy score:', log_cvec_3_pipe.score(X_train['Combined_new'], y_train))\n",
    "#print('Validation Accuracy score:', log_cvec_3_pipe.score(X_test['Combined_new'], y_test))\n",
    "#print('            ')"
   ]
  },
  {
   "cell_type": "code",
   "execution_count": 89,
   "metadata": {},
   "outputs": [
    {
     "name": "stdout",
     "output_type": "stream",
     "text": [
      "Best CV Train Accuracy score:  0.515381289308176\n"
     ]
    }
   ],
   "source": [
    "print('Best CV Train Accuracy score: ', cross_val_score(log_cvec_3_pipe,X_train['Combined_new'],y_train,cv=10).mean())"
   ]
  },
  {
   "cell_type": "code",
   "execution_count": 90,
   "metadata": {},
   "outputs": [
    {
     "name": "stdout",
     "output_type": "stream",
     "text": [
      "The best test score is: 51.5 %\n"
     ]
    }
   ],
   "source": [
    "# Score our model on the testing set\n",
    "# This is Accuracy score \n",
    "print(f\"The best test score is: {round(log_cvec_3_pipe.score(X_test['Combined_new'], y_test),3)*100} %\")"
   ]
  },
  {
   "cell_type": "markdown",
   "metadata": {},
   "source": [
    "\\begin{eqnarray*}\n",
    "\\log\\bigg(\\frac{P(Y=1)}{1-P(Y=1)}\\bigg) &=& \\beta_0 + \\beta_1X_1 + \\beta_2X_2 + \\cdots + \\beta_pX_p \\\\\n",
    "\\Rightarrow e^{\\Bigg(\\log\\bigg(\\frac{P(Y=1)}{1-P(Y=1)}\\bigg)\\Bigg)} &=& e^{\\Bigg(\\beta_0 + \\beta_1X_1 + \\beta_2X_2 + \\cdots + \\beta_pX_p\\Bigg)} \\\\\n",
    "\\Rightarrow \\frac{P(Y=1)}{1-P(Y=1)} &=& e^{\\Bigg(\\beta_0 + \\beta_1X_1 + \\beta_2X_2 + \\cdots + \\beta_pX_p\\Bigg)} \\\\\n",
    "\\end{eqnarray*}"
   ]
  },
  {
   "cell_type": "code",
   "execution_count": 91,
   "metadata": {},
   "outputs": [],
   "source": [
    "log_coef = log_cvec_3_pipe.named_steps['logreg'].coef_\n",
    "cvec_cols = log_cvec_3_pipe.named_steps['cvec_3gram'].get_feature_names()"
   ]
  },
  {
   "cell_type": "code",
   "execution_count": 92,
   "metadata": {},
   "outputs": [
    {
     "data": {
      "text/html": [
       "<div>\n",
       "<style scoped>\n",
       "    .dataframe tbody tr th:only-of-type {\n",
       "        vertical-align: middle;\n",
       "    }\n",
       "\n",
       "    .dataframe tbody tr th {\n",
       "        vertical-align: top;\n",
       "    }\n",
       "\n",
       "    .dataframe thead th {\n",
       "        text-align: right;\n",
       "    }\n",
       "</style>\n",
       "<table border=\"1\" class=\"dataframe\">\n",
       "  <thead>\n",
       "    <tr style=\"text-align: right;\">\n",
       "      <th></th>\n",
       "      <th>word</th>\n",
       "      <th>coef</th>\n",
       "      <th>exp_coef</th>\n",
       "    </tr>\n",
       "  </thead>\n",
       "  <tbody>\n",
       "    <tr>\n",
       "      <th>370</th>\n",
       "      <td>nobel peace prize</td>\n",
       "      <td>0.227356</td>\n",
       "      <td>1.255276</td>\n",
       "    </tr>\n",
       "    <tr>\n",
       "      <th>643</th>\n",
       "      <td>un security council</td>\n",
       "      <td>0.179091</td>\n",
       "      <td>1.196129</td>\n",
       "    </tr>\n",
       "    <tr>\n",
       "      <th>234</th>\n",
       "      <td>human right watch</td>\n",
       "      <td>0.175956</td>\n",
       "      <td>1.192386</td>\n",
       "    </tr>\n",
       "    <tr>\n",
       "      <th>366</th>\n",
       "      <td>no fly zone</td>\n",
       "      <td>0.146013</td>\n",
       "      <td>1.157211</td>\n",
       "    </tr>\n",
       "    <tr>\n",
       "      <th>441</th>\n",
       "      <td>president evo morale</td>\n",
       "      <td>0.142998</td>\n",
       "      <td>1.153728</td>\n",
       "    </tr>\n",
       "    <tr>\n",
       "      <th>471</th>\n",
       "      <td>pro russian separatist</td>\n",
       "      <td>0.131392</td>\n",
       "      <td>1.140415</td>\n",
       "    </tr>\n",
       "    <tr>\n",
       "      <th>63</th>\n",
       "      <td>bolivian president evo</td>\n",
       "      <td>0.129902</td>\n",
       "      <td>1.138717</td>\n",
       "    </tr>\n",
       "    <tr>\n",
       "      <th>19</th>\n",
       "      <td>alleged war crime</td>\n",
       "      <td>0.121635</td>\n",
       "      <td>1.129342</td>\n",
       "    </tr>\n",
       "    <tr>\n",
       "      <th>627</th>\n",
       "      <td>turkey prime minister</td>\n",
       "      <td>0.120127</td>\n",
       "      <td>1.127640</td>\n",
       "    </tr>\n",
       "    <tr>\n",
       "      <th>89</th>\n",
       "      <td>cia drone strike</td>\n",
       "      <td>0.119672</td>\n",
       "      <td>1.127127</td>\n",
       "    </tr>\n",
       "  </tbody>\n",
       "</table>\n",
       "</div>"
      ],
      "text/plain": [
       "                       word      coef  exp_coef\n",
       "370       nobel peace prize  0.227356  1.255276\n",
       "643     un security council  0.179091  1.196129\n",
       "234       human right watch  0.175956  1.192386\n",
       "366             no fly zone  0.146013  1.157211\n",
       "441    president evo morale  0.142998  1.153728\n",
       "471  pro russian separatist  0.131392  1.140415\n",
       "63   bolivian president evo  0.129902  1.138717\n",
       "19        alleged war crime  0.121635  1.129342\n",
       "627   turkey prime minister  0.120127  1.127640\n",
       "89         cia drone strike  0.119672  1.127127"
      ]
     },
     "execution_count": 92,
     "metadata": {},
     "output_type": "execute_result"
    }
   ],
   "source": [
    "# keep the coefficients in dataframe\n",
    "coefficients = pd.concat([pd.DataFrame(cvec_cols),pd.DataFrame(np.transpose(log_coef))], axis = 1)\n",
    "coefficients.columns=['word','coef']\n",
    "coefficients['exp_coef'] = coefficients['coef'].map(lambda x: math.exp(x))\n",
    "coefficients.sort_values(by='coef',ascending=False).head(10)"
   ]
  },
  {
   "cell_type": "code",
   "execution_count": 93,
   "metadata": {},
   "outputs": [
    {
     "data": {
      "text/html": [
       "<div>\n",
       "<style scoped>\n",
       "    .dataframe tbody tr th:only-of-type {\n",
       "        vertical-align: middle;\n",
       "    }\n",
       "\n",
       "    .dataframe tbody tr th {\n",
       "        vertical-align: top;\n",
       "    }\n",
       "\n",
       "    .dataframe thead th {\n",
       "        text-align: right;\n",
       "    }\n",
       "</style>\n",
       "<table border=\"1\" class=\"dataframe\">\n",
       "  <thead>\n",
       "    <tr style=\"text-align: right;\">\n",
       "      <th></th>\n",
       "      <th>word</th>\n",
       "      <th>coef</th>\n",
       "      <th>exp_coef</th>\n",
       "    </tr>\n",
       "  </thead>\n",
       "  <tbody>\n",
       "    <tr>\n",
       "      <th>423</th>\n",
       "      <td>phone hacking scandal</td>\n",
       "      <td>-0.209783</td>\n",
       "      <td>0.810760</td>\n",
       "    </tr>\n",
       "    <tr>\n",
       "      <th>146</th>\n",
       "      <td>first country world</td>\n",
       "      <td>-0.170974</td>\n",
       "      <td>0.842843</td>\n",
       "    </tr>\n",
       "    <tr>\n",
       "      <th>137</th>\n",
       "      <td>face year jail</td>\n",
       "      <td>-0.164724</td>\n",
       "      <td>0.848128</td>\n",
       "    </tr>\n",
       "    <tr>\n",
       "      <th>570</th>\n",
       "      <td>syrian security force</td>\n",
       "      <td>-0.155513</td>\n",
       "      <td>0.855976</td>\n",
       "    </tr>\n",
       "    <tr>\n",
       "      <th>685</th>\n",
       "      <td>world war ii</td>\n",
       "      <td>-0.147784</td>\n",
       "      <td>0.862617</td>\n",
       "    </tr>\n",
       "    <tr>\n",
       "      <th>348</th>\n",
       "      <td>nato air strike</td>\n",
       "      <td>-0.144992</td>\n",
       "      <td>0.865030</td>\n",
       "    </tr>\n",
       "    <tr>\n",
       "      <th>248</th>\n",
       "      <td>iran nuclear facility</td>\n",
       "      <td>-0.139876</td>\n",
       "      <td>0.869466</td>\n",
       "    </tr>\n",
       "    <tr>\n",
       "      <th>289</th>\n",
       "      <td>last year the</td>\n",
       "      <td>-0.127778</td>\n",
       "      <td>0.880049</td>\n",
       "    </tr>\n",
       "    <tr>\n",
       "      <th>490</th>\n",
       "      <td>rio de janeiro</td>\n",
       "      <td>-0.126497</td>\n",
       "      <td>0.881176</td>\n",
       "    </tr>\n",
       "    <tr>\n",
       "      <th>186</th>\n",
       "      <td>genetically modified crop</td>\n",
       "      <td>-0.126275</td>\n",
       "      <td>0.881373</td>\n",
       "    </tr>\n",
       "  </tbody>\n",
       "</table>\n",
       "</div>"
      ],
      "text/plain": [
       "                          word      coef  exp_coef\n",
       "423      phone hacking scandal -0.209783  0.810760\n",
       "146        first country world -0.170974  0.842843\n",
       "137             face year jail -0.164724  0.848128\n",
       "570      syrian security force -0.155513  0.855976\n",
       "685               world war ii -0.147784  0.862617\n",
       "348            nato air strike -0.144992  0.865030\n",
       "248      iran nuclear facility -0.139876  0.869466\n",
       "289              last year the -0.127778  0.880049\n",
       "490             rio de janeiro -0.126497  0.881176\n",
       "186  genetically modified crop -0.126275  0.881373"
      ]
     },
     "execution_count": 93,
     "metadata": {},
     "output_type": "execute_result"
    }
   ],
   "source": [
    "coefficients.sort_values(by='coef',ascending=True).head(10)"
   ]
  },
  {
   "cell_type": "code",
   "execution_count": 94,
   "metadata": {},
   "outputs": [],
   "source": [
    "# Function to plot ROC curve with AUC\n",
    "def plot_roc(model, X, actual_y, title):\n",
    "    \n",
    "    # Calculate the fpr and tpr for all thresholds of the classification\n",
    "    probs = model.predict_proba(X)\n",
    "    preds = probs[:,1]\n",
    "    \n",
    "    fpr, tpr, threshold = roc_curve(actual_y, preds)\n",
    "    roc_auc = auc(fpr, tpr)\n",
    "    \n",
    "    plt.figure(figsize=(7,5))\n",
    "    plt.title(title +': ROC Curve with AUC = ' + '%0.2f' % roc_auc, fontsize=12, fontweight='bold')\n",
    "    plt.plot(fpr, tpr, 'b', label='ROC Curve') # Plot the ROC curve\n",
    "    plt.plot([0, 1], [0, 1],'r--', label='Baseline') # Plot baseline \n",
    "    plt.legend(loc = 'lower right')\n",
    "    plt.xlim([-0.01, 1.01])\n",
    "    plt.ylim([-0.01, 1.01])\n",
    "    plt.ylabel('Sensitivity:True Positive Rate')\n",
    "    plt.xlabel('1-Specificity:False Positive Rate');"
   ]
  },
  {
   "cell_type": "code",
   "execution_count": 95,
   "metadata": {},
   "outputs": [
    {
     "data": {
      "image/png": "[encoded data removed]",
      "text/plain": [
       "<Figure size 504x360 with 1 Axes>"
      ]
     },
     "metadata": {
      "needs_background": "light"
     },
     "output_type": "display_data"
    }
   ],
   "source": [
    "# Plot the ROC curve\n",
    "plot_roc(model = log_cvec_3_pipe, \n",
    "         X = X_test['Combined_new'],\n",
    "         actual_y = y_test,\n",
    "         title = \"Logisitic with 3-gram Cvec\")"
   ]
  },
  {
   "cell_type": "code",
   "execution_count": 96,
   "metadata": {},
   "outputs": [],
   "source": [
    "# confusion matrix\n",
    "tn, fp, fn, tp = confusion_matrix(y_test, log_cvec_3_pipe.predict(X_test['Combined_new'])).ravel()"
   ]
  },
  {
   "cell_type": "code",
   "execution_count": 97,
   "metadata": {},
   "outputs": [
    {
     "data": {
      "text/plain": [
       "1    0.927136\n",
       "0    0.072864\n",
       "dtype: float64"
      ]
     },
     "execution_count": 97,
     "metadata": {},
     "output_type": "execute_result"
    }
   ],
   "source": [
    "pd.Series(log_cvec_3_pipe.predict(X_test['Combined_new'])).value_counts(normalize=True)"
   ]
  },
  {
   "cell_type": "code",
   "execution_count": 98,
   "metadata": {},
   "outputs": [
    {
     "data": {
      "text/plain": [
       "1    0.507538\n",
       "0    0.492462\n",
       "Name: Label, dtype: float64"
      ]
     },
     "execution_count": 98,
     "metadata": {},
     "output_type": "execute_result"
    }
   ],
   "source": [
    "y_test.value_counts(normalize=True)"
   ]
  },
  {
   "cell_type": "code",
   "execution_count": 99,
   "metadata": {},
   "outputs": [
    {
     "name": "stdout",
     "output_type": "stream",
     "text": [
      "True Negatives: 16\n",
      "False Positives: 180\n",
      "False Negatives: 13\n",
      "True Positives: 189\n"
     ]
    }
   ],
   "source": [
    "print(\"True Negatives: %s\" % tn)\n",
    "print(\"False Positives: %s\" % fp)\n",
    "print(\"False Negatives: %s\" % fn)\n",
    "print(\"True Positives: %s\" % tp)"
   ]
  },
  {
   "cell_type": "code",
   "execution_count": 100,
   "metadata": {},
   "outputs": [],
   "source": [
    "# Let's create a dataframe called pred_df that contains:\n",
    "# 1. The list of true values of our test set.\n",
    "# 2. The list of predicted probabilities based on our model.\n",
    "\n",
    "# only keen on positive outcome so use only positive column\n",
    "pred_proba = [i[1] for i in log_cvec_3_pipe.predict_proba(X_test['Combined_new'])]\n",
    "\n",
    "pred_df = pd.DataFrame({'true_values': y_test,\n",
    "                        'pred_probs':pred_proba})"
   ]
  },
  {
   "cell_type": "code",
   "execution_count": 101,
   "metadata": {},
   "outputs": [
    {
     "data": {
      "image/png": "[encoded data removed]",
      "text/plain": [
       "<Figure size 720x504 with 1 Axes>"
      ]
     },
     "metadata": {
      "needs_background": "light"
     },
     "output_type": "display_data"
    }
   ],
   "source": [
    "# Create figure.\n",
    "plt.figure(figsize = (10,7))\n",
    "\n",
    "# Create two histograms of observations.\n",
    "plt.hist(pred_df[pred_df['true_values'] == 0]['pred_probs'],\n",
    "         bins=25,\n",
    "         color='b',\n",
    "         alpha = 0.6,\n",
    "         label='Outcome = 0')\n",
    "plt.hist(pred_df[pred_df['true_values'] == 1]['pred_probs'],\n",
    "         bins=25,\n",
    "         color='orange',\n",
    "         alpha = 0.6,\n",
    "         label='Outcome = 1')\n",
    "\n",
    "# Label axes.\n",
    "plt.title('Distribution of P(Outcome = 1)', fontsize=22)\n",
    "plt.ylabel('Frequency', fontsize=18)\n",
    "plt.xlabel('Predicted Probability that Outcome = 1', fontsize=18)\n",
    "\n",
    "# Create legend.\n",
    "plt.legend(fontsize=20);"
   ]
  },
  {
   "cell_type": "markdown",
   "metadata": {},
   "source": [
    "# Conclusion"
   ]
  },
  {
   "cell_type": "markdown",
   "metadata": {},
   "source": [
    "Using top 25 world news title from reddit alone may not be a sufficient corpus to train a good model for predicting whether price will go up or down for DJIA. The test score is worse than the baseline model(score:0.5424) despite running a few models and vectorizers. The best model, though below baseline model, was using 3 ngram CountVectorizer with Logisitic Regression with validation accuracy score of 0.5150. Best training Accuracy score during GridSearch was 0.6253. However, cross validation mean score is 0.5153. Overall there is still underfit since validation score is not better than baseline and training score.\n",
    "\n",
    "Sentimental Analysis using TextBlob was then used to give sentiment scores to the news to model instead of relying on just vectorizing tools from Natural Language Processing. However, the score was still poor below baseline model. Looking into the sentimental score EDA suggest many were give neutral sentiment of score 0, unable to facilitate in modeling.\n",
    "\n",
    "Though the classification model was not successful, a glimpse into the EDA suggests that everyday news might have little to contribute to the DJIA pricing movement. Hence, this project concludes that watching daily everyday news alone might not be sufficient to decide whether prices are trending upwards or downwards at any given day. Thus, more precaution and work have to be done while trading in stock market. One should not simply trade based on watching daily world news.\n",
    "\n",
    "\"There is nothing wrong with a 'know nothing' investor who realizes it. The problem is when you are a 'know nothing' investor but you think you know something.\" --Warren Buffett"
   ]
  },
  {
   "cell_type": "markdown",
   "metadata": {},
   "source": [
    "# Limitations and Recommendation"
   ]
  },
  {
   "cell_type": "markdown",
   "metadata": {},
   "source": [
    "- Taking a larger corpus such as full news articles instead of titles, longer period of time, more sources\n",
    "- Adapting 'syuzhet' R package to give a wide range of emotions in addition to sentiments to feed into modeling: eight emotions (anger, fear, anticipation, trust, surprise, sadness, joy, and disgust) and two sentiments (negative and positive)\n",
    "- Using S&P500 or other larger index comprises of more stocks which may give better prediction result since it may be more representative to the price movement of investors reaction to news"
   ]
  }
 ],
 "metadata": {
  "kernelspec": {
   "display_name": "Python 3",
   "language": "python",
   "name": "python3"
  },
  "language_info": {
   "codemirror_mode": {
    "name": "ipython",
    "version": 3
   },
   "file_extension": ".py",
   "mimetype": "text/x-python",
   "name": "python",
   "nbconvert_exporter": "python",
   "pygments_lexer": "ipython3",
   "version": "3.7.6"
  }
 },
 "nbformat": 4,
 "nbformat_minor": 4
}
