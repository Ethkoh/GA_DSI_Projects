{
 "cells": [
  {
   "cell_type": "markdown",
   "metadata": {
    "colab_type": "text",
    "id": "BDTpqmwzMtU_"
   },
   "source": [
    "# Project 4: West Nile Virus Prediction\n",
    "\n",
    "## Modeling\n",
    "   ---\n",
    "  *By Ethan Koh,\n",
    "      Grace Chia,\n",
    "      Jocelyn Pok,\n",
    "      Randy Neo,                    5 June 2020*"
   ]
  },
  {
   "cell_type": "markdown",
   "metadata": {
    "colab_type": "text",
    "id": "NPvGq6lCQgxQ"
   },
   "source": [
    "# Background"
   ]
  },
  {
   "cell_type": "markdown",
   "metadata": {
    "colab_type": "text",
    "id": "f04O_f4vQjv3"
   },
   "source": [
    "West Nile Virus <sup>1</sup> (WNV) is usually spread to humans through infected mosquitos. Around 20% of individuals who become infected with the virus develop symptoms ranging from a persistent fever, to serious neurological illnesses that can result in death.<br/>\n",
    "\n",
    "In 2002, Chicago recorded it's first human incident of West Nile virus. By 2004 the City of Chicago and the Chicago Department of Public Health (CDPH) had built a comprehensive surveillance and control program that is still in effect today.<br/>\n",
    "\n",
    "Every week from late spring through the fall, mosquitos in traps across the city are tested for the virus. The results of these tests influence when and where the city will spray ariel pesticides to reduce adult mosquito populations. Every week from Monday through Wednesday, these traps collect mosquitos, and the mosquitos are tested for the presence of West Nile virus before the week ends. The test results include the number of mosquitos, the mosquitos species, and whether West Nile virus is present in the cohort.\n",
    "\n",
    "This project is from: https://www.kaggle.com/c/predict-west-nile-virus/overview."
   ]
  },
  {
   "cell_type": "markdown",
   "metadata": {
    "colab_type": "text",
    "id": "inoW__jMKksy"
   },
   "source": [
    "\n",
    "# Problem Statement\n",
    "Due to a recent outbreak of the West Nile Virus in the city of Chicago, the Data Science team at the Disease and Treatment Agency has been tasked by the\n",
    "Centers for Disease Control (CDC) to develop a strategy to deploy the effective use of pesticides. Targeting spraying efforts to areas of high risk will help to mitigate future outbreaks.<br/>\n",
    "\n",
    "Leveraging on weather, location, mosquito population and spraying data, we will build a binary classification model that predicts the presence of the West Nile Virus in the city of Chicago. The model that achieves the highest ROC AUC score on the validation set, will be selected as our production model. The model is also expected to outperform the baseline ROC AUC score of 0.5. A cost-benefit analysis will also be done to determine if the benefits of spraying outweighs its costs."
   ]
  },
  {
   "cell_type": "markdown",
   "metadata": {
    "colab_type": "text",
    "id": "zeuw_eyGQI8g"
   },
   "source": [
    "# Executive Summary"
   ]
  },
  {
   "cell_type": "markdown",
   "metadata": {
    "colab_type": "text",
    "id": "derCGNR8kmF_"
   },
   "source": [
    "Out of all the classification models built, XGBoost was selected as it achieved the highest ROC AUC score on the validation set. The model attained an ROC AUC of 0.83 on the validation set, outperforming the baseline score of 0.5. As observed from the model's feature importance, it turns out that seasonality plays a very key role in mosquito breeding and the spread of WNV, with 'month' being the most important predictor. Besides other sesonality features like 'week' and 'day', 14-day rolling weather conditions like wetbulb, dewpoint and temperature are also key in predicting the presence of WNV in the City of Chicago. The model received a 0.76 ROC AUC score on Kaggle.<br/>\n",
    "\n",
    "Based on the cost benefit analysis, spraying at areas with more than 12 WNV cases overweighs the cost of the spray, suggesting that spraying at those areas is the most cost effective solution. In addition, reduction in cost of 1 WNV case overweights the spraying of of 10km² area.<br/>\n",
    "\n",
    "As the model performs relatively well on unseen data, the Disease and Treatment Agency will now be able deploy pesticide-spraying efforts to areas of high risk. An efficient allocation of resources will help help to clamp down on the WNV outbreak, reducing residents' exposure to the virus. \n",
    "\n",
    "\n"
   ]
  },
  {
   "cell_type": "markdown",
   "metadata": {
    "colab_type": "text",
    "id": "Mj--ehH4nD4s"
   },
   "source": [
    "# Contents"
   ]
  },
  {
   "cell_type": "markdown",
   "metadata": {
    "colab_type": "text",
    "id": "xUihwM3sD6nh"
   },
   "source": [
    "- [Import Libraries](#Import-Libraries)\n",
    "- [Load Data](#Load-Data)\n",
    "- [Modelling](#Modelling)\n",
    "- [Model Evaluation](#Model-Evaluation)\n",
    "- [Cost Benefit Analysis](#Cost-Benefit-Analysis)\n",
    "- [Conclusion and Recommendations](#Conclusion-and-Recommendations)"
   ]
  },
  {
   "cell_type": "markdown",
   "metadata": {
    "colab_type": "text",
    "id": "RRXCKpKtCnCc"
   },
   "source": [
    "# Import Libraries"
   ]
  },
  {
   "cell_type": "code",
   "execution_count": 1,
   "metadata": {
    "colab": {
     "base_uri": "https://localhost:8080/",
     "height": 173
    },
    "colab_type": "code",
    "id": "WD4kc8bMCmt5",
    "outputId": "58cceee9-17da-4fcc-a8cf-1bdb73defe4e"
   },
   "outputs": [],
   "source": [
    "import numpy as np\n",
    "import pandas as pd\n",
    "import seaborn as sns\n",
    "import matplotlib.pyplot as plt\n",
    "\n",
    "from sklearn.cluster import DBSCAN\n",
    "from sklearn.model_selection import train_test_split, cross_val_score, GridSearchCV\n",
    "from imblearn.over_sampling import SMOTE\n",
    "from imblearn.pipeline import Pipeline, make_pipeline\n",
    "from sklearn.ensemble import RandomForestClassifier, ExtraTreesClassifier\n",
    "from sklearn.tree import DecisionTreeClassifier\n",
    "from sklearn.ensemble import GradientBoostingClassifier, AdaBoostClassifier, BaggingClassifier\n",
    "from sklearn.linear_model import LogisticRegression, SGDClassifier\n",
    "from xgboost import XGBClassifier\n",
    "from sklearn.metrics import roc_curve, roc_auc_score, auc, classification_report, accuracy_score, confusion_matrix\n",
    "from sklearn.preprocessing import StandardScaler\n",
    "\n",
    "import plotly.express as px # conda install -c plotly plotly\n",
    "import geopy.distance # Install geopy using 'conda install -c conda-forge geopy'\n",
    "# from statsmodels.graphics.tsaplots import plot_acf, plot_pacf\n",
    "\n",
    "pd.set_option('max_columns', None)\n",
    "pd.set_option('max_rows', None)\n",
    "\n",
    "%matplotlib inline"
   ]
  },
  {
   "cell_type": "markdown",
   "metadata": {
    "colab_type": "text",
    "id": "akVrGM0JCyKz"
   },
   "source": [
    "# Load Data"
   ]
  },
  {
   "cell_type": "code",
   "execution_count": 2,
   "metadata": {
    "colab": {},
    "colab_type": "code",
    "id": "xXwGaZb8Cxyc"
   },
   "outputs": [],
   "source": [
    "# Read in clean training set\n",
    "df = pd.read_csv('../data/clean_train_weather.csv')"
   ]
  },
  {
   "cell_type": "code",
   "execution_count": 3,
   "metadata": {
    "colab": {
     "base_uri": "https://localhost:8080/",
     "height": 34
    },
    "colab_type": "code",
    "id": "_1vJT4gFCuLA",
    "outputId": "4f166b46-e80e-47a0-ad66-4631fd7dc8a7"
   },
   "outputs": [
    {
     "data": {
      "text/plain": [
       "(10506, 30)"
      ]
     },
     "execution_count": 3,
     "metadata": {},
     "output_type": "execute_result"
    }
   ],
   "source": [
    "# Check shape of training set\n",
    "df.shape"
   ]
  },
  {
   "cell_type": "code",
   "execution_count": 4,
   "metadata": {
    "colab": {
     "base_uri": "https://localhost:8080/",
     "height": 224
    },
    "colab_type": "code",
    "id": "cPS6i2XRCsT7",
    "outputId": "7dcac13a-4a0b-4351-82d9-13cc0d7ae3cd"
   },
   "outputs": [
    {
     "data": {
      "text/html": [
       "<div>\n",
       "<style scoped>\n",
       "    .dataframe tbody tr th:only-of-type {\n",
       "        vertical-align: middle;\n",
       "    }\n",
       "\n",
       "    .dataframe tbody tr th {\n",
       "        vertical-align: top;\n",
       "    }\n",
       "\n",
       "    .dataframe thead th {\n",
       "        text-align: right;\n",
       "    }\n",
       "</style>\n",
       "<table border=\"1\" class=\"dataframe\">\n",
       "  <thead>\n",
       "    <tr style=\"text-align: right;\">\n",
       "      <th></th>\n",
       "      <th>latitude</th>\n",
       "      <th>longitude</th>\n",
       "      <th>wnvpresent</th>\n",
       "      <th>day</th>\n",
       "      <th>week</th>\n",
       "      <th>month</th>\n",
       "      <th>year</th>\n",
       "      <th>heavy_rain_last_14_days_count</th>\n",
       "      <th>light_rain_last_14_days_count</th>\n",
       "      <th>tmax_rolling_14</th>\n",
       "      <th>tmin_rolling_14</th>\n",
       "      <th>tavg_rolling_14</th>\n",
       "      <th>depart_rolling_14</th>\n",
       "      <th>dewpoint_rolling_14</th>\n",
       "      <th>wetbulb_rolling_14</th>\n",
       "      <th>heat_rolling_14</th>\n",
       "      <th>cool_rolling_14</th>\n",
       "      <th>preciptotal_rolling_14</th>\n",
       "      <th>stnpressure_rolling_14</th>\n",
       "      <th>sealevel_rolling_14</th>\n",
       "      <th>resultspeed_rolling_14</th>\n",
       "      <th>resultdir_rolling_14</th>\n",
       "      <th>avgspeed_rolling_14</th>\n",
       "      <th>day_length_rolling_14</th>\n",
       "      <th>spray_cluster</th>\n",
       "      <th>dist_from_ohare</th>\n",
       "      <th>dist_from_doty</th>\n",
       "      <th>species_culex_pipiens</th>\n",
       "      <th>species_culex_pipiens/restuans</th>\n",
       "      <th>species_culex_restuans</th>\n",
       "    </tr>\n",
       "  </thead>\n",
       "  <tbody>\n",
       "    <tr>\n",
       "      <th>0</th>\n",
       "      <td>41.954690</td>\n",
       "      <td>-87.800991</td>\n",
       "      <td>0</td>\n",
       "      <td>149</td>\n",
       "      <td>22</td>\n",
       "      <td>5</td>\n",
       "      <td>2007</td>\n",
       "      <td>2.0</td>\n",
       "      <td>2.0</td>\n",
       "      <td>76.357143</td>\n",
       "      <td>51.571429</td>\n",
       "      <td>64.142857</td>\n",
       "      <td>2.928571</td>\n",
       "      <td>45.285714</td>\n",
       "      <td>54.142857</td>\n",
       "      <td>3.714286</td>\n",
       "      <td>2.857143</td>\n",
       "      <td>0.092143</td>\n",
       "      <td>29.402143</td>\n",
       "      <td>30.124286</td>\n",
       "      <td>8.214286</td>\n",
       "      <td>16.928571</td>\n",
       "      <td>9.85</td>\n",
       "      <td>1486.071429</td>\n",
       "      <td>1</td>\n",
       "      <td>7.754490</td>\n",
       "      <td>35.430907</td>\n",
       "      <td>0</td>\n",
       "      <td>1</td>\n",
       "      <td>0</td>\n",
       "    </tr>\n",
       "    <tr>\n",
       "      <th>1</th>\n",
       "      <td>41.954690</td>\n",
       "      <td>-87.800991</td>\n",
       "      <td>0</td>\n",
       "      <td>149</td>\n",
       "      <td>22</td>\n",
       "      <td>5</td>\n",
       "      <td>2007</td>\n",
       "      <td>2.0</td>\n",
       "      <td>2.0</td>\n",
       "      <td>76.357143</td>\n",
       "      <td>51.571429</td>\n",
       "      <td>64.142857</td>\n",
       "      <td>2.928571</td>\n",
       "      <td>45.285714</td>\n",
       "      <td>54.142857</td>\n",
       "      <td>3.714286</td>\n",
       "      <td>2.857143</td>\n",
       "      <td>0.092143</td>\n",
       "      <td>29.402143</td>\n",
       "      <td>30.124286</td>\n",
       "      <td>8.214286</td>\n",
       "      <td>16.928571</td>\n",
       "      <td>9.85</td>\n",
       "      <td>1486.071429</td>\n",
       "      <td>1</td>\n",
       "      <td>7.754490</td>\n",
       "      <td>35.430907</td>\n",
       "      <td>0</td>\n",
       "      <td>0</td>\n",
       "      <td>1</td>\n",
       "    </tr>\n",
       "    <tr>\n",
       "      <th>2</th>\n",
       "      <td>41.994991</td>\n",
       "      <td>-87.769279</td>\n",
       "      <td>0</td>\n",
       "      <td>149</td>\n",
       "      <td>22</td>\n",
       "      <td>5</td>\n",
       "      <td>2007</td>\n",
       "      <td>2.0</td>\n",
       "      <td>2.0</td>\n",
       "      <td>76.357143</td>\n",
       "      <td>51.571429</td>\n",
       "      <td>64.142857</td>\n",
       "      <td>2.928571</td>\n",
       "      <td>45.285714</td>\n",
       "      <td>54.142857</td>\n",
       "      <td>3.714286</td>\n",
       "      <td>2.857143</td>\n",
       "      <td>0.092143</td>\n",
       "      <td>29.402143</td>\n",
       "      <td>30.124286</td>\n",
       "      <td>8.214286</td>\n",
       "      <td>16.928571</td>\n",
       "      <td>9.85</td>\n",
       "      <td>1486.071429</td>\n",
       "      <td>1</td>\n",
       "      <td>10.304920</td>\n",
       "      <td>38.390522</td>\n",
       "      <td>0</td>\n",
       "      <td>0</td>\n",
       "      <td>1</td>\n",
       "    </tr>\n",
       "    <tr>\n",
       "      <th>3</th>\n",
       "      <td>41.974089</td>\n",
       "      <td>-87.824812</td>\n",
       "      <td>0</td>\n",
       "      <td>149</td>\n",
       "      <td>22</td>\n",
       "      <td>5</td>\n",
       "      <td>2007</td>\n",
       "      <td>2.0</td>\n",
       "      <td>2.0</td>\n",
       "      <td>76.357143</td>\n",
       "      <td>51.571429</td>\n",
       "      <td>64.142857</td>\n",
       "      <td>2.928571</td>\n",
       "      <td>45.285714</td>\n",
       "      <td>54.142857</td>\n",
       "      <td>3.714286</td>\n",
       "      <td>2.857143</td>\n",
       "      <td>0.092143</td>\n",
       "      <td>29.402143</td>\n",
       "      <td>30.124286</td>\n",
       "      <td>8.214286</td>\n",
       "      <td>16.928571</td>\n",
       "      <td>9.85</td>\n",
       "      <td>1486.071429</td>\n",
       "      <td>1</td>\n",
       "      <td>5.454421</td>\n",
       "      <td>38.270018</td>\n",
       "      <td>0</td>\n",
       "      <td>1</td>\n",
       "      <td>0</td>\n",
       "    </tr>\n",
       "    <tr>\n",
       "      <th>4</th>\n",
       "      <td>41.974089</td>\n",
       "      <td>-87.824812</td>\n",
       "      <td>0</td>\n",
       "      <td>149</td>\n",
       "      <td>22</td>\n",
       "      <td>5</td>\n",
       "      <td>2007</td>\n",
       "      <td>2.0</td>\n",
       "      <td>2.0</td>\n",
       "      <td>76.357143</td>\n",
       "      <td>51.571429</td>\n",
       "      <td>64.142857</td>\n",
       "      <td>2.928571</td>\n",
       "      <td>45.285714</td>\n",
       "      <td>54.142857</td>\n",
       "      <td>3.714286</td>\n",
       "      <td>2.857143</td>\n",
       "      <td>0.092143</td>\n",
       "      <td>29.402143</td>\n",
       "      <td>30.124286</td>\n",
       "      <td>8.214286</td>\n",
       "      <td>16.928571</td>\n",
       "      <td>9.85</td>\n",
       "      <td>1486.071429</td>\n",
       "      <td>1</td>\n",
       "      <td>5.454421</td>\n",
       "      <td>38.270018</td>\n",
       "      <td>0</td>\n",
       "      <td>0</td>\n",
       "      <td>1</td>\n",
       "    </tr>\n",
       "  </tbody>\n",
       "</table>\n",
       "</div>"
      ],
      "text/plain": [
       "    latitude  longitude  wnvpresent  day  week  month  year  \\\n",
       "0  41.954690 -87.800991           0  149    22      5  2007   \n",
       "1  41.954690 -87.800991           0  149    22      5  2007   \n",
       "2  41.994991 -87.769279           0  149    22      5  2007   \n",
       "3  41.974089 -87.824812           0  149    22      5  2007   \n",
       "4  41.974089 -87.824812           0  149    22      5  2007   \n",
       "\n",
       "   heavy_rain_last_14_days_count  light_rain_last_14_days_count  \\\n",
       "0                            2.0                            2.0   \n",
       "1                            2.0                            2.0   \n",
       "2                            2.0                            2.0   \n",
       "3                            2.0                            2.0   \n",
       "4                            2.0                            2.0   \n",
       "\n",
       "   tmax_rolling_14  tmin_rolling_14  tavg_rolling_14  depart_rolling_14  \\\n",
       "0        76.357143        51.571429        64.142857           2.928571   \n",
       "1        76.357143        51.571429        64.142857           2.928571   \n",
       "2        76.357143        51.571429        64.142857           2.928571   \n",
       "3        76.357143        51.571429        64.142857           2.928571   \n",
       "4        76.357143        51.571429        64.142857           2.928571   \n",
       "\n",
       "   dewpoint_rolling_14  wetbulb_rolling_14  heat_rolling_14  cool_rolling_14  \\\n",
       "0            45.285714           54.142857         3.714286         2.857143   \n",
       "1            45.285714           54.142857         3.714286         2.857143   \n",
       "2            45.285714           54.142857         3.714286         2.857143   \n",
       "3            45.285714           54.142857         3.714286         2.857143   \n",
       "4            45.285714           54.142857         3.714286         2.857143   \n",
       "\n",
       "   preciptotal_rolling_14  stnpressure_rolling_14  sealevel_rolling_14  \\\n",
       "0                0.092143               29.402143            30.124286   \n",
       "1                0.092143               29.402143            30.124286   \n",
       "2                0.092143               29.402143            30.124286   \n",
       "3                0.092143               29.402143            30.124286   \n",
       "4                0.092143               29.402143            30.124286   \n",
       "\n",
       "   resultspeed_rolling_14  resultdir_rolling_14  avgspeed_rolling_14  \\\n",
       "0                8.214286             16.928571                 9.85   \n",
       "1                8.214286             16.928571                 9.85   \n",
       "2                8.214286             16.928571                 9.85   \n",
       "3                8.214286             16.928571                 9.85   \n",
       "4                8.214286             16.928571                 9.85   \n",
       "\n",
       "   day_length_rolling_14  spray_cluster  dist_from_ohare  dist_from_doty  \\\n",
       "0            1486.071429              1         7.754490       35.430907   \n",
       "1            1486.071429              1         7.754490       35.430907   \n",
       "2            1486.071429              1        10.304920       38.390522   \n",
       "3            1486.071429              1         5.454421       38.270018   \n",
       "4            1486.071429              1         5.454421       38.270018   \n",
       "\n",
       "   species_culex_pipiens  species_culex_pipiens/restuans  \\\n",
       "0                      0                               1   \n",
       "1                      0                               0   \n",
       "2                      0                               0   \n",
       "3                      0                               1   \n",
       "4                      0                               0   \n",
       "\n",
       "   species_culex_restuans  \n",
       "0                       0  \n",
       "1                       1  \n",
       "2                       1  \n",
       "3                       0  \n",
       "4                       1  "
      ]
     },
     "execution_count": 4,
     "metadata": {},
     "output_type": "execute_result"
    }
   ],
   "source": [
    "# View first 5 rows of df\n",
    "df.head()"
   ]
  },
  {
   "cell_type": "code",
   "execution_count": 5,
   "metadata": {
    "colab": {
     "base_uri": "https://localhost:8080/",
     "height": 646
    },
    "colab_type": "code",
    "id": "qVXf0nqOCh5d",
    "outputId": "aee42696-0e5c-430b-d025-0b9bba7ec843"
   },
   "outputs": [
    {
     "name": "stdout",
     "output_type": "stream",
     "text": [
      "<class 'pandas.core.frame.DataFrame'>\n",
      "RangeIndex: 10506 entries, 0 to 10505\n",
      "Data columns (total 30 columns):\n",
      " #   Column                          Non-Null Count  Dtype  \n",
      "---  ------                          --------------  -----  \n",
      " 0   latitude                        10506 non-null  float64\n",
      " 1   longitude                       10506 non-null  float64\n",
      " 2   wnvpresent                      10506 non-null  int64  \n",
      " 3   day                             10506 non-null  int64  \n",
      " 4   week                            10506 non-null  int64  \n",
      " 5   month                           10506 non-null  int64  \n",
      " 6   year                            10506 non-null  int64  \n",
      " 7   heavy_rain_last_14_days_count   10506 non-null  float64\n",
      " 8   light_rain_last_14_days_count   10506 non-null  float64\n",
      " 9   tmax_rolling_14                 10506 non-null  float64\n",
      " 10  tmin_rolling_14                 10506 non-null  float64\n",
      " 11  tavg_rolling_14                 10506 non-null  float64\n",
      " 12  depart_rolling_14               10506 non-null  float64\n",
      " 13  dewpoint_rolling_14             10506 non-null  float64\n",
      " 14  wetbulb_rolling_14              10506 non-null  float64\n",
      " 15  heat_rolling_14                 10506 non-null  float64\n",
      " 16  cool_rolling_14                 10506 non-null  float64\n",
      " 17  preciptotal_rolling_14          10506 non-null  float64\n",
      " 18  stnpressure_rolling_14          10506 non-null  float64\n",
      " 19  sealevel_rolling_14             10506 non-null  float64\n",
      " 20  resultspeed_rolling_14          10506 non-null  float64\n",
      " 21  resultdir_rolling_14            10506 non-null  float64\n",
      " 22  avgspeed_rolling_14             10506 non-null  float64\n",
      " 23  day_length_rolling_14           10506 non-null  float64\n",
      " 24  spray_cluster                   10506 non-null  int64  \n",
      " 25  dist_from_ohare                 10506 non-null  float64\n",
      " 26  dist_from_doty                  10506 non-null  float64\n",
      " 27  species_culex_pipiens           10506 non-null  int64  \n",
      " 28  species_culex_pipiens/restuans  10506 non-null  int64  \n",
      " 29  species_culex_restuans          10506 non-null  int64  \n",
      "dtypes: float64(21), int64(9)\n",
      "memory usage: 2.4 MB\n"
     ]
    }
   ],
   "source": [
    "# Check that all variables are float/int type\n",
    "df.info()"
   ]
  },
  {
   "cell_type": "code",
   "execution_count": 6,
   "metadata": {
    "colab": {
     "base_uri": "https://localhost:8080/",
     "height": 34
    },
    "colab_type": "code",
    "id": "oglqK-xICR1O",
    "outputId": "abe117e9-ae21-4ca7-dc8d-17672072f4a2"
   },
   "outputs": [
    {
     "data": {
      "text/plain": [
       "0"
      ]
     },
     "execution_count": 6,
     "metadata": {},
     "output_type": "execute_result"
    }
   ],
   "source": [
    "# No null values\n",
    "df.isnull().sum().sum()"
   ]
  },
  {
   "cell_type": "markdown",
   "metadata": {
    "colab_type": "text",
    "id": "bPfjDSIf6xWk"
   },
   "source": [
    "# Modelling"
   ]
  },
  {
   "cell_type": "code",
   "execution_count": 7,
   "metadata": {
    "colab": {},
    "colab_type": "code",
    "id": "CmT5lodfD-XP"
   },
   "outputs": [],
   "source": [
    "# Assign features to X and target variable to y\n",
    "X = df[[col for col in df.columns if col != 'wnvpresent']]\n",
    "y = df['wnvpresent']"
   ]
  },
  {
   "cell_type": "code",
   "execution_count": 8,
   "metadata": {
    "colab": {},
    "colab_type": "code",
    "id": "XosqSvAFEEkJ"
   },
   "outputs": [],
   "source": [
    "# Perform a train_test_split to create a train and validation set\n",
    "X_train, X_val, y_train, y_val = train_test_split(X, y, test_size=0.2, random_state=42, stratify=y)"
   ]
  },
  {
   "cell_type": "code",
   "execution_count": 9,
   "metadata": {
    "colab": {
     "base_uri": "https://localhost:8080/",
     "height": 34
    },
    "colab_type": "code",
    "id": "JNpk5H2HEIEJ",
    "outputId": "a7aca315-be03-45f6-b94e-4691c4a29698"
   },
   "outputs": [
    {
     "data": {
      "text/plain": [
       "(8404, 29)"
      ]
     },
     "execution_count": 9,
     "metadata": {},
     "output_type": "execute_result"
    }
   ],
   "source": [
    "# Check X_train shape\n",
    "X_train.shape"
   ]
  },
  {
   "cell_type": "code",
   "execution_count": 10,
   "metadata": {
    "colab": {
     "base_uri": "https://localhost:8080/",
     "height": 34
    },
    "colab_type": "code",
    "id": "ZLkDGg2WEJMJ",
    "outputId": "e0be804e-9d1c-4015-86cb-85812f6c9521"
   },
   "outputs": [
    {
     "data": {
      "text/plain": [
       "(8404,)"
      ]
     },
     "execution_count": 10,
     "metadata": {},
     "output_type": "execute_result"
    }
   ],
   "source": [
    "# Check y_train shape\n",
    "y_train.shape"
   ]
  },
  {
   "cell_type": "code",
   "execution_count": 11,
   "metadata": {
    "colab": {
     "base_uri": "https://localhost:8080/",
     "height": 34
    },
    "colab_type": "code",
    "id": "C5fUHxU5EKZO",
    "outputId": "6f6783ce-4569-4817-8a0c-2b09ed677409"
   },
   "outputs": [
    {
     "data": {
      "text/plain": [
       "(2102, 29)"
      ]
     },
     "execution_count": 11,
     "metadata": {},
     "output_type": "execute_result"
    }
   ],
   "source": [
    "# Check X_val shape\n",
    "X_val.shape"
   ]
  },
  {
   "cell_type": "code",
   "execution_count": 12,
   "metadata": {
    "colab": {
     "base_uri": "https://localhost:8080/",
     "height": 34
    },
    "colab_type": "code",
    "id": "ZCABdiruELjZ",
    "outputId": "df32b213-ab66-4589-f37f-de767bccc2c0"
   },
   "outputs": [
    {
     "data": {
      "text/plain": [
       "(2102,)"
      ]
     },
     "execution_count": 12,
     "metadata": {},
     "output_type": "execute_result"
    }
   ],
   "source": [
    "# Check y_val shape\n",
    "y_val.shape"
   ]
  },
  {
   "cell_type": "markdown",
   "metadata": {
    "colab_type": "text",
    "id": "Nu7nbFvlESvw"
   },
   "source": [
    "Stratification ensured that our train_test_split method returns training and validation sets that have the same proportion of class labels as the input dataset."
   ]
  },
  {
   "cell_type": "code",
   "execution_count": 13,
   "metadata": {
    "colab": {
     "base_uri": "https://localhost:8080/",
     "height": 68
    },
    "colab_type": "code",
    "id": "q3WjZUivEO4W",
    "outputId": "a8d42900-5d9b-469d-c183-35bf31a4951a"
   },
   "outputs": [
    {
     "data": {
      "text/plain": [
       "0    0.947525\n",
       "1    0.052475\n",
       "Name: wnvpresent, dtype: float64"
      ]
     },
     "execution_count": 13,
     "metadata": {},
     "output_type": "execute_result"
    }
   ],
   "source": [
    "# Check split in class labels for y_train\n",
    "y_train.value_counts(normalize=True)"
   ]
  },
  {
   "cell_type": "code",
   "execution_count": 14,
   "metadata": {
    "colab": {
     "base_uri": "https://localhost:8080/",
     "height": 68
    },
    "colab_type": "code",
    "id": "yyBXUMY_EQZ7",
    "outputId": "71c2f238-2cd7-46b6-face-5a5fda088f9b"
   },
   "outputs": [
    {
     "data": {
      "text/plain": [
       "0    0.947669\n",
       "1    0.052331\n",
       "Name: wnvpresent, dtype: float64"
      ]
     },
     "execution_count": 14,
     "metadata": {},
     "output_type": "execute_result"
    }
   ],
   "source": [
    "# Check split in class labels for y_val\n",
    "y_val.value_counts(normalize=True)"
   ]
  },
  {
   "cell_type": "markdown",
   "metadata": {
    "colab_type": "text",
    "id": "7kydae_ZGKBx"
   },
   "source": [
    "## Baseline Score"
   ]
  },
  {
   "cell_type": "markdown",
   "metadata": {
    "colab_type": "text",
    "id": "QuxOF4k4StiG"
   },
   "source": [
    "The **baseline score will be an ROC AUC score of 0.5**, meaning that the baseline model has no class separation capacity. As such, our classification model chosen to predict the presence of the WNV, has to be higher than the baseline score. Out of all the 7 models that we will run, the model that achieves the highest ROC AUC score on the validation set, will be selected as our production model."
   ]
  },
  {
   "cell_type": "markdown",
   "metadata": {
    "colab_type": "text",
    "id": "ieAkrjIqEcVf"
   },
   "source": [
    "## Handling Imbalanced Classes"
   ]
  },
  {
   "cell_type": "markdown",
   "metadata": {
    "colab_type": "text",
    "id": "pvGlk-r-EIt9"
   },
   "source": [
    "As our dataset is highly imbalanced, we will use SMOTE to synthesize elements from the minority class. SMOTE will randomly pick a point from the minority class and compute the k of the nearest neighbours for the point. These synthetic points are added between the chosen points and its neighbours."
   ]
  },
  {
   "cell_type": "code",
   "execution_count": 15,
   "metadata": {
    "colab": {},
    "colab_type": "code",
    "id": "fZsP3vAxEeyw"
   },
   "outputs": [],
   "source": [
    "# Define function for plot\n",
    "def plot_2d_space(X, y, label='Classes'):   \n",
    "    colors = ['#1F77B4', '#FF7F0E']\n",
    "    markers = ['o', 's']\n",
    "    for l, c, m in zip(np.unique(y), colors, markers):\n",
    "      plt.scatter(\n",
    "            X[y==l, 0],\n",
    "            X[y==l, 1],\n",
    "            alpha = 0.6,\n",
    "            c=c, label=l, marker=m\n",
    "        )\n",
    "    plt.title(label)\n",
    "    leg = plt.legend(loc='upper right')\n",
    "    for lh in leg.legendHandles: \n",
    "        lh.set_alpha(1)\n",
    "    plt.show()"
   ]
  },
  {
   "cell_type": "code",
   "execution_count": 16,
   "metadata": {
    "colab": {
     "base_uri": "https://localhost:8080/",
     "height": 281
    },
    "colab_type": "code",
    "id": "yzof00pxHFBj",
    "outputId": "2b898346-d4a8-4439-972f-ca3c4a28c54f"
   },
   "outputs": [
    {
     "data": {
      "image/png": "[encoded data removed]",
      "text/plain": [
       "<Figure size 432x288 with 1 Axes>"
      ]
     },
     "metadata": {
      "needs_background": "light"
     },
     "output_type": "display_data"
    }
   ],
   "source": [
    "from sklearn.decomposition import PCA\n",
    "\n",
    "pca = PCA(n_components=2)\n",
    "X_imbalanced = pca.fit_transform(X)\n",
    "\n",
    "plot_2d_space(X_imbalanced, y, 'Imbalanced dataset')"
   ]
  },
  {
   "cell_type": "code",
   "execution_count": 17,
   "metadata": {
    "colab": {
     "base_uri": "https://localhost:8080/",
     "height": 369
    },
    "colab_type": "code",
    "id": "d31ggx9CM3QY",
    "outputId": "48d2bcd4-71fd-492b-8a42-1e733c3ee82e"
   },
   "outputs": [
    {
     "data": {
      "image/png": "[encoded data removed]",
      "text/plain": [
       "<Figure size 432x288 with 1 Axes>"
      ]
     },
     "metadata": {
      "needs_background": "light"
     },
     "output_type": "display_data"
    }
   ],
   "source": [
    "from imblearn.over_sampling import SMOTE\n",
    "\n",
    "pca = PCA(n_components=2)\n",
    "smote = SMOTE(random_state=42)\n",
    "X_sm, y_sm = smote.fit_sample(X, y)\n",
    "\n",
    "X_balanced = pca.fit_transform(X_sm)\n",
    "\n",
    "plot_2d_space(X_balanced, y_sm, 'SMOTE over-sampling')"
   ]
  },
  {
   "cell_type": "markdown",
   "metadata": {
    "colab_type": "text",
    "id": "NaDvWLvLAg4s"
   },
   "source": [
    "SMOTE will be used on the following models - logistic regression, SGD classifier, bagging classifier, AdaBoost classifier and gradient boosting classifier. We will explore the use of, 'class_weight' and 'scale_pos_weight' for random forest and XGBoost to manage our class imbalances."
   ]
  },
  {
   "cell_type": "markdown",
   "metadata": {
    "colab_type": "text",
    "id": "fWawWZrIElxg"
   },
   "source": [
    "## Logistic Regression"
   ]
  },
  {
   "cell_type": "markdown",
   "metadata": {
    "colab_type": "text",
    "id": "Fo9MTSHoEvGp"
   },
   "source": [
    "Logistic regression is one of the most commonly used methods for binary classification problems. We will apply logistic regression here to predict the probability of WNV presence."
   ]
  },
  {
   "cell_type": "code",
   "execution_count": 18,
   "metadata": {
    "colab": {},
    "colab_type": "code",
    "id": "-nJ12SzNEwse"
   },
   "outputs": [
    {
     "name": "stdout",
     "output_type": "stream",
     "text": [
      "Best parameters:  {'logisticregression__C': 0.001, 'logisticregression__max_iter': 1000, 'logisticregression__penalty': 'l2'}\n",
      "Best CV ROC AUC score:  0.7963742070489237\n",
      "Training ROC AUC score: 0.8026822181842723\n",
      "Validation ROC AUC score: 0.7637230741146404\n",
      "            \n",
      "CPU times: user 1.94 s, sys: 87.7 ms, total: 2.03 s\n",
      "Wall time: 536 ms\n"
     ]
    }
   ],
   "source": [
    "%%time\n",
    "\n",
    "# Create a pipeline\n",
    "pipe_lr = make_pipeline(SMOTE(random_state=42),\n",
    "                        StandardScaler(), # Scale features\n",
    "                        LogisticRegression(random_state=42, tol=1000))\n",
    "\n",
    "# Search over the following values of hyperparameters:\n",
    "pipe_lr_params = {\n",
    "    'logisticregression__penalty' : ['l2'], # L2 regularization will be better at managing multicollinearity\n",
    "    'logisticregression__C' : [.001,.01,.1], # Regularization\n",
    "    'logisticregression__max_iter' : [1000] \n",
    "}\n",
    "\n",
    "# Instantiate GridSearchCV\n",
    "gs_lr = GridSearchCV(pipe_lr,\n",
    "                     param_grid=pipe_lr_params,\n",
    "                     cv=5,\n",
    "                     scoring='roc_auc')\n",
    "\n",
    "# Fit model on training data\n",
    "gs_lr.fit(X_train, y_train)\n",
    "\n",
    "# Generate predictions on validation set\n",
    "lr_pred = gs_lr.predict(X_val)\n",
    "\n",
    "# Print best parameters and ROC AUC scores\n",
    "print('Best parameters: ', gs_lr.best_params_)\n",
    "print('Best CV ROC AUC score: ', gs_lr.best_score_)\n",
    "print('Training ROC AUC score:', gs_lr.score(X_train, y_train))\n",
    "print('Validation ROC AUC score:', gs_lr.score(X_val, y_val))\n",
    "print('            ')"
   ]
  },
  {
   "cell_type": "code",
   "execution_count": 19,
   "metadata": {
    "colab": {},
    "colab_type": "code",
    "id": "iB71ryYiERhc"
   },
   "outputs": [],
   "source": [
    "# Write a function that takes in the actual y value and model predictions, \n",
    "# and prints out the confusion matrix and classification report\n",
    "\n",
    "def cmat(actual_y, predictions):\n",
    "    # Create a confusion matrix\n",
    "    cm = confusion_matrix(actual_y, predictions)\n",
    "    cm_df = pd.DataFrame(cm, columns=['Predicted WNV Absent','Predicted WNV Present'], index=['Actual WNV Absent', 'Actual WNV Present'])\n",
    "    print(cm_df)\n",
    "    print('--------------------------------------------------------------')\n",
    "    # Create a classification report\n",
    "    print(classification_report(actual_y, predictions))"
   ]
  },
  {
   "cell_type": "code",
   "execution_count": 20,
   "metadata": {
    "colab": {},
    "colab_type": "code",
    "id": "zKDhmK8pExxX"
   },
   "outputs": [
    {
     "name": "stdout",
     "output_type": "stream",
     "text": [
      "                    Predicted WNV Absent  Predicted WNV Present\n",
      "Actual WNV Absent                   1382                    610\n",
      "Actual WNV Present                    28                     82\n",
      "--------------------------------------------------------------\n",
      "              precision    recall  f1-score   support\n",
      "\n",
      "           0       0.98      0.69      0.81      1992\n",
      "           1       0.12      0.75      0.20       110\n",
      "\n",
      "    accuracy                           0.70      2102\n",
      "   macro avg       0.55      0.72      0.51      2102\n",
      "weighted avg       0.94      0.70      0.78      2102\n",
      "\n"
     ]
    }
   ],
   "source": [
    "# Confusion matrix and classification report for Logistic Regression\n",
    "cmat(actual_y=y_val, predictions=lr_pred)"
   ]
  },
  {
   "cell_type": "markdown",
   "metadata": {
    "colab_type": "text",
    "id": "3Vu_gwAsE2cW"
   },
   "source": [
    "## SGD Classifier"
   ]
  },
  {
   "cell_type": "markdown",
   "metadata": {
    "colab_type": "text",
    "id": "3dwnao55E2Fo"
   },
   "source": [
    "SGD Classifier implements regularised linear models with Stochastic Gradient Descent. We will instantiate the SGDClassifier using loss='log' to implement the logistic regression and compare its performance to the previous model."
   ]
  },
  {
   "cell_type": "code",
   "execution_count": 21,
   "metadata": {
    "colab": {},
    "colab_type": "code",
    "id": "H5ZSRzFuE0tV"
   },
   "outputs": [
    {
     "name": "stdout",
     "output_type": "stream",
     "text": [
      "Best parameters:  {'sgdclassifier__alpha': 0.01, 'sgdclassifier__penalty': 'l2'}\n",
      "Best CV ROC AUC score:  0.8099843232908668\n",
      "Training ROC AUC score: 0.817085853136516\n",
      "Validation ROC AUC score: 0.7854508944870391\n",
      "            \n",
      "CPU times: user 2.09 s, sys: 67.4 ms, total: 2.16 s\n",
      "Wall time: 544 ms\n"
     ]
    }
   ],
   "source": [
    "%%time\n",
    "\n",
    "# Create a pipeline\n",
    "pipe_sgd = make_pipeline(SMOTE(random_state=42), \n",
    "                         StandardScaler(), # Scale features\n",
    "                         SGDClassifier(loss='log', max_iter=1000, random_state=42))\n",
    "\n",
    "# Search over the following values of hyperparameters:\n",
    "pipe_sgd_params = {\n",
    "    'sgdclassifier__penalty': ['l2'], # L2 regularization will be better at managing multicollinearity\n",
    "    'sgdclassifier__alpha': [.01,.1]\n",
    "}\n",
    "\n",
    "# Instantiate GridSearchCV\n",
    "gs_sgd = GridSearchCV(pipe_sgd,\n",
    "                      param_grid=pipe_sgd_params,\n",
    "                      cv=5,\n",
    "                      scoring='roc_auc')\n",
    "\n",
    "# Fit model on training data\n",
    "gs_sgd.fit(X_train, y_train)\n",
    "\n",
    "# Generate predictions on validation set\n",
    "sgd_pred = gs_sgd.predict(X_val)\n",
    "\n",
    "# Print best parameters and ROC AUC scores\n",
    "print('Best parameters: ', gs_sgd.best_params_)\n",
    "print('Best CV ROC AUC score: ', gs_sgd.best_score_)\n",
    "print('Training ROC AUC score:', gs_sgd.score(X_train, y_train))\n",
    "print('Validation ROC AUC score:', gs_sgd.score(X_val, y_val))\n",
    "print('            ')"
   ]
  },
  {
   "cell_type": "code",
   "execution_count": 22,
   "metadata": {
    "colab": {},
    "colab_type": "code",
    "id": "D5WM410hE-Xp"
   },
   "outputs": [
    {
     "name": "stdout",
     "output_type": "stream",
     "text": [
      "                    Predicted WNV Absent  Predicted WNV Present\n",
      "Actual WNV Absent                   1596                    396\n",
      "Actual WNV Present                    46                     64\n",
      "--------------------------------------------------------------\n",
      "              precision    recall  f1-score   support\n",
      "\n",
      "           0       0.97      0.80      0.88      1992\n",
      "           1       0.14      0.58      0.22       110\n",
      "\n",
      "    accuracy                           0.79      2102\n",
      "   macro avg       0.56      0.69      0.55      2102\n",
      "weighted avg       0.93      0.79      0.84      2102\n",
      "\n"
     ]
    }
   ],
   "source": [
    "# Confusion matrix and classification report for SGD Classifier\n",
    "cmat(actual_y=y_val, predictions=sgd_pred)"
   ]
  },
  {
   "cell_type": "markdown",
   "metadata": {
    "colab_type": "text",
    "id": "rNoH3Vc5FH0K"
   },
   "source": [
    "## Bagging Classifier"
   ]
  },
  {
   "cell_type": "markdown",
   "metadata": {
    "colab_type": "text",
    "id": "IdGpX24oFHxH"
   },
   "source": [
    "As decision trees tend to overfit on the training data, we will use bagged decision trees instead. Bagging is an ensemble method that conducts random resampling with replacement to create multiple models and aggregates the predictions."
   ]
  },
  {
   "cell_type": "code",
   "execution_count": 23,
   "metadata": {
    "colab": {},
    "colab_type": "code",
    "id": "RJ04wcpgGNbf"
   },
   "outputs": [
    {
     "name": "stdout",
     "output_type": "stream",
     "text": [
      "Best parameters:  {'baggingclassifier__base_estimator__max_depth': 3, 'baggingclassifier__n_estimators': 100}\n",
      "Best CV ROC AUC score:  0.7729608218249261\n",
      "Training ROC AUC score: 0.7725832599354783\n",
      "Validation ROC AUC score: 0.7528797006206644\n",
      "            \n",
      "CPU times: user 19.9 s, sys: 210 ms, total: 20.1 s\n",
      "Wall time: 19.7 s\n"
     ]
    }
   ],
   "source": [
    "%%time\n",
    "\n",
    "# Create a pipeline\n",
    "pipe_bag = make_pipeline(SMOTE(random_state=42),\n",
    "                         BaggingClassifier(base_estimator=DecisionTreeClassifier(), random_state=42))\n",
    "\n",
    "# Search over the following values of hyperparameters:\n",
    "pipe_bag_params = {\n",
    "    'baggingclassifier__n_estimators' : [100],\n",
    "    'baggingclassifier__base_estimator__max_depth' : [2,3]\n",
    "}\n",
    "\n",
    "# Instantiate GridSearchCV\n",
    "gs_bag = GridSearchCV(pipe_bag,\n",
    "                      param_grid=pipe_bag_params,\n",
    "                      cv=5,\n",
    "                      scoring='roc_auc')\n",
    "\n",
    "# Fit model on training data\n",
    "gs_bag.fit(X_train, y_train)\n",
    "\n",
    "# Generate predictions on validation set\n",
    "bag_pred = gs_bag.predict(X_val)\n",
    "\n",
    "# Print best parameters and ROC AUC scores\n",
    "print('Best parameters: ', gs_bag.best_params_)\n",
    "print('Best CV ROC AUC score: ', gs_bag.best_score_)\n",
    "print('Training ROC AUC score:', gs_bag.score(X_train, y_train))\n",
    "print('Validation ROC AUC score:', gs_bag.score(X_val, y_val))\n",
    "print('            ')"
   ]
  },
  {
   "cell_type": "code",
   "execution_count": 24,
   "metadata": {
    "colab": {},
    "colab_type": "code",
    "id": "EIMRIVIeGPNP"
   },
   "outputs": [
    {
     "name": "stdout",
     "output_type": "stream",
     "text": [
      "                    Predicted WNV Absent  Predicted WNV Present\n",
      "Actual WNV Absent                   1272                    720\n",
      "Actual WNV Present                    18                     92\n",
      "--------------------------------------------------------------\n",
      "              precision    recall  f1-score   support\n",
      "\n",
      "           0       0.99      0.64      0.78      1992\n",
      "           1       0.11      0.84      0.20       110\n",
      "\n",
      "    accuracy                           0.65      2102\n",
      "   macro avg       0.55      0.74      0.49      2102\n",
      "weighted avg       0.94      0.65      0.75      2102\n",
      "\n"
     ]
    }
   ],
   "source": [
    "# Confusion matrix and classification report for Bagging Classifier\n",
    "cmat(actual_y=y_val, predictions=bag_pred)"
   ]
  },
  {
   "cell_type": "markdown",
   "metadata": {
    "colab_type": "text",
    "id": "80VFKfhIGUST"
   },
   "source": [
    "## Random Forest Classifier"
   ]
  },
  {
   "cell_type": "markdown",
   "metadata": {
    "colab_type": "text",
    "id": "0mhfrntDGWrz"
   },
   "source": [
    "With bagged decision trees, we generate many trees on very similar data ie if a certain seasonality feature is a strong predictor of WNV, each bagged tree node will be simliar. These trees will thus be very strongly corelated with one another. Random forest will be useful in 'de-correlating' our trees. This is done by selecting a random subset of features at each node."
   ]
  },
  {
   "cell_type": "code",
   "execution_count": 25,
   "metadata": {
    "colab": {},
    "colab_type": "code",
    "id": "PkfkKloNGZce"
   },
   "outputs": [
    {
     "name": "stdout",
     "output_type": "stream",
     "text": [
      "Best parameters:  {'randomforestclassifier__max_depth': 3, 'randomforestclassifier__n_estimators': 150}\n",
      "Best CV ROC AUC score:  0.8269400945934233\n",
      "Training ROC AUC score: 0.839099656774259\n",
      "Validation ROC AUC score: 0.8055905439941584\n",
      "            \n",
      "CPU times: user 7.2 s, sys: 107 ms, total: 7.31 s\n",
      "Wall time: 7.37 s\n"
     ]
    }
   ],
   "source": [
    "%%time\n",
    "\n",
    "# Create a pipeline\n",
    "# Handle imbalanced class by setting class_weight='balanced' in random forest\n",
    "pipe_rf = make_pipeline(RandomForestClassifier(class_weight='balanced', random_state=42))\n",
    "\n",
    "# Search over the following values of hyperparameters:\n",
    "pipe_rf_params = {\n",
    "    'randomforestclassifier__n_estimators': [100,150],\n",
    "    'randomforestclassifier__max_depth': [2,3]\n",
    "}\n",
    "\n",
    "# Instantiate GridSearchCV\n",
    "gs_rf = GridSearchCV(pipe_rf,\n",
    "                      param_grid=pipe_rf_params,\n",
    "                      cv=5,\n",
    "                      scoring='roc_auc')\n",
    "\n",
    "# Fit model on training data\n",
    "gs_rf.fit(X_train, y_train)\n",
    "\n",
    "# Generate predictions on validation set\n",
    "rf_pred = gs_rf.predict(X_val)\n",
    "\n",
    "# Print best parameters and ROC AUC scores\n",
    "print('Best parameters: ', gs_rf.best_params_)\n",
    "print('Best CV ROC AUC score: ', gs_rf.best_score_)\n",
    "print('Training ROC AUC score:', gs_rf.score(X_train, y_train))\n",
    "print('Validation ROC AUC score:', gs_rf.score(X_val, y_val))\n",
    "print('            ')"
   ]
  },
  {
   "cell_type": "code",
   "execution_count": 26,
   "metadata": {
    "colab": {},
    "colab_type": "code",
    "id": "mDLW-AShGapX"
   },
   "outputs": [
    {
     "name": "stdout",
     "output_type": "stream",
     "text": [
      "                    Predicted WNV Absent  Predicted WNV Present\n",
      "Actual WNV Absent                   1302                    690\n",
      "Actual WNV Present                    22                     88\n",
      "--------------------------------------------------------------\n",
      "              precision    recall  f1-score   support\n",
      "\n",
      "           0       0.98      0.65      0.79      1992\n",
      "           1       0.11      0.80      0.20       110\n",
      "\n",
      "    accuracy                           0.66      2102\n",
      "   macro avg       0.55      0.73      0.49      2102\n",
      "weighted avg       0.94      0.66      0.75      2102\n",
      "\n"
     ]
    }
   ],
   "source": [
    "# Confusion matrix and classification report for Random Forest\n",
    "cmat(actual_y=y_val, predictions=rf_pred)"
   ]
  },
  {
   "cell_type": "markdown",
   "metadata": {
    "colab_type": "text",
    "id": "MuGLAR6UGeZf"
   },
   "source": [
    "## AdaBoost Classifer"
   ]
  },
  {
   "cell_type": "markdown",
   "metadata": {
    "colab_type": "text",
    "id": "XLXb1335GeMe"
   },
   "source": [
    "AdaBoost is a boosting ensemble method that fits a sequence of weak learners on modified versions of the data. AdaBoost works by putting more weight on misclassifications and less on those already handled well. This allows it to convert a set of weak classifiers into a strong one."
   ]
  },
  {
   "cell_type": "code",
   "execution_count": 27,
   "metadata": {
    "colab": {},
    "colab_type": "code",
    "id": "etzo9geQGi6-"
   },
   "outputs": [
    {
     "name": "stdout",
     "output_type": "stream",
     "text": [
      "Best parameters:  {'adaboostclassifier__base_estimator__max_depth': 1, 'adaboostclassifier__learning_rate': 0.9, 'adaboostclassifier__n_estimators': 100}\n",
      "Best CV ROC AUC score:  0.8197682742055303\n",
      "Training ROC AUC score: 0.8438063743225115\n",
      "Validation ROC AUC score: 0.7855741146403797\n",
      "            \n",
      "CPU times: user 14.6 s, sys: 145 ms, total: 14.7 s\n",
      "Wall time: 14.8 s\n"
     ]
    }
   ],
   "source": [
    "%%time\n",
    "\n",
    "# Create a pipeline\n",
    "pipe_adaboost = make_pipeline(SMOTE(random_state=42),\n",
    "                              AdaBoostClassifier(base_estimator=DecisionTreeClassifier(), random_state=42))\n",
    "\n",
    "# Search over the following values of hyperparameters:\n",
    "pipe_adaboost_params = {\n",
    "    'adaboostclassifier__learning_rate': [0.9,1], #0.1\n",
    "    'adaboostclassifier__n_estimators': [100], #150\n",
    "    'adaboostclassifier__base_estimator__max_depth': [1] #2 \n",
    "}\n",
    "\n",
    "# Instantiate GridSearchCV\n",
    "gs_adaboost = GridSearchCV(pipe_adaboost,\n",
    "                          param_grid=pipe_adaboost_params,\n",
    "                          cv=5,\n",
    "                          scoring='roc_auc')\n",
    "\n",
    "# Fit model on training data\n",
    "gs_adaboost.fit(X_train, y_train)\n",
    "\n",
    "# Generate predictions on validation set\n",
    "adaboost_pred = gs_adaboost.predict(X_val)\n",
    "\n",
    "# Print best parameters and ROC AUC scores\n",
    "print('Best parameters: ', gs_adaboost.best_params_)\n",
    "print('Best CV ROC AUC score: ', gs_adaboost.best_score_)\n",
    "print('Training ROC AUC score:', gs_adaboost.score(X_train, y_train))\n",
    "print('Validation ROC AUC score:', gs_adaboost.score(X_val, y_val))\n",
    "print('            ')"
   ]
  },
  {
   "cell_type": "code",
   "execution_count": 28,
   "metadata": {
    "colab": {},
    "colab_type": "code",
    "id": "tJ6RpW38Gkhn"
   },
   "outputs": [
    {
     "name": "stdout",
     "output_type": "stream",
     "text": [
      "                    Predicted WNV Absent  Predicted WNV Present\n",
      "Actual WNV Absent                   1664                    328\n",
      "Actual WNV Present                    54                     56\n",
      "--------------------------------------------------------------\n",
      "              precision    recall  f1-score   support\n",
      "\n",
      "           0       0.97      0.84      0.90      1992\n",
      "           1       0.15      0.51      0.23       110\n",
      "\n",
      "    accuracy                           0.82      2102\n",
      "   macro avg       0.56      0.67      0.56      2102\n",
      "weighted avg       0.93      0.82      0.86      2102\n",
      "\n"
     ]
    }
   ],
   "source": [
    "# Confusion matrix and classification report for AdaBoost\n",
    "cmat(actual_y=y_val, predictions=adaboost_pred)"
   ]
  },
  {
   "cell_type": "markdown",
   "metadata": {
    "colab_type": "text",
    "id": "OBmUDR4KGnD5"
   },
   "source": [
    "## Gradient Boosting Classifier"
   ]
  },
  {
   "cell_type": "markdown",
   "metadata": {
    "colab_type": "text",
    "id": "5roW6kAaGm5a"
   },
   "source": [
    "While the AdaBoost model identifies the shortcomings by using high weight data points, gradient boosting performs the same by using gradients in the loss function."
   ]
  },
  {
   "cell_type": "code",
   "execution_count": 29,
   "metadata": {
    "colab": {},
    "colab_type": "code",
    "id": "emv9-6nHGxpO"
   },
   "outputs": [
    {
     "name": "stdout",
     "output_type": "stream",
     "text": [
      "Best parameters:  {'gradientboostingclassifier__learning_rate': 0.1, 'gradientboostingclassifier__max_depth': 2, 'gradientboostingclassifier__n_estimators': 100}\n",
      "Best CV ROC AUC score:  0.8225874638766142\n",
      "Training ROC AUC score: 0.8496195413993803\n",
      "Validation ROC AUC score: 0.7951122672508215\n",
      "            \n",
      "CPU times: user 11.7 s, sys: 118 ms, total: 11.8 s\n",
      "Wall time: 11.9 s\n"
     ]
    }
   ],
   "source": [
    "%%time\n",
    "\n",
    "# Create a pipeline\n",
    "pipe_gb = make_pipeline(SMOTE(random_state=42),\n",
    "                        GradientBoostingClassifier(random_state=42))\n",
    "\n",
    "# Search over the following values of hyperparameters:\n",
    "pipe_gb_params = {\n",
    "    'gradientboostingclassifier__max_depth': [2], #3\n",
    "    'gradientboostingclassifier__n_estimators': [100], #150\n",
    "    'gradientboostingclassifier__learning_rate': [0.1] \n",
    "}\n",
    "\n",
    "# Instantiate GridSearchCV\n",
    "gs_gb = GridSearchCV(pipe_gb,\n",
    "                     param_grid= pipe_gb_params,\n",
    "                     cv=5,\n",
    "                     scoring='roc_auc')\n",
    "\n",
    "# Fit model on training data\n",
    "gs_gb.fit(X_train, y_train)\n",
    "\n",
    "# Generate predictions on validation set\n",
    "gb_pred = gs_gb.predict(X_val)\n",
    "\n",
    "# Print best parameters and ROC AUC scores\n",
    "print('Best parameters: ', gs_gb.best_params_)\n",
    "print('Best CV ROC AUC score: ', gs_gb.best_score_)\n",
    "print('Training ROC AUC score:', gs_gb.score(X_train, y_train))\n",
    "print('Validation ROC AUC score:', gs_gb.score(X_val, y_val))\n",
    "print('            ')"
   ]
  },
  {
   "cell_type": "code",
   "execution_count": 30,
   "metadata": {
    "colab": {},
    "colab_type": "code",
    "id": "1RBE9BMgGywA"
   },
   "outputs": [
    {
     "name": "stdout",
     "output_type": "stream",
     "text": [
      "                    Predicted WNV Absent  Predicted WNV Present\n",
      "Actual WNV Absent                   1623                    369\n",
      "Actual WNV Present                    43                     67\n",
      "--------------------------------------------------------------\n",
      "              precision    recall  f1-score   support\n",
      "\n",
      "           0       0.97      0.81      0.89      1992\n",
      "           1       0.15      0.61      0.25       110\n",
      "\n",
      "    accuracy                           0.80      2102\n",
      "   macro avg       0.56      0.71      0.57      2102\n",
      "weighted avg       0.93      0.80      0.85      2102\n",
      "\n"
     ]
    }
   ],
   "source": [
    "# Confusion matrix and classification report for Gradient Boost\n",
    "cmat(actual_y=y_val, predictions=gb_pred)"
   ]
  },
  {
   "cell_type": "markdown",
   "metadata": {
    "colab_type": "text",
    "id": "SyDFw8IFG3DK"
   },
   "source": [
    "## XGBoost Classifier"
   ]
  },
  {
   "cell_type": "markdown",
   "metadata": {
    "colab_type": "text",
    "id": "5GqJP3GCG25s"
   },
   "source": [
    "XGBoost (eXtreme Gradient Boosting) is a decision-tree-based ensemble technique that uses a gradient boosting algorithm. Some key benefits of XGBoost includes the ability to regularize to reduce overfitting and its fast computational speed. The 'scale_pos_weight' hyperparameter helps to handle our imbalanced class. The recommended weight to use is the ratio of the number of negative class to the positive class."
   ]
  },
  {
   "cell_type": "code",
   "execution_count": 31,
   "metadata": {
    "colab": {},
    "colab_type": "code",
    "id": "rs77FgYGHFdi"
   },
   "outputs": [
    {
     "data": {
      "text/plain": [
       "0    7963\n",
       "1     441\n",
       "Name: wnvpresent, dtype: int64"
      ]
     },
     "execution_count": 31,
     "metadata": {},
     "output_type": "execute_result"
    }
   ],
   "source": [
    "# 7963 obs in negative class and 441 obs in positive class\n",
    "y_train.value_counts()"
   ]
  },
  {
   "cell_type": "code",
   "execution_count": 32,
   "metadata": {
    "colab": {},
    "colab_type": "code",
    "id": "CuqVv7UWHGnA"
   },
   "outputs": [
    {
     "name": "stdout",
     "output_type": "stream",
     "text": [
      "Best parameters:  {'xgbclassifier__colsample_bytree': 0.5, 'xgbclassifier__eval_metric': 'auc', 'xgbclassifier__gamma': 0.1, 'xgbclassifier__learning_rate': 0.1, 'xgbclassifier__max_depth': 3, 'xgbclassifier__n_estimators': 100, 'xgbclassifier__objective': 'binary:logistic', 'xgbclassifier__reg_alpha': 100, 'xgbclassifier__reg_lambda': 100, 'xgbclassifier__scale_pos_weight': 18.05668934240363, 'xgbclassifier__subsample': 0.5}\n",
      "Best CV ROC AUC score:  0.838559744153278\n",
      "Training ROC AUC score: 0.8602682816188135\n",
      "Validation ROC AUC score: 0.8261477729098211\n",
      "            \n",
      "CPU times: user 11.3 s, sys: 99.3 ms, total: 11.4 s\n",
      "Wall time: 1.49 s\n"
     ]
    }
   ],
   "source": [
    "%%time\n",
    "\n",
    "# Create a pipeline\n",
    "pipe_xgb = make_pipeline(XGBClassifier(random_state=42))\n",
    "\n",
    "# Search over the following values of hyperparameters:\n",
    "pipe_xgb_params = {\n",
    "    'xgbclassifier__eval_metric' : ['auc'],\n",
    "    'xgbclassifier__subsample' : [0.5], # Randomly sample 0.5 of the data to prevent overfitting\n",
    "    'xgbclassifier__colsample_bytree' : [0.5], \n",
    "    'xgbclassifier__learning_rate' : [0.1], #0.5\n",
    "    'xgbclassifier__max_depth' : [2, 3], #5\n",
    "    'xgbclassifier__scale_pos_weight': [7963/441], # Ratio of negative class to positive class\n",
    "    'xgbclassifier__n_estimators' : [100], #500\n",
    "    'xgbclassifier__reg_alpha' : [100], # L1 regularization term on weight #0, 1, 50, 75\n",
    "    'xgbclassifier__reg_lambda' : [100], # L2 regularization term on weights #0, 1, 2, 50,75\n",
    "    'xgbclassifier__gamma' : [0.1], # Gamma specifies the minimum loss reduction required to make a split #.2\n",
    "    'xgbclassifier__objective' : ['binary:logistic']\n",
    "}\n",
    "\n",
    "# Instantiate GridSearchCV\n",
    "gs_xgb = GridSearchCV(pipe_xgb,\n",
    "                      param_grid=pipe_xgb_params,\n",
    "                      cv=5,\n",
    "                      scoring='roc_auc')\n",
    "\n",
    "# Fit model on training data\n",
    "gs_xgb.fit(X_train, y_train)\n",
    "\n",
    "# Generate predictions on validation set\n",
    "xgb_pred = gs_xgb.predict(X_val)\n",
    "\n",
    "# Print best parameters and ROC AUC scores\n",
    "print('Best parameters: ', gs_xgb.best_params_)\n",
    "print('Best CV ROC AUC score: ', gs_xgb.best_score_)\n",
    "print('Training ROC AUC score:', gs_xgb.score(X_train, y_train))\n",
    "print('Validation ROC AUC score:', gs_xgb.score(X_val, y_val))\n",
    "print('            ')"
   ]
  },
  {
   "cell_type": "code",
   "execution_count": 33,
   "metadata": {
    "colab": {},
    "colab_type": "code",
    "id": "lTx2neGbHIbr"
   },
   "outputs": [
    {
     "name": "stdout",
     "output_type": "stream",
     "text": [
      "                    Predicted WNV Absent  Predicted WNV Present\n",
      "Actual WNV Absent                   1492                    500\n",
      "Actual WNV Present                    24                     86\n",
      "--------------------------------------------------------------\n",
      "              precision    recall  f1-score   support\n",
      "\n",
      "           0       0.98      0.75      0.85      1992\n",
      "           1       0.15      0.78      0.25       110\n",
      "\n",
      "    accuracy                           0.75      2102\n",
      "   macro avg       0.57      0.77      0.55      2102\n",
      "weighted avg       0.94      0.75      0.82      2102\n",
      "\n"
     ]
    }
   ],
   "source": [
    "# Confusion matrix and classification report for XGBoost\n",
    "cmat(actual_y=y_val, predictions=xgb_pred)"
   ]
  },
  {
   "cell_type": "markdown",
   "metadata": {
    "colab_type": "text",
    "id": "k4JqcFfeHM6o"
   },
   "source": [
    "The first iteration of XGBoost without tuning gave an ROC AUC score of 0.99 on the train set and 0.82 on the validation set, indicating a serious overfit. However, after some tuning and regularization, the model is now less overfitted, achieving an ROC AUC score of 0.86 on the train set and 0.83 on the validation set. As it outperforms all the other models on ROC AUC, we will use this as our final production model."
   ]
  },
  {
   "cell_type": "markdown",
   "metadata": {
    "colab_type": "text",
    "id": "JLoCc62E7eHo"
   },
   "source": [
    "# Model Evaluation"
   ]
  },
  {
   "cell_type": "markdown",
   "metadata": {
    "colab_type": "text",
    "id": "40WxVwjzHXsu"
   },
   "source": [
    "## Summary Metrics"
   ]
  },
  {
   "cell_type": "markdown",
   "metadata": {
    "colab_type": "text",
    "id": "MGkoqZUMHcXW"
   },
   "source": [
    "|                    | Logistic Regression | SGD  | Bagging | Random Forest | AdaBoost | Gradient Boost | XGBoost |\n",
    "|:------------------:|---------------------|------|---------|---------------|----------|----------------|---------|\n",
    "| Training ROC AUC   | 0.80                | 0.82 | 0.77    | 0.84          | 0.84     | 0.85           | 0.86    |\n",
    "| Validation ROC AUC | 0.76                | 0.79 | 0.75    | 0.80          | 0.79     | 0.80           | **0.83**    |\n",
    "| Recall             | 0.75                | 0.58 | 0.84    | 0.80          | 0.51     | 0.61           | 0.78    |"
   ]
  },
  {
   "cell_type": "markdown",
   "metadata": {
    "colab_type": "text",
    "id": "G85GguyOIRU1"
   },
   "source": [
    "Out of all the 7 classification models built, XGBoost was selected as it achieved the highest ROC AUC score on the validation set. The model attained an ROC AUC of 0.83 on the validation set, outperforming the baseline score of 0.5. There is a 83% chance that the model will be able to distinguish between the positive and negative class - suggesting good class separation capacity.\n",
    "\n",
    "Although the sole criteria in selecting our model was based on ROC AUC, it is also good to look at the recall rate. XGBoost performed decently well on this front, being able to correctly predict 78% of the actual WNV cases."
   ]
  },
  {
   "cell_type": "code",
   "execution_count": 34,
   "metadata": {
    "colab": {},
    "colab_type": "code",
    "id": "ZatdvykyHW1r"
   },
   "outputs": [],
   "source": [
    "# Function to plot ROC curve with AUC\n",
    "def plot_roc(model, X, actual_y, title):\n",
    "    \n",
    "    # Calculate the fpr and tpr for all thresholds of the classification\n",
    "    probs = model.predict_proba(X)\n",
    "    preds = probs[:,1]\n",
    "    \n",
    "    fpr, tpr, threshold = roc_curve(actual_y, preds)\n",
    "    roc_auc = auc(fpr, tpr)\n",
    "    \n",
    "    plt.figure(figsize=(7,5))\n",
    "    plt.title(title +': ROC Curve with AUC = ' + '%0.2f' % roc_auc, fontsize=12, fontweight='bold')\n",
    "    plt.plot(fpr, tpr, 'b', label='ROC Curve') # Plot the ROC curve\n",
    "    plt.plot([0, 1], [0, 1],'r--', label='Baseline') # Plot baseline \n",
    "    plt.legend(loc = 'lower right')\n",
    "    plt.xlim([-0.01, 1.01])\n",
    "    plt.ylim([-0.01, 1.01])\n",
    "    plt.ylabel('True Positive Rate')\n",
    "    plt.xlabel('False Positive Rate');"
   ]
  },
  {
   "cell_type": "code",
   "execution_count": 35,
   "metadata": {
    "colab": {},
    "colab_type": "code",
    "id": "ZdLyxOuEHfi8"
   },
   "outputs": [
    {
     "data": {
      "image/png": "[encoded data removed]",
      "text/plain": [
       "<Figure size 504x360 with 1 Axes>"
      ]
     },
     "metadata": {
      "needs_background": "light"
     },
     "output_type": "display_data"
    }
   ],
   "source": [
    "# Plot the ROC curve for XGBoost\n",
    "plot_roc(model = gs_xgb, \n",
    "         X = X_val,\n",
    "         actual_y = y_val,\n",
    "         title = \"XGBoost\")"
   ]
  },
  {
   "cell_type": "markdown",
   "metadata": {
    "colab_type": "text",
    "id": "7CoT9JT1H5Yr"
   },
   "source": [
    "XGBoost classifier performed the best based on ROC AUC score, attaining 0.83 on the validation set."
   ]
  },
  {
   "cell_type": "code",
   "execution_count": 36,
   "metadata": {
    "colab": {},
    "colab_type": "code",
    "id": "la3CCgICH6yD"
   },
   "outputs": [],
   "source": [
    "# Find feature importance for XGBoost\n",
    "feature_importance = gs_xgb.best_estimator_.named_steps[\"xgbclassifier\"].feature_importances_\n",
    "\n",
    "# Save feature importance to a dataframe\n",
    "features_df = pd.DataFrame(index=X_train.columns, data = feature_importance, columns=['feature_importance'])"
   ]
  },
  {
   "cell_type": "code",
   "execution_count": 37,
   "metadata": {
    "colab": {},
    "colab_type": "code",
    "id": "H69A76-hH37_"
   },
   "outputs": [
    {
     "data": {
      "image/png": "[encoded data removed]",
      "text/plain": [
       "<Figure size 720x720 with 1 Axes>"
      ]
     },
     "metadata": {
      "needs_background": "light"
     },
     "output_type": "display_data"
    }
   ],
   "source": [
    "# Barplot for feature importance\n",
    "features_df.sort_values(by='feature_importance', ascending=True).plot(kind='barh', figsize=(10,10), color='#148F77')\n",
    "plt.title('Feature Importance for XGBoost', fontsize=15, weight='bold')\n",
    "plt.yticks(fontsize=12);"
   ]
  },
  {
   "cell_type": "markdown",
   "metadata": {
    "colab_type": "text",
    "id": "K3vqN7fmIBfM"
   },
   "source": [
    "Month is the most important predictor of WNV presence. Seasonality plays a very key role in mosquito breeding and the spread of WNV, with other features like week and day being within the top 5 most important features. This is possibly due the fact that these features capture a blend of weather conditions that are ideal for WNV. Rolling weather features over a 14-day period like wetbulb, dewpoint, minimum temperature and result speed were also key predictors. Location features like longitude was also useful in predicting possible hotspots, while spray cluster helped to identify the possible areas that were sprayed on to combat the WNV outbreak."
   ]
  },
  {
   "cell_type": "markdown",
   "metadata": {
    "colab_type": "text",
    "id": "JcIPyKTTSjcN"
   },
   "source": [
    "# Scoring on Kaggle"
   ]
  },
  {
   "cell_type": "code",
   "execution_count": 39,
   "metadata": {
    "colab": {},
    "colab_type": "code",
    "id": "37RhFHotItUF"
   },
   "outputs": [],
   "source": [
    "# Read in clean test set\n",
    "test = pd.read_csv('../data/clean_test.csv')"
   ]
  },
  {
   "cell_type": "code",
   "execution_count": 40,
   "metadata": {
    "colab": {},
    "colab_type": "code",
    "id": "3EaINhvXI38v"
   },
   "outputs": [],
   "source": [
    "X_test = test[[col for col in test.columns if col != 'id']]"
   ]
  },
  {
   "cell_type": "code",
   "execution_count": 41,
   "metadata": {
    "colab": {},
    "colab_type": "code",
    "id": "Jhmbug8lI5LE"
   },
   "outputs": [],
   "source": [
    "# Generate predictions on test set\n",
    "y_predict = gs_xgb.predict_proba(X_test)"
   ]
  },
  {
   "cell_type": "code",
   "execution_count": 42,
   "metadata": {
    "colab": {},
    "colab_type": "code",
    "id": "SrliJg34I6Xu"
   },
   "outputs": [],
   "source": [
    "# Create a dataframe for our predictions\n",
    "result = pd.DataFrame(test['id'])"
   ]
  },
  {
   "cell_type": "code",
   "execution_count": 43,
   "metadata": {
    "colab": {},
    "colab_type": "code",
    "id": "O_0QLOkfI7kd"
   },
   "outputs": [],
   "source": [
    "# Rename the column as per the sample file requirements\n",
    "result.rename(columns={'id': 'Id'}, inplace=True)"
   ]
  },
  {
   "cell_type": "code",
   "execution_count": 44,
   "metadata": {
    "colab": {},
    "colab_type": "code",
    "id": "QgdjhxQ_I8s8"
   },
   "outputs": [],
   "source": [
    "# Probability of WNV presence \n",
    "result['WnvPresent'] = y_predict[:,1]"
   ]
  },
  {
   "cell_type": "code",
   "execution_count": 45,
   "metadata": {
    "colab": {},
    "colab_type": "code",
    "id": "WIKqHok-I937"
   },
   "outputs": [],
   "source": [
    "# Save predictions in result.csv and submit on Kaggle\n",
    "result.to_csv('../data/result.csv', index=False)"
   ]
  },
  {
   "cell_type": "markdown",
   "metadata": {
    "colab_type": "text",
    "id": "RtI5VqwBJFxx"
   },
   "source": [
    "Kaggle private and public score: 0.76"
   ]
  },
  {
   "cell_type": "markdown",
   "metadata": {
    "colab_type": "text",
    "id": "XdrUt98ST_k7"
   },
   "source": [
    "# Cost Benefit Analysis"
   ]
  },
  {
   "cell_type": "markdown",
   "metadata": {
    "colab_type": "text",
    "id": "vukf7xvL2QAM"
   },
   "source": [
    "The West Nile Virus was detected in the United States since 1999.\n",
    "\n",
    "A research by Loren Barber,Jerome Schleier and Robert Peterson <sup>4</sup> assessed the financial cost of the 2005 West Nile Virus disease outbreak in Sacramento County, California, and evaluated that decrease in 15 WNV disease cases is needed to mitigate the cost of emergency aerial spray response. The West Nile Virus infection can be asymptomatic or symptomatic in humans, with a 4:1 proportion. \n",
    "\n",
    "Types of patients:\n",
    "-  West Nile fever [WNF]: disease can be mild, causing flu-like side effects\n",
    "- West Nile neuroinvasive disease [WNND]: severe, affecting the central nervous system symptom \n",
    "\n",
    "Types of costs:\n",
    "- Inpatient Care: average charge of hospital patient discharge database from California’s Office of Statewide Health Planning and Development (OSHPD)\n",
    "- Outpatient Care: using the 2002 outpatient costs determined by Zohrabian et al. and updated to 2005 using data from the Consumer Price Index (CPI) for the western United States, obtained from the US Department of Labor, Bureau of Labor Statistics\n",
    "Productivity Loss. \n",
    "- Productivity loss: assumed 60 days. For caretakers, productivity loss was assumed to be 25 days. Using the mean annual earnings for full-time workers in 2005, the cost for a day of work missed by an average Sacramento adult citizen is calculated. The cost attributed to productivity loss is an estimate; true monetary value for pain and distress and the productivity loss associated with chronic WNND are uncertain.\n",
    "- Miscellaneous: nursing home, transportation, home-health aides, and child care costs accrued during recovery. 3.6% of the WNND cases spent 96 days in nursing homes. The transportation cost to all WNND cases, and applied costs for home-help aides to 14.4% of the WNND cases.\n",
    "\n",
    "\n",
    "**Out of 935 human WNV cases reported in California, 163 Cases were from Sacramento County in 2005**\n",
    "\n",
    "*Cost of Medical Treatment*\n",
    "\n",
    "|  -                                                        |  WNND : 46 cases (28.2%)                       |                                                                                                 |  WNF: 117 cases (71.8%)                        |                                                                                                 |\n",
    "|-----------------------------------------------------------|-------------------------------|-------------------------------------------------------------------------------------------------|-------------------------------|-------------------------------------------------------------------------------------------------|\n",
    "|  **Components**                                               |  **Estimated Cost of the cases**  |  **Estimated Cost under worst <br/> case scenario if full cost <br/> is applicable to all patients**  |  **Estimated Cost of the cases**  | **Estimated Cost under worst <br/> case scenario if full cost <br/> is applicable to all patients**  |\n",
    "|  Inpatient Care                                           | `$`33143                         | `$`33143                                                                                           | -                             | -                                                                                               |\n",
    "|  Outpatient Care                                          | `$`1758                          | `$`6317                                                                                            | `$`302                           | -                                                                                               |\n",
    "|  Productivity Loss   | `$`10539                         | `$`10539                                                                                           | `$`868                           | `$`868                                                                                             |\n",
    "|  Misc Expenses                                            | `$`1090                          | `$`11834                                                                                           | -                             | -                                                                                               |\n",
    "|  **Total**                                                    | **`$`2140409**                       | **`$`2844338**                                                                                         | **`$`136839**                        | **`$`136839**                                                                                          |\n",
    "|  **Per Pax Cost**                                             | **`$`46531**                         | **`$`61833**                                                                                           | **`$`1170**                          | **`$`1170**                                                                                            |\n",
    "\n",
    "<br/>\n",
    "\n",
    "*Cost of Spray*\n",
    "\n",
    "| Components                                        | Spray Costs for 477km<sup>2</sup> |\n",
    "|---------------------------------------------------|-------------|\n",
    "| 1157 overtime hours                               | `$`41790       |\n",
    "| Normal hours pay, insecticides, plane rental etc. | `$`660000      |\n",
    "| **Total**                                             | **`$`701,790**     |\n",
    "\n",
    "\n",
    "*Summary*\n",
    "\n",
    "| Summary                             |         |\n",
    "|-------------------------------------|---------|\n",
    "| Total cost of medical treatment      | `$`1640780 |\n",
    "| Total cost of productivity loss and misc expenses | `$`636490  |\n",
    "| Total cost of spray                 | `$`701790  |\n",
    "| **Total economic cost**             | **`$`2979060** |\n",
    "\n",
    "<br/>\n",
    "\n",
    "The actual number of disease cases prevented by the emergency spray is uncertain. But Carney et al. and Elnaiem et al. did provide evidence of the effectiveness of the 2005 spray by showing a reduction both in mosquito populations and WNV disease cases in humans. Zero cases were reported in spray area and 18 cases outside. This demonstrates the effectiveness of the spray and necessity of it. Even though these are pure estimation via sampling, the cost analysis suggest that only 15 WNND cases prevention is needed for the benefits of the spray response to exceed the expense of the virus for Sacramento County in 2005. \n",
    "\n",
    "Considering the land size and population<sup>7 </sup> in 2005, we assume similar spray area is needed to control Chicago mosquito population to reduce WNV and similar number of people were infected. Based on estimation, the spray data covers just under 100 km².\n",
    "\n",
    "| Year 2005  | Sacramento County | Chicago            | Difference |\n",
    "|------------|-------------------|--------------------|------------|\n",
    "| Population | 1.36 Million      | 2.8 Million               | 1.44 Million       |\n",
    "| Area       | 2,574 km²         | 606.1 km²          | 1968  km²      |\n",
    "| Spray Area | 477 km²           | Calculated 112 km² |            |\n",
    "| WNV cases  | 163 people        | Calculated 336 people |            |\n",
    "\n",
    "| Year    | Cases of WnvPresent in traps in our data |\n",
    "|---------|------------------------------------------|\n",
    "| 2007    | 236                                      |\n",
    "| 2009    | 19                                       |\n",
    "| 2011    | 57                                       |\n",
    "| 2013    | 239                                      |\n",
    "| Average | 138                                      |\n",
    "\n",
    "It is reasonable to that each cases of WnvPresent could have infected 3 people. Hence, let's consider **cost benefit analysis for 336 infected people and spray area of 112 km²**.\n",
    "\n",
    "Assuming the proportion of people suffering WNND and WNF is similar to those in Sacramento County and costs are similar,\n",
    "\n",
    "| Components                                          | Chicago WNV Cost Estimation for 2005 |\n",
    "|-----------------------------------------------------|--------------------------------------|\n",
    "| Per Pax cost of medical treatment                   | `$`10066                                |\n",
    "| Per Pax cost of productivity loss and misc expenses | `$`3905                                 |\n",
    "| Total per pax cost                                  | `$`13971                                |\n",
    "| **Total cost for 336 people**                           | **`$`4694250**                              |\n",
    "| **Cost of spray (112 km²)**                             | **`$`164781**                               |                                |\n",
    "| **Total economic cost**                                 | **`$`4859031**                             |\n",
    "\n",
    "Given the following parameters above, we make the **annual cost projections for the test data**.\n",
    "\n",
    "| Year  | Total cost for 336 people | Cost of spray (112 km²) | Total economic cost | Consumer Price Index<sup>6</sup> |\n",
    "|-------|---------------------------|-------------------------|---------------------|----------------------|\n",
    "| 2005  | `$`4694250                   | `$`164781                  | `$`4859031             | -                    |\n",
    "| 2008  | `$`5173063                   | `$`181589                  | `$`5354652             | 10.20%               |\n",
    "| 2010  | `$`5240313                   | `$`183949                  | `$`5424262             | 1.30%                |\n",
    "| 2012  | `$`5518050                   | `$`193698                  | `$`5711748             | 5.30%                |\n",
    "| 2014  | `$`5689109                   | `$`199703                  | `$`5888812             | 3.10%                |\n",
    "\n",
    "Although this estimation of the medical costs and the true number of cases prevented by the emergency spray are uncertain, it is likely that the true cost of the virus is higher than estimated. Pain, mental health costs, and ecological risks associated with the emergency spray is not included. There have been debate that the use of pesticides to slow the virus caused mass death of lobsters in 1999<sup>5 </sup>.\n",
    "\n",
    "**Based on the above cost benefit analysis, spraying at areas with more than 12 WNV cases overweighs the cost of the spray, suggesting that spraying at those areas is the most cost effective solution. In addition, reduction in cost of 1 WNV case overweights the spraying of of 10km² area.**"
   ]
  },
  {
   "cell_type": "markdown",
   "metadata": {
    "colab_type": "text",
    "id": "5uEJNowwUE2Z"
   },
   "source": [
    "# Conclusion and Recommendations"
   ]
  },
  {
   "cell_type": "markdown",
   "metadata": {
    "colab_type": "text",
    "id": "_mbSvSDld9lc"
   },
   "source": [
    "Out of all the classification models built, XGBoost was selected as it achieved the highest ROC AUC score on the validation set. The model attained an ROC AUC of 0.83 on the validation set, outperforming the baseline score of 0.5. As observed from the model's feature importance, it turns out that seasonality plays a very key role in mosquito breeding and the spread of WNV, with 'month' being the most important predictor. Besides other sesonality features like 'week' and 'day', 14-day rolling weather conditions like wetbulb, dewpoint and temperature are also key in predicting the presence of WNV in the City of Chicago. The model received a 0.76 ROC AUC score on Kaggle.<br/>\n",
    "\n",
    "Based on the cost benefit analysis, spraying at areas with more than 12 WNV cases overweighs the cost of the spray, suggesting that spraying at those areas is the most cost effective solution. In addition, reduction in cost of 1 WNV case overweights the spraying of of 10km² area.<br/>\n",
    "\n",
    "As the model performs relatively well on unseen data, the Disease and Treatment Agency will now be able deploy pesticide-spraying efforts to areas of high risk. An efficient allocation of resources will help help to clamp down on the WNV outbreak, reducing residents' exposure to the virus. \n",
    "\n",
    "Alternative method of solution may be vaccination. However, research analysis suggests that universal vaccination<sup>8</sup> against the West Nile Virus  would unlikely result in societal monetary savings unless disease incidence increases drastically. Hence, spraying is still the best method to reduce soceity impact at the moment until true ecological cost for the use of pesticide to kill the mosquitos are taken into account or cost of universal vaccination decreases.\n",
    "\n",
    "We should also consider having more research to target specific breed of mosquito from the Culex family that carries the virus.\n",
    "\n",
    "\n"
   ]
  },
  {
   "cell_type": "markdown",
   "metadata": {
    "colab_type": "text",
    "id": "FoVK20sARm8x"
   },
   "source": [
    "# Sources"
   ]
  },
  {
   "cell_type": "markdown",
   "metadata": {
    "colab_type": "text",
    "id": "JcI-trPpRpPd"
   },
   "source": [
    "<sup>1</sup> https://www.kaggle.com/c/predict-west-nile-virus/overview <br/>\n",
    "<sup>2</sup> https://www.ncdc.noaa.gov/<br/>\n",
    "<sup>3</sup> https://www.mosquito.org/page/lifecycle<br/>\n",
    "<sup>4</sup> https://www.ncbi.nlm.nih.gov/pmc/articles/PMC3322011/<br/>\n",
    "<sup>5 </sup> https://www.nytimes.com/2002/08/11/nyregion/mosquito-control-weighing-costs-versus-benefits.html<br/>\n",
    "<sup>6</sup> https://www.usinflationcalculator.com/<br/>\n",
    "<sup>7 </sup> https://www.census.gov/glossary/#term_Populationestimates<br/>\n",
    "<sup>8 </sup> https://www.ncbi.nlm.nih.gov/pmc/articles/PMC3291438/<br/>"
   ]
  },
  {
   "cell_type": "markdown",
   "metadata": {
    "colab_type": "text",
    "id": "Vhsi42bouKci"
   },
   "source": [
    "# Acknowledgements \n",
    "This kaggle challenge provided by General Assembly is sponsored by the Robert Wood Johnson Foundation. Data is provided by the Chicago Department of Public Health."
   ]
  }
 ],
 "metadata": {
  "colab": {
   "collapsed_sections": [],
   "name": "Project 4.ipynb",
   "provenance": []
  },
  "kernelspec": {
   "display_name": "Python 3",
   "language": "python",
   "name": "python3"
  },
  "language_info": {
   "codemirror_mode": {
    "name": "ipython",
    "version": 3
   },
   "file_extension": ".py",
   "mimetype": "text/x-python",
   "name": "python",
   "nbconvert_exporter": "python",
   "pygments_lexer": "ipython3",
   "version": "3.7.6"
  }
 },
 "nbformat": 4,
 "nbformat_minor": 1
}
